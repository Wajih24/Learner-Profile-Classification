{
 "cells": [
  {
   "cell_type": "code",
   "execution_count": 496,
   "id": "7c57197e",
   "metadata": {},
   "outputs": [],
   "source": [
    "import pandas as pd \n",
    "import plotly.express as px\n",
    "import matplotlib.pyplot as plt\n",
    "import plotly.graph_objects as go\n",
    "import seaborn as sns\n",
    "\n",
    "from sklearn.model_selection import train_test_split \n",
    "from sklearn.ensemble import RandomForestClassifier,AdaBoostClassifier\n",
    "from sklearn.metrics import *\n",
    "from sklearn.cluster import KMeans\n",
    "\n",
    "sorted_features = {}"
   ]
  },
  {
   "cell_type": "markdown",
   "id": "157d1cfa",
   "metadata": {},
   "source": [
    "# Learner Profile Classification"
   ]
  },
  {
   "cell_type": "markdown",
   "id": "15454303",
   "metadata": {},
   "source": [
    "## Path explanation :\n",
    "In the next we are going to work with each type sepratly, for each one of them we are going to extract the most important features that we will use in the correlation of the 3 datasets, some types are easy too work with and extract the most important features (Intelligence_type & Player_type), and other requires some extract work (trouble_type).\n",
    "##### So for part one we are going to perform these steps : \n",
    "1. Read & explore the dataset \n",
    "2. Do dataset Features Summry \n",
    "3. Vectorize the Caterogical columns \n",
    "4. Split the dataset and Train Type classifier \n",
    "5. Perform testing on the classifier and optimize the results \n",
    "6. Analyse the most important features and pick the most effective ones\n"
   ]
  },
  {
   "cell_type": "markdown",
   "id": "f1eebfa2",
   "metadata": {},
   "source": [
    "# Part 1 : Model training and Feature extraction"
   ]
  },
  {
   "cell_type": "markdown",
   "id": "6c0a60bc",
   "metadata": {},
   "source": [
    "# 1. Intelligence Type"
   ]
  },
  {
   "cell_type": "code",
   "execution_count": 497,
   "id": "619420f0",
   "metadata": {},
   "outputs": [
    {
     "data": {
      "text/html": [
       "<div>\n",
       "<style scoped>\n",
       "    .dataframe tbody tr th:only-of-type {\n",
       "        vertical-align: middle;\n",
       "    }\n",
       "\n",
       "    .dataframe tbody tr th {\n",
       "        vertical-align: top;\n",
       "    }\n",
       "\n",
       "    .dataframe thead th {\n",
       "        text-align: right;\n",
       "    }\n",
       "</style>\n",
       "<table border=\"1\" class=\"dataframe\">\n",
       "  <thead>\n",
       "    <tr style=\"text-align: right;\">\n",
       "      <th></th>\n",
       "      <th>Gender</th>\n",
       "      <th>Organizes activities with his friends</th>\n",
       "      <th>What are your strengths among these</th>\n",
       "      <th>What activity do you do most frequently?</th>\n",
       "      <th>have difficulty understanding what you have read?</th>\n",
       "      <th>FavoriteSubject</th>\n",
       "      <th>FavoriteGame</th>\n",
       "      <th>IntelligenceType</th>\n",
       "    </tr>\n",
       "  </thead>\n",
       "  <tbody>\n",
       "    <tr>\n",
       "      <th>0</th>\n",
       "      <td>Female</td>\n",
       "      <td>Gather and disassemble things</td>\n",
       "      <td>Has a good sense of coordination and is skille...</td>\n",
       "      <td>do sport activities regularly and continuously</td>\n",
       "      <td>Artist or Architect</td>\n",
       "      <td>Arts</td>\n",
       "      <td>Building games or maze games or drawing guess ...</td>\n",
       "      <td>Spatial</td>\n",
       "    </tr>\n",
       "    <tr>\n",
       "      <th>1</th>\n",
       "      <td>Male</td>\n",
       "      <td>Draws or scribbles drawings and looks at pictures</td>\n",
       "      <td>Easily remember the rhythm or music of commerc...</td>\n",
       "      <td>watches movies and views pictures a lot</td>\n",
       "      <td>Gardener or Biologist</td>\n",
       "      <td>Music</td>\n",
       "      <td>Pet simulator</td>\n",
       "      <td>Spatial</td>\n",
       "    </tr>\n",
       "    <tr>\n",
       "      <th>2</th>\n",
       "      <td>Male</td>\n",
       "      <td>Listen to music or plays an instrument</td>\n",
       "      <td>Easily remember the rhythm or music of commerc...</td>\n",
       "      <td>listens to many styles of music often and repe...</td>\n",
       "      <td>Psychiatrist or Salesman or Counselor</td>\n",
       "      <td>foreign languages</td>\n",
       "      <td>Guess the song games</td>\n",
       "      <td>Musical</td>\n",
       "    </tr>\n",
       "    <tr>\n",
       "      <th>3</th>\n",
       "      <td>Male</td>\n",
       "      <td>Draws or scribbles drawings and looks at pictures</td>\n",
       "      <td>decides for himself what he think to do and tr...</td>\n",
       "      <td>intereste in the environment in his daily acti...</td>\n",
       "      <td>Mathematics teacher or engineer</td>\n",
       "      <td>Biology and Earth</td>\n",
       "      <td>Sports games</td>\n",
       "      <td>Naturalistic</td>\n",
       "    </tr>\n",
       "    <tr>\n",
       "      <th>4</th>\n",
       "      <td>Female</td>\n",
       "      <td>Organizes activities with his friends</td>\n",
       "      <td>decides for himself what he think to do and tr...</td>\n",
       "      <td>asks a lot of questions about how things work ...</td>\n",
       "      <td>Psychiatrist or Salesman or Counselor</td>\n",
       "      <td>Maths</td>\n",
       "      <td>Sports games</td>\n",
       "      <td>Logico MathÃ©matique</td>\n",
       "    </tr>\n",
       "    <tr>\n",
       "      <th>...</th>\n",
       "      <td>...</td>\n",
       "      <td>...</td>\n",
       "      <td>...</td>\n",
       "      <td>...</td>\n",
       "      <td>...</td>\n",
       "      <td>...</td>\n",
       "      <td>...</td>\n",
       "      <td>...</td>\n",
       "    </tr>\n",
       "    <tr>\n",
       "      <th>995</th>\n",
       "      <td>Male</td>\n",
       "      <td>Gather and disassemble things</td>\n",
       "      <td>Easily remember the rhythm or music of commerc...</td>\n",
       "      <td>listens to many styles of music often and repe...</td>\n",
       "      <td>Artist or Architect</td>\n",
       "      <td>Maths</td>\n",
       "      <td>Building games or maze games or drawing guess ...</td>\n",
       "      <td>Spatial</td>\n",
       "    </tr>\n",
       "    <tr>\n",
       "      <th>996</th>\n",
       "      <td>Male</td>\n",
       "      <td>Gather and disassemble things</td>\n",
       "      <td>Has a good sense of coordination and is skille...</td>\n",
       "      <td>do sport activities regularly and continuously</td>\n",
       "      <td>Dancer or Athlete or Build</td>\n",
       "      <td>Maths</td>\n",
       "      <td>Sports games</td>\n",
       "      <td>Kinesthetic</td>\n",
       "    </tr>\n",
       "    <tr>\n",
       "      <th>997</th>\n",
       "      <td>Male</td>\n",
       "      <td>Draws or scribbles drawings and looks at pictures</td>\n",
       "      <td>Has a good sense of coordination and is skille...</td>\n",
       "      <td>listens to many styles of music often and repe...</td>\n",
       "      <td>Mathematics teacher or engineer</td>\n",
       "      <td>Physical education</td>\n",
       "      <td>Puzzle games or strategy games</td>\n",
       "      <td>Logico MathÃ©matique</td>\n",
       "    </tr>\n",
       "    <tr>\n",
       "      <th>998</th>\n",
       "      <td>Male</td>\n",
       "      <td>Gather and disassemble things</td>\n",
       "      <td>Has a good sense of coordination and is skille...</td>\n",
       "      <td>do sport activities regularly and continuously</td>\n",
       "      <td>Dancer or Athlete or Build</td>\n",
       "      <td>Physical education</td>\n",
       "      <td>Sports games</td>\n",
       "      <td>Kinesthetic</td>\n",
       "    </tr>\n",
       "    <tr>\n",
       "      <th>999</th>\n",
       "      <td>Female</td>\n",
       "      <td>Gather and disassemble things</td>\n",
       "      <td>Has a good sense of coordination and is skille...</td>\n",
       "      <td>do sport activities regularly and continuously</td>\n",
       "      <td>Artist or Architect</td>\n",
       "      <td>Arts</td>\n",
       "      <td>Puzzle games or strategy games</td>\n",
       "      <td>Kinesthetic</td>\n",
       "    </tr>\n",
       "  </tbody>\n",
       "</table>\n",
       "<p>1000 rows × 8 columns</p>\n",
       "</div>"
      ],
      "text/plain": [
       "     Gender              Organizes activities with his friends  \\\n",
       "0    Female                      Gather and disassemble things   \n",
       "1      Male  Draws or scribbles drawings and looks at pictures   \n",
       "2      Male             Listen to music or plays an instrument   \n",
       "3      Male  Draws or scribbles drawings and looks at pictures   \n",
       "4    Female              Organizes activities with his friends   \n",
       "..      ...                                                ...   \n",
       "995    Male                      Gather and disassemble things   \n",
       "996    Male                      Gather and disassemble things   \n",
       "997    Male  Draws or scribbles drawings and looks at pictures   \n",
       "998    Male                      Gather and disassemble things   \n",
       "999  Female                      Gather and disassemble things   \n",
       "\n",
       "                   What are your strengths among these  \\\n",
       "0    Has a good sense of coordination and is skille...   \n",
       "1    Easily remember the rhythm or music of commerc...   \n",
       "2    Easily remember the rhythm or music of commerc...   \n",
       "3    decides for himself what he think to do and tr...   \n",
       "4    decides for himself what he think to do and tr...   \n",
       "..                                                 ...   \n",
       "995  Easily remember the rhythm or music of commerc...   \n",
       "996  Has a good sense of coordination and is skille...   \n",
       "997  Has a good sense of coordination and is skille...   \n",
       "998  Has a good sense of coordination and is skille...   \n",
       "999  Has a good sense of coordination and is skille...   \n",
       "\n",
       "              What activity do you do most frequently?  \\\n",
       "0       do sport activities regularly and continuously   \n",
       "1              watches movies and views pictures a lot   \n",
       "2    listens to many styles of music often and repe...   \n",
       "3    intereste in the environment in his daily acti...   \n",
       "4    asks a lot of questions about how things work ...   \n",
       "..                                                 ...   \n",
       "995  listens to many styles of music often and repe...   \n",
       "996     do sport activities regularly and continuously   \n",
       "997  listens to many styles of music often and repe...   \n",
       "998     do sport activities regularly and continuously   \n",
       "999     do sport activities regularly and continuously   \n",
       "\n",
       "    have difficulty understanding what you have read?     FavoriteSubject  \\\n",
       "0                                 Artist or Architect                Arts   \n",
       "1                               Gardener or Biologist               Music   \n",
       "2               Psychiatrist or Salesman or Counselor   foreign languages   \n",
       "3                     Mathematics teacher or engineer   Biology and Earth   \n",
       "4               Psychiatrist or Salesman or Counselor               Maths   \n",
       "..                                                ...                 ...   \n",
       "995                               Artist or Architect               Maths   \n",
       "996                        Dancer or Athlete or Build               Maths   \n",
       "997                   Mathematics teacher or engineer  Physical education   \n",
       "998                        Dancer or Athlete or Build  Physical education   \n",
       "999                               Artist or Architect                Arts   \n",
       "\n",
       "                                          FavoriteGame      IntelligenceType  \n",
       "0    Building games or maze games or drawing guess ...               Spatial  \n",
       "1                                        Pet simulator               Spatial  \n",
       "2                                 Guess the song games               Musical  \n",
       "3                                         Sports games          Naturalistic  \n",
       "4                                         Sports games  Logico MathÃ©matique  \n",
       "..                                                 ...                   ...  \n",
       "995  Building games or maze games or drawing guess ...               Spatial  \n",
       "996                                       Sports games           Kinesthetic  \n",
       "997                     Puzzle games or strategy games  Logico MathÃ©matique  \n",
       "998                                       Sports games           Kinesthetic  \n",
       "999                     Puzzle games or strategy games           Kinesthetic  \n",
       "\n",
       "[1000 rows x 8 columns]"
      ]
     },
     "execution_count": 497,
     "metadata": {},
     "output_type": "execute_result"
    }
   ],
   "source": [
    "#Read the dataset\n",
    "intel_df = pd.read_excel(\"Data\\intel_competition.xlsx\")\n",
    "\n",
    "#In this case we need to remove the First id column \n",
    "del intel_df['Unnamed: 0']\n",
    "\n",
    "intel_df"
   ]
  },
  {
   "cell_type": "code",
   "execution_count": 498,
   "id": "cae023cc",
   "metadata": {},
   "outputs": [
    {
     "name": "stdout",
     "output_type": "stream",
     "text": [
      "Feature : 'Gender' has 2 classes\n",
      "Feature : 'Organizes activities with his friends' has 8 classes\n",
      "Feature : 'What are your strengths among these' has 8 classes\n",
      "Feature : 'What activity do you do most frequently?' has 8 classes\n",
      "Feature : 'have difficulty understanding what you have read?' has 8 classes\n",
      "Feature : 'FavoriteSubject' has 6 classes\n",
      "Feature : 'FavoriteGame' has 8 classes\n",
      "Feature : 'IntelligenceType' has 8 classes\n"
     ]
    }
   ],
   "source": [
    "for i in intel_df:\n",
    "    print(\"Feature : '{}' has {} classes\".format(i,len(set(intel_df[i]))))"
   ]
  },
  {
   "cell_type": "code",
   "execution_count": 499,
   "id": "8693f236",
   "metadata": {},
   "outputs": [
    {
     "data": {
      "application/vnd.plotly.v1+json": {
       "config": {
        "plotlyServerURL": "https://plot.ly"
       },
       "data": [
        {
         "marker": {
          "color": [
           "#AA0DFE",
           "#3283FE",
           "#85660D",
           "#782AB6",
           "#565656",
           "#1C8356",
           "#16FF32",
           "#F7E1A0",
           "#E2E2E2",
           "#1CBE4F",
           "#C4451C",
           "#DEA0FD",
           "#FE00FA",
           "#325A9B",
           "#FEAF16",
           "#F8A19F",
           "#90AD1C",
           "#F6222E",
           "#1CFFCE",
           "#2ED9FF",
           "#B10DA1",
           "#C075A6",
           "#FC1CBF",
           "#B00068",
           "#FBE426",
           "#FA0087"
          ]
         },
         "text": [
          "42",
          "39",
          "279",
          "178",
          "53",
          "38",
          "250",
          "121"
         ],
         "textposition": "auto",
         "type": "bar",
         "x": [
          "Linguistic",
          "Naturalistic",
          "Logico MathÃ©matique",
          "Kinesthetic",
          "Intra Personnelle",
          "Inter Personnelle",
          "Spatial",
          "Musical"
         ],
         "y": [
          42,
          39,
          279,
          178,
          53,
          38,
          250,
          121
         ]
        }
       ],
       "layout": {
        "template": {
         "data": {
          "bar": [
           {
            "error_x": {
             "color": "#2a3f5f"
            },
            "error_y": {
             "color": "#2a3f5f"
            },
            "marker": {
             "line": {
              "color": "#E5ECF6",
              "width": 0.5
             },
             "pattern": {
              "fillmode": "overlay",
              "size": 10,
              "solidity": 0.2
             }
            },
            "type": "bar"
           }
          ],
          "barpolar": [
           {
            "marker": {
             "line": {
              "color": "#E5ECF6",
              "width": 0.5
             },
             "pattern": {
              "fillmode": "overlay",
              "size": 10,
              "solidity": 0.2
             }
            },
            "type": "barpolar"
           }
          ],
          "carpet": [
           {
            "aaxis": {
             "endlinecolor": "#2a3f5f",
             "gridcolor": "white",
             "linecolor": "white",
             "minorgridcolor": "white",
             "startlinecolor": "#2a3f5f"
            },
            "baxis": {
             "endlinecolor": "#2a3f5f",
             "gridcolor": "white",
             "linecolor": "white",
             "minorgridcolor": "white",
             "startlinecolor": "#2a3f5f"
            },
            "type": "carpet"
           }
          ],
          "choropleth": [
           {
            "colorbar": {
             "outlinewidth": 0,
             "ticks": ""
            },
            "type": "choropleth"
           }
          ],
          "contour": [
           {
            "colorbar": {
             "outlinewidth": 0,
             "ticks": ""
            },
            "colorscale": [
             [
              0,
              "#0d0887"
             ],
             [
              0.1111111111111111,
              "#46039f"
             ],
             [
              0.2222222222222222,
              "#7201a8"
             ],
             [
              0.3333333333333333,
              "#9c179e"
             ],
             [
              0.4444444444444444,
              "#bd3786"
             ],
             [
              0.5555555555555556,
              "#d8576b"
             ],
             [
              0.6666666666666666,
              "#ed7953"
             ],
             [
              0.7777777777777778,
              "#fb9f3a"
             ],
             [
              0.8888888888888888,
              "#fdca26"
             ],
             [
              1,
              "#f0f921"
             ]
            ],
            "type": "contour"
           }
          ],
          "contourcarpet": [
           {
            "colorbar": {
             "outlinewidth": 0,
             "ticks": ""
            },
            "type": "contourcarpet"
           }
          ],
          "heatmap": [
           {
            "colorbar": {
             "outlinewidth": 0,
             "ticks": ""
            },
            "colorscale": [
             [
              0,
              "#0d0887"
             ],
             [
              0.1111111111111111,
              "#46039f"
             ],
             [
              0.2222222222222222,
              "#7201a8"
             ],
             [
              0.3333333333333333,
              "#9c179e"
             ],
             [
              0.4444444444444444,
              "#bd3786"
             ],
             [
              0.5555555555555556,
              "#d8576b"
             ],
             [
              0.6666666666666666,
              "#ed7953"
             ],
             [
              0.7777777777777778,
              "#fb9f3a"
             ],
             [
              0.8888888888888888,
              "#fdca26"
             ],
             [
              1,
              "#f0f921"
             ]
            ],
            "type": "heatmap"
           }
          ],
          "heatmapgl": [
           {
            "colorbar": {
             "outlinewidth": 0,
             "ticks": ""
            },
            "colorscale": [
             [
              0,
              "#0d0887"
             ],
             [
              0.1111111111111111,
              "#46039f"
             ],
             [
              0.2222222222222222,
              "#7201a8"
             ],
             [
              0.3333333333333333,
              "#9c179e"
             ],
             [
              0.4444444444444444,
              "#bd3786"
             ],
             [
              0.5555555555555556,
              "#d8576b"
             ],
             [
              0.6666666666666666,
              "#ed7953"
             ],
             [
              0.7777777777777778,
              "#fb9f3a"
             ],
             [
              0.8888888888888888,
              "#fdca26"
             ],
             [
              1,
              "#f0f921"
             ]
            ],
            "type": "heatmapgl"
           }
          ],
          "histogram": [
           {
            "marker": {
             "pattern": {
              "fillmode": "overlay",
              "size": 10,
              "solidity": 0.2
             }
            },
            "type": "histogram"
           }
          ],
          "histogram2d": [
           {
            "colorbar": {
             "outlinewidth": 0,
             "ticks": ""
            },
            "colorscale": [
             [
              0,
              "#0d0887"
             ],
             [
              0.1111111111111111,
              "#46039f"
             ],
             [
              0.2222222222222222,
              "#7201a8"
             ],
             [
              0.3333333333333333,
              "#9c179e"
             ],
             [
              0.4444444444444444,
              "#bd3786"
             ],
             [
              0.5555555555555556,
              "#d8576b"
             ],
             [
              0.6666666666666666,
              "#ed7953"
             ],
             [
              0.7777777777777778,
              "#fb9f3a"
             ],
             [
              0.8888888888888888,
              "#fdca26"
             ],
             [
              1,
              "#f0f921"
             ]
            ],
            "type": "histogram2d"
           }
          ],
          "histogram2dcontour": [
           {
            "colorbar": {
             "outlinewidth": 0,
             "ticks": ""
            },
            "colorscale": [
             [
              0,
              "#0d0887"
             ],
             [
              0.1111111111111111,
              "#46039f"
             ],
             [
              0.2222222222222222,
              "#7201a8"
             ],
             [
              0.3333333333333333,
              "#9c179e"
             ],
             [
              0.4444444444444444,
              "#bd3786"
             ],
             [
              0.5555555555555556,
              "#d8576b"
             ],
             [
              0.6666666666666666,
              "#ed7953"
             ],
             [
              0.7777777777777778,
              "#fb9f3a"
             ],
             [
              0.8888888888888888,
              "#fdca26"
             ],
             [
              1,
              "#f0f921"
             ]
            ],
            "type": "histogram2dcontour"
           }
          ],
          "mesh3d": [
           {
            "colorbar": {
             "outlinewidth": 0,
             "ticks": ""
            },
            "type": "mesh3d"
           }
          ],
          "parcoords": [
           {
            "line": {
             "colorbar": {
              "outlinewidth": 0,
              "ticks": ""
             }
            },
            "type": "parcoords"
           }
          ],
          "pie": [
           {
            "automargin": true,
            "type": "pie"
           }
          ],
          "scatter": [
           {
            "marker": {
             "colorbar": {
              "outlinewidth": 0,
              "ticks": ""
             }
            },
            "type": "scatter"
           }
          ],
          "scatter3d": [
           {
            "line": {
             "colorbar": {
              "outlinewidth": 0,
              "ticks": ""
             }
            },
            "marker": {
             "colorbar": {
              "outlinewidth": 0,
              "ticks": ""
             }
            },
            "type": "scatter3d"
           }
          ],
          "scattercarpet": [
           {
            "marker": {
             "colorbar": {
              "outlinewidth": 0,
              "ticks": ""
             }
            },
            "type": "scattercarpet"
           }
          ],
          "scattergeo": [
           {
            "marker": {
             "colorbar": {
              "outlinewidth": 0,
              "ticks": ""
             }
            },
            "type": "scattergeo"
           }
          ],
          "scattergl": [
           {
            "marker": {
             "colorbar": {
              "outlinewidth": 0,
              "ticks": ""
             }
            },
            "type": "scattergl"
           }
          ],
          "scattermapbox": [
           {
            "marker": {
             "colorbar": {
              "outlinewidth": 0,
              "ticks": ""
             }
            },
            "type": "scattermapbox"
           }
          ],
          "scatterpolar": [
           {
            "marker": {
             "colorbar": {
              "outlinewidth": 0,
              "ticks": ""
             }
            },
            "type": "scatterpolar"
           }
          ],
          "scatterpolargl": [
           {
            "marker": {
             "colorbar": {
              "outlinewidth": 0,
              "ticks": ""
             }
            },
            "type": "scatterpolargl"
           }
          ],
          "scatterternary": [
           {
            "marker": {
             "colorbar": {
              "outlinewidth": 0,
              "ticks": ""
             }
            },
            "type": "scatterternary"
           }
          ],
          "surface": [
           {
            "colorbar": {
             "outlinewidth": 0,
             "ticks": ""
            },
            "colorscale": [
             [
              0,
              "#0d0887"
             ],
             [
              0.1111111111111111,
              "#46039f"
             ],
             [
              0.2222222222222222,
              "#7201a8"
             ],
             [
              0.3333333333333333,
              "#9c179e"
             ],
             [
              0.4444444444444444,
              "#bd3786"
             ],
             [
              0.5555555555555556,
              "#d8576b"
             ],
             [
              0.6666666666666666,
              "#ed7953"
             ],
             [
              0.7777777777777778,
              "#fb9f3a"
             ],
             [
              0.8888888888888888,
              "#fdca26"
             ],
             [
              1,
              "#f0f921"
             ]
            ],
            "type": "surface"
           }
          ],
          "table": [
           {
            "cells": {
             "fill": {
              "color": "#EBF0F8"
             },
             "line": {
              "color": "white"
             }
            },
            "header": {
             "fill": {
              "color": "#C8D4E3"
             },
             "line": {
              "color": "white"
             }
            },
            "type": "table"
           }
          ]
         },
         "layout": {
          "annotationdefaults": {
           "arrowcolor": "#2a3f5f",
           "arrowhead": 0,
           "arrowwidth": 1
          },
          "autotypenumbers": "strict",
          "coloraxis": {
           "colorbar": {
            "outlinewidth": 0,
            "ticks": ""
           }
          },
          "colorscale": {
           "diverging": [
            [
             0,
             "#8e0152"
            ],
            [
             0.1,
             "#c51b7d"
            ],
            [
             0.2,
             "#de77ae"
            ],
            [
             0.3,
             "#f1b6da"
            ],
            [
             0.4,
             "#fde0ef"
            ],
            [
             0.5,
             "#f7f7f7"
            ],
            [
             0.6,
             "#e6f5d0"
            ],
            [
             0.7,
             "#b8e186"
            ],
            [
             0.8,
             "#7fbc41"
            ],
            [
             0.9,
             "#4d9221"
            ],
            [
             1,
             "#276419"
            ]
           ],
           "sequential": [
            [
             0,
             "#0d0887"
            ],
            [
             0.1111111111111111,
             "#46039f"
            ],
            [
             0.2222222222222222,
             "#7201a8"
            ],
            [
             0.3333333333333333,
             "#9c179e"
            ],
            [
             0.4444444444444444,
             "#bd3786"
            ],
            [
             0.5555555555555556,
             "#d8576b"
            ],
            [
             0.6666666666666666,
             "#ed7953"
            ],
            [
             0.7777777777777778,
             "#fb9f3a"
            ],
            [
             0.8888888888888888,
             "#fdca26"
            ],
            [
             1,
             "#f0f921"
            ]
           ],
           "sequentialminus": [
            [
             0,
             "#0d0887"
            ],
            [
             0.1111111111111111,
             "#46039f"
            ],
            [
             0.2222222222222222,
             "#7201a8"
            ],
            [
             0.3333333333333333,
             "#9c179e"
            ],
            [
             0.4444444444444444,
             "#bd3786"
            ],
            [
             0.5555555555555556,
             "#d8576b"
            ],
            [
             0.6666666666666666,
             "#ed7953"
            ],
            [
             0.7777777777777778,
             "#fb9f3a"
            ],
            [
             0.8888888888888888,
             "#fdca26"
            ],
            [
             1,
             "#f0f921"
            ]
           ]
          },
          "colorway": [
           "#636efa",
           "#EF553B",
           "#00cc96",
           "#ab63fa",
           "#FFA15A",
           "#19d3f3",
           "#FF6692",
           "#B6E880",
           "#FF97FF",
           "#FECB52"
          ],
          "font": {
           "color": "#2a3f5f"
          },
          "geo": {
           "bgcolor": "white",
           "lakecolor": "white",
           "landcolor": "#E5ECF6",
           "showlakes": true,
           "showland": true,
           "subunitcolor": "white"
          },
          "hoverlabel": {
           "align": "left"
          },
          "hovermode": "closest",
          "mapbox": {
           "style": "light"
          },
          "paper_bgcolor": "white",
          "plot_bgcolor": "#E5ECF6",
          "polar": {
           "angularaxis": {
            "gridcolor": "white",
            "linecolor": "white",
            "ticks": ""
           },
           "bgcolor": "#E5ECF6",
           "radialaxis": {
            "gridcolor": "white",
            "linecolor": "white",
            "ticks": ""
           }
          },
          "scene": {
           "xaxis": {
            "backgroundcolor": "#E5ECF6",
            "gridcolor": "white",
            "gridwidth": 2,
            "linecolor": "white",
            "showbackground": true,
            "ticks": "",
            "zerolinecolor": "white"
           },
           "yaxis": {
            "backgroundcolor": "#E5ECF6",
            "gridcolor": "white",
            "gridwidth": 2,
            "linecolor": "white",
            "showbackground": true,
            "ticks": "",
            "zerolinecolor": "white"
           },
           "zaxis": {
            "backgroundcolor": "#E5ECF6",
            "gridcolor": "white",
            "gridwidth": 2,
            "linecolor": "white",
            "showbackground": true,
            "ticks": "",
            "zerolinecolor": "white"
           }
          },
          "shapedefaults": {
           "line": {
            "color": "#2a3f5f"
           }
          },
          "ternary": {
           "aaxis": {
            "gridcolor": "white",
            "linecolor": "white",
            "ticks": ""
           },
           "baxis": {
            "gridcolor": "white",
            "linecolor": "white",
            "ticks": ""
           },
           "bgcolor": "#E5ECF6",
           "caxis": {
            "gridcolor": "white",
            "linecolor": "white",
            "ticks": ""
           }
          },
          "title": {
           "x": 0.05
          },
          "xaxis": {
           "automargin": true,
           "gridcolor": "white",
           "linecolor": "white",
           "ticks": "",
           "title": {
            "standoff": 15
           },
           "zerolinecolor": "white",
           "zerolinewidth": 2
          },
          "yaxis": {
           "automargin": true,
           "gridcolor": "white",
           "linecolor": "white",
           "ticks": "",
           "title": {
            "standoff": 15
           },
           "zerolinecolor": "white",
           "zerolinewidth": 2
          }
         }
        },
        "title": {
         "text": "Intelligence Types counts in the dataset "
        }
       }
      },
      "text/html": [
       "<div>                            <div id=\"48dbe2b4-ae6b-4828-9c9c-52386e882242\" class=\"plotly-graph-div\" style=\"height:525px; width:100%;\"></div>            <script type=\"text/javascript\">                require([\"plotly\"], function(Plotly) {                    window.PLOTLYENV=window.PLOTLYENV || {};                                    if (document.getElementById(\"48dbe2b4-ae6b-4828-9c9c-52386e882242\")) {                    Plotly.newPlot(                        \"48dbe2b4-ae6b-4828-9c9c-52386e882242\",                        [{\"marker\":{\"color\":[\"#AA0DFE\",\"#3283FE\",\"#85660D\",\"#782AB6\",\"#565656\",\"#1C8356\",\"#16FF32\",\"#F7E1A0\",\"#E2E2E2\",\"#1CBE4F\",\"#C4451C\",\"#DEA0FD\",\"#FE00FA\",\"#325A9B\",\"#FEAF16\",\"#F8A19F\",\"#90AD1C\",\"#F6222E\",\"#1CFFCE\",\"#2ED9FF\",\"#B10DA1\",\"#C075A6\",\"#FC1CBF\",\"#B00068\",\"#FBE426\",\"#FA0087\"]},\"text\":[\"42\",\"39\",\"279\",\"178\",\"53\",\"38\",\"250\",\"121\"],\"textposition\":\"auto\",\"type\":\"bar\",\"x\":[\"Linguistic\",\"Naturalistic\",\"Logico MathÃ©matique\",\"Kinesthetic\",\"Intra Personnelle\",\"Inter Personnelle\",\"Spatial\",\"Musical\"],\"y\":[42,39,279,178,53,38,250,121]}],                        {\"template\":{\"data\":{\"bar\":[{\"error_x\":{\"color\":\"#2a3f5f\"},\"error_y\":{\"color\":\"#2a3f5f\"},\"marker\":{\"line\":{\"color\":\"#E5ECF6\",\"width\":0.5},\"pattern\":{\"fillmode\":\"overlay\",\"size\":10,\"solidity\":0.2}},\"type\":\"bar\"}],\"barpolar\":[{\"marker\":{\"line\":{\"color\":\"#E5ECF6\",\"width\":0.5},\"pattern\":{\"fillmode\":\"overlay\",\"size\":10,\"solidity\":0.2}},\"type\":\"barpolar\"}],\"carpet\":[{\"aaxis\":{\"endlinecolor\":\"#2a3f5f\",\"gridcolor\":\"white\",\"linecolor\":\"white\",\"minorgridcolor\":\"white\",\"startlinecolor\":\"#2a3f5f\"},\"baxis\":{\"endlinecolor\":\"#2a3f5f\",\"gridcolor\":\"white\",\"linecolor\":\"white\",\"minorgridcolor\":\"white\",\"startlinecolor\":\"#2a3f5f\"},\"type\":\"carpet\"}],\"choropleth\":[{\"colorbar\":{\"outlinewidth\":0,\"ticks\":\"\"},\"type\":\"choropleth\"}],\"contour\":[{\"colorbar\":{\"outlinewidth\":0,\"ticks\":\"\"},\"colorscale\":[[0.0,\"#0d0887\"],[0.1111111111111111,\"#46039f\"],[0.2222222222222222,\"#7201a8\"],[0.3333333333333333,\"#9c179e\"],[0.4444444444444444,\"#bd3786\"],[0.5555555555555556,\"#d8576b\"],[0.6666666666666666,\"#ed7953\"],[0.7777777777777778,\"#fb9f3a\"],[0.8888888888888888,\"#fdca26\"],[1.0,\"#f0f921\"]],\"type\":\"contour\"}],\"contourcarpet\":[{\"colorbar\":{\"outlinewidth\":0,\"ticks\":\"\"},\"type\":\"contourcarpet\"}],\"heatmap\":[{\"colorbar\":{\"outlinewidth\":0,\"ticks\":\"\"},\"colorscale\":[[0.0,\"#0d0887\"],[0.1111111111111111,\"#46039f\"],[0.2222222222222222,\"#7201a8\"],[0.3333333333333333,\"#9c179e\"],[0.4444444444444444,\"#bd3786\"],[0.5555555555555556,\"#d8576b\"],[0.6666666666666666,\"#ed7953\"],[0.7777777777777778,\"#fb9f3a\"],[0.8888888888888888,\"#fdca26\"],[1.0,\"#f0f921\"]],\"type\":\"heatmap\"}],\"heatmapgl\":[{\"colorbar\":{\"outlinewidth\":0,\"ticks\":\"\"},\"colorscale\":[[0.0,\"#0d0887\"],[0.1111111111111111,\"#46039f\"],[0.2222222222222222,\"#7201a8\"],[0.3333333333333333,\"#9c179e\"],[0.4444444444444444,\"#bd3786\"],[0.5555555555555556,\"#d8576b\"],[0.6666666666666666,\"#ed7953\"],[0.7777777777777778,\"#fb9f3a\"],[0.8888888888888888,\"#fdca26\"],[1.0,\"#f0f921\"]],\"type\":\"heatmapgl\"}],\"histogram\":[{\"marker\":{\"pattern\":{\"fillmode\":\"overlay\",\"size\":10,\"solidity\":0.2}},\"type\":\"histogram\"}],\"histogram2d\":[{\"colorbar\":{\"outlinewidth\":0,\"ticks\":\"\"},\"colorscale\":[[0.0,\"#0d0887\"],[0.1111111111111111,\"#46039f\"],[0.2222222222222222,\"#7201a8\"],[0.3333333333333333,\"#9c179e\"],[0.4444444444444444,\"#bd3786\"],[0.5555555555555556,\"#d8576b\"],[0.6666666666666666,\"#ed7953\"],[0.7777777777777778,\"#fb9f3a\"],[0.8888888888888888,\"#fdca26\"],[1.0,\"#f0f921\"]],\"type\":\"histogram2d\"}],\"histogram2dcontour\":[{\"colorbar\":{\"outlinewidth\":0,\"ticks\":\"\"},\"colorscale\":[[0.0,\"#0d0887\"],[0.1111111111111111,\"#46039f\"],[0.2222222222222222,\"#7201a8\"],[0.3333333333333333,\"#9c179e\"],[0.4444444444444444,\"#bd3786\"],[0.5555555555555556,\"#d8576b\"],[0.6666666666666666,\"#ed7953\"],[0.7777777777777778,\"#fb9f3a\"],[0.8888888888888888,\"#fdca26\"],[1.0,\"#f0f921\"]],\"type\":\"histogram2dcontour\"}],\"mesh3d\":[{\"colorbar\":{\"outlinewidth\":0,\"ticks\":\"\"},\"type\":\"mesh3d\"}],\"parcoords\":[{\"line\":{\"colorbar\":{\"outlinewidth\":0,\"ticks\":\"\"}},\"type\":\"parcoords\"}],\"pie\":[{\"automargin\":true,\"type\":\"pie\"}],\"scatter\":[{\"marker\":{\"colorbar\":{\"outlinewidth\":0,\"ticks\":\"\"}},\"type\":\"scatter\"}],\"scatter3d\":[{\"line\":{\"colorbar\":{\"outlinewidth\":0,\"ticks\":\"\"}},\"marker\":{\"colorbar\":{\"outlinewidth\":0,\"ticks\":\"\"}},\"type\":\"scatter3d\"}],\"scattercarpet\":[{\"marker\":{\"colorbar\":{\"outlinewidth\":0,\"ticks\":\"\"}},\"type\":\"scattercarpet\"}],\"scattergeo\":[{\"marker\":{\"colorbar\":{\"outlinewidth\":0,\"ticks\":\"\"}},\"type\":\"scattergeo\"}],\"scattergl\":[{\"marker\":{\"colorbar\":{\"outlinewidth\":0,\"ticks\":\"\"}},\"type\":\"scattergl\"}],\"scattermapbox\":[{\"marker\":{\"colorbar\":{\"outlinewidth\":0,\"ticks\":\"\"}},\"type\":\"scattermapbox\"}],\"scatterpolar\":[{\"marker\":{\"colorbar\":{\"outlinewidth\":0,\"ticks\":\"\"}},\"type\":\"scatterpolar\"}],\"scatterpolargl\":[{\"marker\":{\"colorbar\":{\"outlinewidth\":0,\"ticks\":\"\"}},\"type\":\"scatterpolargl\"}],\"scatterternary\":[{\"marker\":{\"colorbar\":{\"outlinewidth\":0,\"ticks\":\"\"}},\"type\":\"scatterternary\"}],\"surface\":[{\"colorbar\":{\"outlinewidth\":0,\"ticks\":\"\"},\"colorscale\":[[0.0,\"#0d0887\"],[0.1111111111111111,\"#46039f\"],[0.2222222222222222,\"#7201a8\"],[0.3333333333333333,\"#9c179e\"],[0.4444444444444444,\"#bd3786\"],[0.5555555555555556,\"#d8576b\"],[0.6666666666666666,\"#ed7953\"],[0.7777777777777778,\"#fb9f3a\"],[0.8888888888888888,\"#fdca26\"],[1.0,\"#f0f921\"]],\"type\":\"surface\"}],\"table\":[{\"cells\":{\"fill\":{\"color\":\"#EBF0F8\"},\"line\":{\"color\":\"white\"}},\"header\":{\"fill\":{\"color\":\"#C8D4E3\"},\"line\":{\"color\":\"white\"}},\"type\":\"table\"}]},\"layout\":{\"annotationdefaults\":{\"arrowcolor\":\"#2a3f5f\",\"arrowhead\":0,\"arrowwidth\":1},\"autotypenumbers\":\"strict\",\"coloraxis\":{\"colorbar\":{\"outlinewidth\":0,\"ticks\":\"\"}},\"colorscale\":{\"diverging\":[[0,\"#8e0152\"],[0.1,\"#c51b7d\"],[0.2,\"#de77ae\"],[0.3,\"#f1b6da\"],[0.4,\"#fde0ef\"],[0.5,\"#f7f7f7\"],[0.6,\"#e6f5d0\"],[0.7,\"#b8e186\"],[0.8,\"#7fbc41\"],[0.9,\"#4d9221\"],[1,\"#276419\"]],\"sequential\":[[0.0,\"#0d0887\"],[0.1111111111111111,\"#46039f\"],[0.2222222222222222,\"#7201a8\"],[0.3333333333333333,\"#9c179e\"],[0.4444444444444444,\"#bd3786\"],[0.5555555555555556,\"#d8576b\"],[0.6666666666666666,\"#ed7953\"],[0.7777777777777778,\"#fb9f3a\"],[0.8888888888888888,\"#fdca26\"],[1.0,\"#f0f921\"]],\"sequentialminus\":[[0.0,\"#0d0887\"],[0.1111111111111111,\"#46039f\"],[0.2222222222222222,\"#7201a8\"],[0.3333333333333333,\"#9c179e\"],[0.4444444444444444,\"#bd3786\"],[0.5555555555555556,\"#d8576b\"],[0.6666666666666666,\"#ed7953\"],[0.7777777777777778,\"#fb9f3a\"],[0.8888888888888888,\"#fdca26\"],[1.0,\"#f0f921\"]]},\"colorway\":[\"#636efa\",\"#EF553B\",\"#00cc96\",\"#ab63fa\",\"#FFA15A\",\"#19d3f3\",\"#FF6692\",\"#B6E880\",\"#FF97FF\",\"#FECB52\"],\"font\":{\"color\":\"#2a3f5f\"},\"geo\":{\"bgcolor\":\"white\",\"lakecolor\":\"white\",\"landcolor\":\"#E5ECF6\",\"showlakes\":true,\"showland\":true,\"subunitcolor\":\"white\"},\"hoverlabel\":{\"align\":\"left\"},\"hovermode\":\"closest\",\"mapbox\":{\"style\":\"light\"},\"paper_bgcolor\":\"white\",\"plot_bgcolor\":\"#E5ECF6\",\"polar\":{\"angularaxis\":{\"gridcolor\":\"white\",\"linecolor\":\"white\",\"ticks\":\"\"},\"bgcolor\":\"#E5ECF6\",\"radialaxis\":{\"gridcolor\":\"white\",\"linecolor\":\"white\",\"ticks\":\"\"}},\"scene\":{\"xaxis\":{\"backgroundcolor\":\"#E5ECF6\",\"gridcolor\":\"white\",\"gridwidth\":2,\"linecolor\":\"white\",\"showbackground\":true,\"ticks\":\"\",\"zerolinecolor\":\"white\"},\"yaxis\":{\"backgroundcolor\":\"#E5ECF6\",\"gridcolor\":\"white\",\"gridwidth\":2,\"linecolor\":\"white\",\"showbackground\":true,\"ticks\":\"\",\"zerolinecolor\":\"white\"},\"zaxis\":{\"backgroundcolor\":\"#E5ECF6\",\"gridcolor\":\"white\",\"gridwidth\":2,\"linecolor\":\"white\",\"showbackground\":true,\"ticks\":\"\",\"zerolinecolor\":\"white\"}},\"shapedefaults\":{\"line\":{\"color\":\"#2a3f5f\"}},\"ternary\":{\"aaxis\":{\"gridcolor\":\"white\",\"linecolor\":\"white\",\"ticks\":\"\"},\"baxis\":{\"gridcolor\":\"white\",\"linecolor\":\"white\",\"ticks\":\"\"},\"bgcolor\":\"#E5ECF6\",\"caxis\":{\"gridcolor\":\"white\",\"linecolor\":\"white\",\"ticks\":\"\"}},\"title\":{\"x\":0.05},\"xaxis\":{\"automargin\":true,\"gridcolor\":\"white\",\"linecolor\":\"white\",\"ticks\":\"\",\"title\":{\"standoff\":15},\"zerolinecolor\":\"white\",\"zerolinewidth\":2},\"yaxis\":{\"automargin\":true,\"gridcolor\":\"white\",\"linecolor\":\"white\",\"ticks\":\"\",\"title\":{\"standoff\":15},\"zerolinecolor\":\"white\",\"zerolinewidth\":2}}},\"title\":{\"text\":\"Intelligence Types counts in the dataset \"}},                        {\"responsive\": true}                    ).then(function(){\n",
       "                            \n",
       "var gd = document.getElementById('48dbe2b4-ae6b-4828-9c9c-52386e882242');\n",
       "var x = new MutationObserver(function (mutations, observer) {{\n",
       "        var display = window.getComputedStyle(gd).display;\n",
       "        if (!display || display === 'none') {{\n",
       "            console.log([gd, 'removed!']);\n",
       "            Plotly.purge(gd);\n",
       "            observer.disconnect();\n",
       "        }}\n",
       "}});\n",
       "\n",
       "// Listen for the removal of the full notebook cells\n",
       "var notebookContainer = gd.closest('#notebook-container');\n",
       "if (notebookContainer) {{\n",
       "    x.observe(notebookContainer, {childList: true});\n",
       "}}\n",
       "\n",
       "// Listen for the clearing of the current output cell\n",
       "var outputEl = gd.closest('.output');\n",
       "if (outputEl) {{\n",
       "    x.observe(outputEl, {childList: true});\n",
       "}}\n",
       "\n",
       "                        })                };                });            </script>        </div>"
      ]
     },
     "metadata": {},
     "output_type": "display_data"
    }
   ],
   "source": [
    "labels = set(intel_df['IntelligenceType'])\n",
    "labels_val = list(intel_df['IntelligenceType'])\n",
    "types = {}\n",
    "for i in labels :\n",
    "    types[i]= labels_val.count(i)\n",
    "colors= px.colors.qualitative.Alphabet\n",
    "fig = (go.Figure([go.Bar(x=list(types.keys()), y=list(types.values()),text=list(types.values()),textposition='auto',marker_color=colors)]))\n",
    "fig.update_layout( title=\"Intelligence Types counts in the dataset \")\n",
    "fig.show()"
   ]
  },
  {
   "cell_type": "code",
   "execution_count": 500,
   "id": "cd73d75e",
   "metadata": {},
   "outputs": [
    {
     "data": {
      "text/html": [
       "<div>\n",
       "<style scoped>\n",
       "    .dataframe tbody tr th:only-of-type {\n",
       "        vertical-align: middle;\n",
       "    }\n",
       "\n",
       "    .dataframe tbody tr th {\n",
       "        vertical-align: top;\n",
       "    }\n",
       "\n",
       "    .dataframe thead th {\n",
       "        text-align: right;\n",
       "    }\n",
       "</style>\n",
       "<table border=\"1\" class=\"dataframe\">\n",
       "  <thead>\n",
       "    <tr style=\"text-align: right;\">\n",
       "      <th></th>\n",
       "      <th>Gender</th>\n",
       "      <th>Organizes activities with his friends</th>\n",
       "      <th>What are your strengths among these</th>\n",
       "      <th>What activity do you do most frequently?</th>\n",
       "      <th>have difficulty understanding what you have read?</th>\n",
       "      <th>FavoriteSubject</th>\n",
       "      <th>FavoriteGame</th>\n",
       "      <th>IntelligenceType</th>\n",
       "    </tr>\n",
       "  </thead>\n",
       "  <tbody>\n",
       "    <tr>\n",
       "      <th>0</th>\n",
       "      <td>0</td>\n",
       "      <td>0</td>\n",
       "      <td>0</td>\n",
       "      <td>0</td>\n",
       "      <td>0</td>\n",
       "      <td>0</td>\n",
       "      <td>0</td>\n",
       "      <td>0</td>\n",
       "    </tr>\n",
       "    <tr>\n",
       "      <th>1</th>\n",
       "      <td>1</td>\n",
       "      <td>1</td>\n",
       "      <td>1</td>\n",
       "      <td>1</td>\n",
       "      <td>1</td>\n",
       "      <td>1</td>\n",
       "      <td>1</td>\n",
       "      <td>0</td>\n",
       "    </tr>\n",
       "    <tr>\n",
       "      <th>2</th>\n",
       "      <td>1</td>\n",
       "      <td>2</td>\n",
       "      <td>1</td>\n",
       "      <td>2</td>\n",
       "      <td>2</td>\n",
       "      <td>2</td>\n",
       "      <td>2</td>\n",
       "      <td>1</td>\n",
       "    </tr>\n",
       "    <tr>\n",
       "      <th>3</th>\n",
       "      <td>1</td>\n",
       "      <td>1</td>\n",
       "      <td>2</td>\n",
       "      <td>3</td>\n",
       "      <td>3</td>\n",
       "      <td>3</td>\n",
       "      <td>3</td>\n",
       "      <td>2</td>\n",
       "    </tr>\n",
       "    <tr>\n",
       "      <th>4</th>\n",
       "      <td>0</td>\n",
       "      <td>3</td>\n",
       "      <td>2</td>\n",
       "      <td>4</td>\n",
       "      <td>2</td>\n",
       "      <td>4</td>\n",
       "      <td>3</td>\n",
       "      <td>3</td>\n",
       "    </tr>\n",
       "    <tr>\n",
       "      <th>...</th>\n",
       "      <td>...</td>\n",
       "      <td>...</td>\n",
       "      <td>...</td>\n",
       "      <td>...</td>\n",
       "      <td>...</td>\n",
       "      <td>...</td>\n",
       "      <td>...</td>\n",
       "      <td>...</td>\n",
       "    </tr>\n",
       "    <tr>\n",
       "      <th>995</th>\n",
       "      <td>1</td>\n",
       "      <td>0</td>\n",
       "      <td>1</td>\n",
       "      <td>2</td>\n",
       "      <td>0</td>\n",
       "      <td>4</td>\n",
       "      <td>0</td>\n",
       "      <td>0</td>\n",
       "    </tr>\n",
       "    <tr>\n",
       "      <th>996</th>\n",
       "      <td>1</td>\n",
       "      <td>0</td>\n",
       "      <td>0</td>\n",
       "      <td>0</td>\n",
       "      <td>4</td>\n",
       "      <td>4</td>\n",
       "      <td>3</td>\n",
       "      <td>4</td>\n",
       "    </tr>\n",
       "    <tr>\n",
       "      <th>997</th>\n",
       "      <td>1</td>\n",
       "      <td>1</td>\n",
       "      <td>0</td>\n",
       "      <td>2</td>\n",
       "      <td>3</td>\n",
       "      <td>5</td>\n",
       "      <td>6</td>\n",
       "      <td>3</td>\n",
       "    </tr>\n",
       "    <tr>\n",
       "      <th>998</th>\n",
       "      <td>1</td>\n",
       "      <td>0</td>\n",
       "      <td>0</td>\n",
       "      <td>0</td>\n",
       "      <td>4</td>\n",
       "      <td>5</td>\n",
       "      <td>3</td>\n",
       "      <td>4</td>\n",
       "    </tr>\n",
       "    <tr>\n",
       "      <th>999</th>\n",
       "      <td>0</td>\n",
       "      <td>0</td>\n",
       "      <td>0</td>\n",
       "      <td>0</td>\n",
       "      <td>0</td>\n",
       "      <td>0</td>\n",
       "      <td>6</td>\n",
       "      <td>4</td>\n",
       "    </tr>\n",
       "  </tbody>\n",
       "</table>\n",
       "<p>1000 rows × 8 columns</p>\n",
       "</div>"
      ],
      "text/plain": [
       "     Gender  Organizes activities with his friends  \\\n",
       "0         0                                      0   \n",
       "1         1                                      1   \n",
       "2         1                                      2   \n",
       "3         1                                      1   \n",
       "4         0                                      3   \n",
       "..      ...                                    ...   \n",
       "995       1                                      0   \n",
       "996       1                                      0   \n",
       "997       1                                      1   \n",
       "998       1                                      0   \n",
       "999       0                                      0   \n",
       "\n",
       "     What are your strengths among these  \\\n",
       "0                                      0   \n",
       "1                                      1   \n",
       "2                                      1   \n",
       "3                                      2   \n",
       "4                                      2   \n",
       "..                                   ...   \n",
       "995                                    1   \n",
       "996                                    0   \n",
       "997                                    0   \n",
       "998                                    0   \n",
       "999                                    0   \n",
       "\n",
       "     What activity do you do most frequently?  \\\n",
       "0                                           0   \n",
       "1                                           1   \n",
       "2                                           2   \n",
       "3                                           3   \n",
       "4                                           4   \n",
       "..                                        ...   \n",
       "995                                         2   \n",
       "996                                         0   \n",
       "997                                         2   \n",
       "998                                         0   \n",
       "999                                         0   \n",
       "\n",
       "     have difficulty understanding what you have read?  FavoriteSubject  \\\n",
       "0                                                    0                0   \n",
       "1                                                    1                1   \n",
       "2                                                    2                2   \n",
       "3                                                    3                3   \n",
       "4                                                    2                4   \n",
       "..                                                 ...              ...   \n",
       "995                                                  0                4   \n",
       "996                                                  4                4   \n",
       "997                                                  3                5   \n",
       "998                                                  4                5   \n",
       "999                                                  0                0   \n",
       "\n",
       "     FavoriteGame  IntelligenceType  \n",
       "0               0                 0  \n",
       "1               1                 0  \n",
       "2               2                 1  \n",
       "3               3                 2  \n",
       "4               3                 3  \n",
       "..            ...               ...  \n",
       "995             0                 0  \n",
       "996             3                 4  \n",
       "997             6                 3  \n",
       "998             3                 4  \n",
       "999             6                 4  \n",
       "\n",
       "[1000 rows x 8 columns]"
      ]
     },
     "execution_count": 500,
     "metadata": {},
     "output_type": "execute_result"
    }
   ],
   "source": [
    "#Factorize the dataset for the next splitting and training phase (factorize means we transform from categorical to numerical )\n",
    "#Transform into a new copy and keep the original \n",
    "intel_new = intel_df.apply(lambda x: pd.factorize(x)[0])\n",
    "intel_new"
   ]
  },
  {
   "cell_type": "code",
   "execution_count": 501,
   "id": "16eb64cb",
   "metadata": {},
   "outputs": [
    {
     "data": {
      "text/plain": [
       "{'Gender': {'Female': 0, 'Male': 1},\n",
       " 'Organizes activities with his friends': {'Gather and disassemble things': 0,\n",
       "  'Draws or scribbles drawings and looks at pictures': 1,\n",
       "  'Listen to music or plays an instrument': 2,\n",
       "  'Organizes activities with his friends': 3,\n",
       "  'Spend a lot of time outdoors and identifie plants and animals or insects': 4,\n",
       "  'Invent write and tell stories': 5,\n",
       "  'Writes his diary or expresses his feelings in poems or only practices certain hobbies': 6,\n",
       "  'Perform scientific experiments': 7},\n",
       " 'What are your strengths among these': {'Has a good sense of coordination and is skilled in many sporting or physical activities': 0,\n",
       "  'Easily remember the rhythm or music of commercials': 1,\n",
       "  'decides for himself what he think to do and tracks his personal interests alone': 2,\n",
       "  'has the ability to easily recognize birds plants and trees': 3,\n",
       "  'expresses himself with a rich vocabulary': 4,\n",
       "  'easily talks to people he does not know and easily perceives their feelings': 5,\n",
       "  'solve complex problems easily and have the ability to do mental math quickly': 6,\n",
       "  'Read maps charts and graphs without difficulty and is well noticeable': 7},\n",
       " 'What activity do you do most frequently?': {'do sport activities regularly and continuously': 0,\n",
       "  'watches movies and views pictures a lot': 1,\n",
       "  'listens to many styles of music often and repeats the song aloud': 2,\n",
       "  'intereste in the environment in his daily actions and learns new things about nature': 3,\n",
       "  'asks a lot of questions about how things work or about the causes of a phenomenon or event': 4,\n",
       "  'reacts strongly to controversial opinions': 5,\n",
       "  'Read a lot': 6,\n",
       "  'Participate in social or sports clubs': 7},\n",
       " 'have difficulty understanding what you have read?': {'Artist or Architect': 0,\n",
       "  'Gardener or Biologist': 1,\n",
       "  'Psychiatrist or Salesman or Counselor': 2,\n",
       "  'Mathematics teacher or engineer': 3,\n",
       "  'Dancer or Athlete or Build': 4,\n",
       "  'Singer or Music Teacher': 5,\n",
       "  'writer': 6,\n",
       "  'Journalist or lawyer': 7},\n",
       " 'FavoriteSubject': {'Arts': 0,\n",
       "  'Music': 1,\n",
       "  'foreign languages': 2,\n",
       "  'Biology and Earth': 3,\n",
       "  'Maths': 4,\n",
       "  'Physical education': 5},\n",
       " 'FavoriteGame': {'Building games or maze games or drawing guess games': 0,\n",
       "  'Pet simulator': 1,\n",
       "  'Guess the song games': 2,\n",
       "  'Sports games': 3,\n",
       "  'Individual games': 4,\n",
       "  'Board games or card games': 5,\n",
       "  'Puzzle games or strategy games': 6,\n",
       "  'Scrabble and word games': 7},\n",
       " 'IntelligenceType': {'Spatial': 0,\n",
       "  'Musical': 1,\n",
       "  'Naturalistic': 2,\n",
       "  'Logico MathÃ©matique': 3,\n",
       "  'Kinesthetic': 4,\n",
       "  'Intra Personnelle': 5,\n",
       "  'Inter Personnelle': 6,\n",
       "  'Linguistic': 7}}"
      ]
     },
     "execution_count": 501,
     "metadata": {},
     "output_type": "execute_result"
    }
   ],
   "source": [
    "# In this case we need to save the original label by it's value in each feature, for example after fectorizing Male becomes 1 and Female becomes 0 \n",
    "labels = {}\n",
    "for i in intel_df : \n",
    "    labels[i] = {}\n",
    "\n",
    "for i in intel_df :\n",
    "    for j in range(len(intel_df[i])):\n",
    "        labels[i][intel_df[i][j]] = intel_new[i][j]\n",
    "        \n",
    "labels"
   ]
  },
  {
   "cell_type": "code",
   "execution_count": 502,
   "id": "0541e305",
   "metadata": {},
   "outputs": [
    {
     "name": "stdout",
     "output_type": "stream",
     "text": [
      "(800, 7) (200, 7) (800,) (200,)\n"
     ]
    }
   ],
   "source": [
    "#Split the data into features and gold label\n",
    "X = intel_new.iloc[:,0:-1] #Data features \n",
    "Y = intel_new['IntelligenceType'] #Golden_Label (The prediction class)\n",
    "\n",
    "#Save the used features into a list to use them in the features importance part\n",
    "intel_features = list( X.columns)\n",
    "\n",
    "#split the dataset\n",
    "X_train, X_test, y_train, y_test = train_test_split(X,Y,test_size = 0.2, random_state = 0)\n",
    "print(X_train.shape,X_test.shape,y_train.shape,y_test.shape)"
   ]
  },
  {
   "cell_type": "code",
   "execution_count": 503,
   "id": "99ce2656",
   "metadata": {},
   "outputs": [],
   "source": [
    "#Model creation and training \n",
    "forest = RandomForestClassifier( n_estimators = 400 , max_depth = 52, random_state = 0 )\n",
    "Model_intel = forest.fit(X_train,y_train)"
   ]
  },
  {
   "cell_type": "code",
   "execution_count": 504,
   "id": "f9b139d7",
   "metadata": {},
   "outputs": [
    {
     "name": "stdout",
     "output_type": "stream",
     "text": [
      "Metric scores :\n",
      " Accuracy: 85.50 %\n",
      " Precision: 77.54 %\n",
      " Recall: 87.95 %\n",
      " F1: 81.21 %\n",
      "\n",
      "Confusion Matrix :\n",
      "[[43  4  0  4  0  0  1  2]\n",
      " [ 1 20  0  0  0  1  0  0]\n",
      " [ 1  0  4  0  0  0  0  0]\n",
      " [ 1  1  1 52  1  3  2  3]\n",
      " [ 0  0  0  1 30  0  0  0]\n",
      " [ 0  0  0  0  0 11  1  0]\n",
      " [ 0  0  0  0  0  1  5  0]\n",
      " [ 0  0  0  0  0  0  0  6]]\n"
     ]
    }
   ],
   "source": [
    "#Prediction and score calculations\n",
    "intel_predictions = Model_intel.predict(X_test)\n",
    "\n",
    "accuracy = accuracy_score(intel_predictions,y_test)\n",
    "precision = precision_score(intel_predictions,y_test,average='macro')\n",
    "recall = recall_score(intel_predictions,y_test,average='macro')\n",
    "f1 = f1_score(intel_predictions,y_test,average='macro')\n",
    "\n",
    "print(\"Metric scores :\")\n",
    "print(\" Accuracy: {:.2f} %\".format(accuracy*100))\n",
    "print(\" Precision: {:.2f} %\".format(precision*100))\n",
    "print(\" Recall: {:.2f} %\".format(recall*100))\n",
    "print(\" F1: {:.2f} %\".format(f1*100))\n",
    "\n",
    "\n",
    "\n",
    "print(\"\\nConfusion Matrix :\")\n",
    "cm = confusion_matrix(intel_predictions, y_test)\n",
    "print(cm)"
   ]
  },
  {
   "cell_type": "code",
   "execution_count": 505,
   "id": "c806abd9",
   "metadata": {},
   "outputs": [
    {
     "name": "stdout",
     "output_type": "stream",
     "text": [
      "\n",
      "Classification Report :\n"
     ]
    },
    {
     "data": {
      "image/png": "[encoded data removed]",
      "text/plain": [
       "<Figure size 432x288 with 2 Axes>"
      ]
     },
     "metadata": {
      "needs_background": "light"
     },
     "output_type": "display_data"
    }
   ],
   "source": [
    "print(\"\\nClassification Report :\")\n",
    "clf_report = classification_report(intel_predictions,y_test,output_dict=True,target_names=list(set(intel_df['IntelligenceType'])))\n",
    "sns.heatmap(pd.DataFrame(clf_report).iloc[:-1, :].T, annot=True)\n",
    "plt.show()"
   ]
  },
  {
   "cell_type": "code",
   "execution_count": 506,
   "id": "1e526933",
   "metadata": {},
   "outputs": [
    {
     "data": {
      "application/vnd.plotly.v1+json": {
       "config": {
        "plotlyServerURL": "https://plot.ly"
       },
       "data": [
        {
         "alignmentgroup": "True",
         "hovertemplate": "x=%{x}<br>y=%{y}<br>text=%{text}<br>color=%{marker.color}<extra></extra>",
         "legendgroup": "",
         "marker": {
          "color": [
           0.2077,
           0.1783,
           0.1679,
           0.1452,
           0.144,
           0.128,
           0.029
          ],
          "coloraxis": "coloraxis",
          "pattern": {
           "shape": ""
          }
         },
         "name": "",
         "offsetgroup": "",
         "orientation": "v",
         "showlegend": false,
         "text": [
          "0.2077",
          "0.1783",
          "0.1679",
          "0.1452",
          "0.144",
          "0.128",
          "0.029"
         ],
         "textposition": "auto",
         "type": "bar",
         "x": [
          "What activity do you do most frequently?",
          "Organizes activities with his friends",
          "FavoriteGame",
          "What are your strengths among these",
          "have difficulty understanding what you have read?",
          "FavoriteSubject",
          "Gender"
         ],
         "xaxis": "x",
         "y": [
          0.2077,
          0.1783,
          0.1679,
          0.1452,
          0.144,
          0.128,
          0.029
         ],
         "yaxis": "y"
        }
       ],
       "layout": {
        "barmode": "relative",
        "coloraxis": {
         "colorbar": {
          "title": {
           "text": "color"
          }
         },
         "colorscale": [
          [
           0,
           "#0d0887"
          ],
          [
           0.1111111111111111,
           "#46039f"
          ],
          [
           0.2222222222222222,
           "#7201a8"
          ],
          [
           0.3333333333333333,
           "#9c179e"
          ],
          [
           0.4444444444444444,
           "#bd3786"
          ],
          [
           0.5555555555555556,
           "#d8576b"
          ],
          [
           0.6666666666666666,
           "#ed7953"
          ],
          [
           0.7777777777777778,
           "#fb9f3a"
          ],
          [
           0.8888888888888888,
           "#fdca26"
          ],
          [
           1,
           "#f0f921"
          ]
         ]
        },
        "legend": {
         "tracegroupgap": 0
        },
        "template": {
         "data": {
          "bar": [
           {
            "error_x": {
             "color": "#2a3f5f"
            },
            "error_y": {
             "color": "#2a3f5f"
            },
            "marker": {
             "line": {
              "color": "#E5ECF6",
              "width": 0.5
             },
             "pattern": {
              "fillmode": "overlay",
              "size": 10,
              "solidity": 0.2
             }
            },
            "type": "bar"
           }
          ],
          "barpolar": [
           {
            "marker": {
             "line": {
              "color": "#E5ECF6",
              "width": 0.5
             },
             "pattern": {
              "fillmode": "overlay",
              "size": 10,
              "solidity": 0.2
             }
            },
            "type": "barpolar"
           }
          ],
          "carpet": [
           {
            "aaxis": {
             "endlinecolor": "#2a3f5f",
             "gridcolor": "white",
             "linecolor": "white",
             "minorgridcolor": "white",
             "startlinecolor": "#2a3f5f"
            },
            "baxis": {
             "endlinecolor": "#2a3f5f",
             "gridcolor": "white",
             "linecolor": "white",
             "minorgridcolor": "white",
             "startlinecolor": "#2a3f5f"
            },
            "type": "carpet"
           }
          ],
          "choropleth": [
           {
            "colorbar": {
             "outlinewidth": 0,
             "ticks": ""
            },
            "type": "choropleth"
           }
          ],
          "contour": [
           {
            "colorbar": {
             "outlinewidth": 0,
             "ticks": ""
            },
            "colorscale": [
             [
              0,
              "#0d0887"
             ],
             [
              0.1111111111111111,
              "#46039f"
             ],
             [
              0.2222222222222222,
              "#7201a8"
             ],
             [
              0.3333333333333333,
              "#9c179e"
             ],
             [
              0.4444444444444444,
              "#bd3786"
             ],
             [
              0.5555555555555556,
              "#d8576b"
             ],
             [
              0.6666666666666666,
              "#ed7953"
             ],
             [
              0.7777777777777778,
              "#fb9f3a"
             ],
             [
              0.8888888888888888,
              "#fdca26"
             ],
             [
              1,
              "#f0f921"
             ]
            ],
            "type": "contour"
           }
          ],
          "contourcarpet": [
           {
            "colorbar": {
             "outlinewidth": 0,
             "ticks": ""
            },
            "type": "contourcarpet"
           }
          ],
          "heatmap": [
           {
            "colorbar": {
             "outlinewidth": 0,
             "ticks": ""
            },
            "colorscale": [
             [
              0,
              "#0d0887"
             ],
             [
              0.1111111111111111,
              "#46039f"
             ],
             [
              0.2222222222222222,
              "#7201a8"
             ],
             [
              0.3333333333333333,
              "#9c179e"
             ],
             [
              0.4444444444444444,
              "#bd3786"
             ],
             [
              0.5555555555555556,
              "#d8576b"
             ],
             [
              0.6666666666666666,
              "#ed7953"
             ],
             [
              0.7777777777777778,
              "#fb9f3a"
             ],
             [
              0.8888888888888888,
              "#fdca26"
             ],
             [
              1,
              "#f0f921"
             ]
            ],
            "type": "heatmap"
           }
          ],
          "heatmapgl": [
           {
            "colorbar": {
             "outlinewidth": 0,
             "ticks": ""
            },
            "colorscale": [
             [
              0,
              "#0d0887"
             ],
             [
              0.1111111111111111,
              "#46039f"
             ],
             [
              0.2222222222222222,
              "#7201a8"
             ],
             [
              0.3333333333333333,
              "#9c179e"
             ],
             [
              0.4444444444444444,
              "#bd3786"
             ],
             [
              0.5555555555555556,
              "#d8576b"
             ],
             [
              0.6666666666666666,
              "#ed7953"
             ],
             [
              0.7777777777777778,
              "#fb9f3a"
             ],
             [
              0.8888888888888888,
              "#fdca26"
             ],
             [
              1,
              "#f0f921"
             ]
            ],
            "type": "heatmapgl"
           }
          ],
          "histogram": [
           {
            "marker": {
             "pattern": {
              "fillmode": "overlay",
              "size": 10,
              "solidity": 0.2
             }
            },
            "type": "histogram"
           }
          ],
          "histogram2d": [
           {
            "colorbar": {
             "outlinewidth": 0,
             "ticks": ""
            },
            "colorscale": [
             [
              0,
              "#0d0887"
             ],
             [
              0.1111111111111111,
              "#46039f"
             ],
             [
              0.2222222222222222,
              "#7201a8"
             ],
             [
              0.3333333333333333,
              "#9c179e"
             ],
             [
              0.4444444444444444,
              "#bd3786"
             ],
             [
              0.5555555555555556,
              "#d8576b"
             ],
             [
              0.6666666666666666,
              "#ed7953"
             ],
             [
              0.7777777777777778,
              "#fb9f3a"
             ],
             [
              0.8888888888888888,
              "#fdca26"
             ],
             [
              1,
              "#f0f921"
             ]
            ],
            "type": "histogram2d"
           }
          ],
          "histogram2dcontour": [
           {
            "colorbar": {
             "outlinewidth": 0,
             "ticks": ""
            },
            "colorscale": [
             [
              0,
              "#0d0887"
             ],
             [
              0.1111111111111111,
              "#46039f"
             ],
             [
              0.2222222222222222,
              "#7201a8"
             ],
             [
              0.3333333333333333,
              "#9c179e"
             ],
             [
              0.4444444444444444,
              "#bd3786"
             ],
             [
              0.5555555555555556,
              "#d8576b"
             ],
             [
              0.6666666666666666,
              "#ed7953"
             ],
             [
              0.7777777777777778,
              "#fb9f3a"
             ],
             [
              0.8888888888888888,
              "#fdca26"
             ],
             [
              1,
              "#f0f921"
             ]
            ],
            "type": "histogram2dcontour"
           }
          ],
          "mesh3d": [
           {
            "colorbar": {
             "outlinewidth": 0,
             "ticks": ""
            },
            "type": "mesh3d"
           }
          ],
          "parcoords": [
           {
            "line": {
             "colorbar": {
              "outlinewidth": 0,
              "ticks": ""
             }
            },
            "type": "parcoords"
           }
          ],
          "pie": [
           {
            "automargin": true,
            "type": "pie"
           }
          ],
          "scatter": [
           {
            "marker": {
             "colorbar": {
              "outlinewidth": 0,
              "ticks": ""
             }
            },
            "type": "scatter"
           }
          ],
          "scatter3d": [
           {
            "line": {
             "colorbar": {
              "outlinewidth": 0,
              "ticks": ""
             }
            },
            "marker": {
             "colorbar": {
              "outlinewidth": 0,
              "ticks": ""
             }
            },
            "type": "scatter3d"
           }
          ],
          "scattercarpet": [
           {
            "marker": {
             "colorbar": {
              "outlinewidth": 0,
              "ticks": ""
             }
            },
            "type": "scattercarpet"
           }
          ],
          "scattergeo": [
           {
            "marker": {
             "colorbar": {
              "outlinewidth": 0,
              "ticks": ""
             }
            },
            "type": "scattergeo"
           }
          ],
          "scattergl": [
           {
            "marker": {
             "colorbar": {
              "outlinewidth": 0,
              "ticks": ""
             }
            },
            "type": "scattergl"
           }
          ],
          "scattermapbox": [
           {
            "marker": {
             "colorbar": {
              "outlinewidth": 0,
              "ticks": ""
             }
            },
            "type": "scattermapbox"
           }
          ],
          "scatterpolar": [
           {
            "marker": {
             "colorbar": {
              "outlinewidth": 0,
              "ticks": ""
             }
            },
            "type": "scatterpolar"
           }
          ],
          "scatterpolargl": [
           {
            "marker": {
             "colorbar": {
              "outlinewidth": 0,
              "ticks": ""
             }
            },
            "type": "scatterpolargl"
           }
          ],
          "scatterternary": [
           {
            "marker": {
             "colorbar": {
              "outlinewidth": 0,
              "ticks": ""
             }
            },
            "type": "scatterternary"
           }
          ],
          "surface": [
           {
            "colorbar": {
             "outlinewidth": 0,
             "ticks": ""
            },
            "colorscale": [
             [
              0,
              "#0d0887"
             ],
             [
              0.1111111111111111,
              "#46039f"
             ],
             [
              0.2222222222222222,
              "#7201a8"
             ],
             [
              0.3333333333333333,
              "#9c179e"
             ],
             [
              0.4444444444444444,
              "#bd3786"
             ],
             [
              0.5555555555555556,
              "#d8576b"
             ],
             [
              0.6666666666666666,
              "#ed7953"
             ],
             [
              0.7777777777777778,
              "#fb9f3a"
             ],
             [
              0.8888888888888888,
              "#fdca26"
             ],
             [
              1,
              "#f0f921"
             ]
            ],
            "type": "surface"
           }
          ],
          "table": [
           {
            "cells": {
             "fill": {
              "color": "#EBF0F8"
             },
             "line": {
              "color": "white"
             }
            },
            "header": {
             "fill": {
              "color": "#C8D4E3"
             },
             "line": {
              "color": "white"
             }
            },
            "type": "table"
           }
          ]
         },
         "layout": {
          "annotationdefaults": {
           "arrowcolor": "#2a3f5f",
           "arrowhead": 0,
           "arrowwidth": 1
          },
          "autotypenumbers": "strict",
          "coloraxis": {
           "colorbar": {
            "outlinewidth": 0,
            "ticks": ""
           }
          },
          "colorscale": {
           "diverging": [
            [
             0,
             "#8e0152"
            ],
            [
             0.1,
             "#c51b7d"
            ],
            [
             0.2,
             "#de77ae"
            ],
            [
             0.3,
             "#f1b6da"
            ],
            [
             0.4,
             "#fde0ef"
            ],
            [
             0.5,
             "#f7f7f7"
            ],
            [
             0.6,
             "#e6f5d0"
            ],
            [
             0.7,
             "#b8e186"
            ],
            [
             0.8,
             "#7fbc41"
            ],
            [
             0.9,
             "#4d9221"
            ],
            [
             1,
             "#276419"
            ]
           ],
           "sequential": [
            [
             0,
             "#0d0887"
            ],
            [
             0.1111111111111111,
             "#46039f"
            ],
            [
             0.2222222222222222,
             "#7201a8"
            ],
            [
             0.3333333333333333,
             "#9c179e"
            ],
            [
             0.4444444444444444,
             "#bd3786"
            ],
            [
             0.5555555555555556,
             "#d8576b"
            ],
            [
             0.6666666666666666,
             "#ed7953"
            ],
            [
             0.7777777777777778,
             "#fb9f3a"
            ],
            [
             0.8888888888888888,
             "#fdca26"
            ],
            [
             1,
             "#f0f921"
            ]
           ],
           "sequentialminus": [
            [
             0,
             "#0d0887"
            ],
            [
             0.1111111111111111,
             "#46039f"
            ],
            [
             0.2222222222222222,
             "#7201a8"
            ],
            [
             0.3333333333333333,
             "#9c179e"
            ],
            [
             0.4444444444444444,
             "#bd3786"
            ],
            [
             0.5555555555555556,
             "#d8576b"
            ],
            [
             0.6666666666666666,
             "#ed7953"
            ],
            [
             0.7777777777777778,
             "#fb9f3a"
            ],
            [
             0.8888888888888888,
             "#fdca26"
            ],
            [
             1,
             "#f0f921"
            ]
           ]
          },
          "colorway": [
           "#636efa",
           "#EF553B",
           "#00cc96",
           "#ab63fa",
           "#FFA15A",
           "#19d3f3",
           "#FF6692",
           "#B6E880",
           "#FF97FF",
           "#FECB52"
          ],
          "font": {
           "color": "#2a3f5f"
          },
          "geo": {
           "bgcolor": "white",
           "lakecolor": "white",
           "landcolor": "#E5ECF6",
           "showlakes": true,
           "showland": true,
           "subunitcolor": "white"
          },
          "hoverlabel": {
           "align": "left"
          },
          "hovermode": "closest",
          "mapbox": {
           "style": "light"
          },
          "paper_bgcolor": "white",
          "plot_bgcolor": "#E5ECF6",
          "polar": {
           "angularaxis": {
            "gridcolor": "white",
            "linecolor": "white",
            "ticks": ""
           },
           "bgcolor": "#E5ECF6",
           "radialaxis": {
            "gridcolor": "white",
            "linecolor": "white",
            "ticks": ""
           }
          },
          "scene": {
           "xaxis": {
            "backgroundcolor": "#E5ECF6",
            "gridcolor": "white",
            "gridwidth": 2,
            "linecolor": "white",
            "showbackground": true,
            "ticks": "",
            "zerolinecolor": "white"
           },
           "yaxis": {
            "backgroundcolor": "#E5ECF6",
            "gridcolor": "white",
            "gridwidth": 2,
            "linecolor": "white",
            "showbackground": true,
            "ticks": "",
            "zerolinecolor": "white"
           },
           "zaxis": {
            "backgroundcolor": "#E5ECF6",
            "gridcolor": "white",
            "gridwidth": 2,
            "linecolor": "white",
            "showbackground": true,
            "ticks": "",
            "zerolinecolor": "white"
           }
          },
          "shapedefaults": {
           "line": {
            "color": "#2a3f5f"
           }
          },
          "ternary": {
           "aaxis": {
            "gridcolor": "white",
            "linecolor": "white",
            "ticks": ""
           },
           "baxis": {
            "gridcolor": "white",
            "linecolor": "white",
            "ticks": ""
           },
           "bgcolor": "#E5ECF6",
           "caxis": {
            "gridcolor": "white",
            "linecolor": "white",
            "ticks": ""
           }
          },
          "title": {
           "x": 0.05
          },
          "xaxis": {
           "automargin": true,
           "gridcolor": "white",
           "linecolor": "white",
           "ticks": "",
           "title": {
            "standoff": 15
           },
           "zerolinecolor": "white",
           "zerolinewidth": 2
          },
          "yaxis": {
           "automargin": true,
           "gridcolor": "white",
           "linecolor": "white",
           "ticks": "",
           "title": {
            "standoff": 15
           },
           "zerolinecolor": "white",
           "zerolinewidth": 2
          }
         }
        },
        "title": {
         "text": "Model Intelligence : The most effective features sorted"
        },
        "xaxis": {
         "anchor": "y",
         "domain": [
          0,
          1
         ],
         "title": {
          "text": "Features"
         }
        },
        "yaxis": {
         "anchor": "x",
         "domain": [
          0,
          1
         ],
         "title": {
          "text": "Imporatnce scores"
         }
        }
       }
      },
      "text/html": [
       "<div>                            <div id=\"f8a8ab01-404d-4a27-853b-a4520763ed69\" class=\"plotly-graph-div\" style=\"height:525px; width:100%;\"></div>            <script type=\"text/javascript\">                require([\"plotly\"], function(Plotly) {                    window.PLOTLYENV=window.PLOTLYENV || {};                                    if (document.getElementById(\"f8a8ab01-404d-4a27-853b-a4520763ed69\")) {                    Plotly.newPlot(                        \"f8a8ab01-404d-4a27-853b-a4520763ed69\",                        [{\"alignmentgroup\":\"True\",\"hovertemplate\":\"x=%{x}<br>y=%{y}<br>text=%{text}<br>color=%{marker.color}<extra></extra>\",\"legendgroup\":\"\",\"marker\":{\"color\":[0.2077,0.1783,0.1679,0.1452,0.144,0.128,0.029],\"coloraxis\":\"coloraxis\",\"pattern\":{\"shape\":\"\"}},\"name\":\"\",\"offsetgroup\":\"\",\"orientation\":\"v\",\"showlegend\":false,\"text\":[\"0.2077\",\"0.1783\",\"0.1679\",\"0.1452\",\"0.144\",\"0.128\",\"0.029\"],\"textposition\":\"auto\",\"type\":\"bar\",\"x\":[\"What activity do you do most frequently?\",\"Organizes activities with his friends\",\"FavoriteGame\",\"What are your strengths among these\",\"have difficulty understanding what you have read?\",\"FavoriteSubject\",\"Gender\"],\"xaxis\":\"x\",\"y\":[0.2077,0.1783,0.1679,0.1452,0.144,0.128,0.029],\"yaxis\":\"y\"}],                        {\"barmode\":\"relative\",\"coloraxis\":{\"colorbar\":{\"title\":{\"text\":\"color\"}},\"colorscale\":[[0.0,\"#0d0887\"],[0.1111111111111111,\"#46039f\"],[0.2222222222222222,\"#7201a8\"],[0.3333333333333333,\"#9c179e\"],[0.4444444444444444,\"#bd3786\"],[0.5555555555555556,\"#d8576b\"],[0.6666666666666666,\"#ed7953\"],[0.7777777777777778,\"#fb9f3a\"],[0.8888888888888888,\"#fdca26\"],[1.0,\"#f0f921\"]]},\"legend\":{\"tracegroupgap\":0},\"template\":{\"data\":{\"bar\":[{\"error_x\":{\"color\":\"#2a3f5f\"},\"error_y\":{\"color\":\"#2a3f5f\"},\"marker\":{\"line\":{\"color\":\"#E5ECF6\",\"width\":0.5},\"pattern\":{\"fillmode\":\"overlay\",\"size\":10,\"solidity\":0.2}},\"type\":\"bar\"}],\"barpolar\":[{\"marker\":{\"line\":{\"color\":\"#E5ECF6\",\"width\":0.5},\"pattern\":{\"fillmode\":\"overlay\",\"size\":10,\"solidity\":0.2}},\"type\":\"barpolar\"}],\"carpet\":[{\"aaxis\":{\"endlinecolor\":\"#2a3f5f\",\"gridcolor\":\"white\",\"linecolor\":\"white\",\"minorgridcolor\":\"white\",\"startlinecolor\":\"#2a3f5f\"},\"baxis\":{\"endlinecolor\":\"#2a3f5f\",\"gridcolor\":\"white\",\"linecolor\":\"white\",\"minorgridcolor\":\"white\",\"startlinecolor\":\"#2a3f5f\"},\"type\":\"carpet\"}],\"choropleth\":[{\"colorbar\":{\"outlinewidth\":0,\"ticks\":\"\"},\"type\":\"choropleth\"}],\"contour\":[{\"colorbar\":{\"outlinewidth\":0,\"ticks\":\"\"},\"colorscale\":[[0.0,\"#0d0887\"],[0.1111111111111111,\"#46039f\"],[0.2222222222222222,\"#7201a8\"],[0.3333333333333333,\"#9c179e\"],[0.4444444444444444,\"#bd3786\"],[0.5555555555555556,\"#d8576b\"],[0.6666666666666666,\"#ed7953\"],[0.7777777777777778,\"#fb9f3a\"],[0.8888888888888888,\"#fdca26\"],[1.0,\"#f0f921\"]],\"type\":\"contour\"}],\"contourcarpet\":[{\"colorbar\":{\"outlinewidth\":0,\"ticks\":\"\"},\"type\":\"contourcarpet\"}],\"heatmap\":[{\"colorbar\":{\"outlinewidth\":0,\"ticks\":\"\"},\"colorscale\":[[0.0,\"#0d0887\"],[0.1111111111111111,\"#46039f\"],[0.2222222222222222,\"#7201a8\"],[0.3333333333333333,\"#9c179e\"],[0.4444444444444444,\"#bd3786\"],[0.5555555555555556,\"#d8576b\"],[0.6666666666666666,\"#ed7953\"],[0.7777777777777778,\"#fb9f3a\"],[0.8888888888888888,\"#fdca26\"],[1.0,\"#f0f921\"]],\"type\":\"heatmap\"}],\"heatmapgl\":[{\"colorbar\":{\"outlinewidth\":0,\"ticks\":\"\"},\"colorscale\":[[0.0,\"#0d0887\"],[0.1111111111111111,\"#46039f\"],[0.2222222222222222,\"#7201a8\"],[0.3333333333333333,\"#9c179e\"],[0.4444444444444444,\"#bd3786\"],[0.5555555555555556,\"#d8576b\"],[0.6666666666666666,\"#ed7953\"],[0.7777777777777778,\"#fb9f3a\"],[0.8888888888888888,\"#fdca26\"],[1.0,\"#f0f921\"]],\"type\":\"heatmapgl\"}],\"histogram\":[{\"marker\":{\"pattern\":{\"fillmode\":\"overlay\",\"size\":10,\"solidity\":0.2}},\"type\":\"histogram\"}],\"histogram2d\":[{\"colorbar\":{\"outlinewidth\":0,\"ticks\":\"\"},\"colorscale\":[[0.0,\"#0d0887\"],[0.1111111111111111,\"#46039f\"],[0.2222222222222222,\"#7201a8\"],[0.3333333333333333,\"#9c179e\"],[0.4444444444444444,\"#bd3786\"],[0.5555555555555556,\"#d8576b\"],[0.6666666666666666,\"#ed7953\"],[0.7777777777777778,\"#fb9f3a\"],[0.8888888888888888,\"#fdca26\"],[1.0,\"#f0f921\"]],\"type\":\"histogram2d\"}],\"histogram2dcontour\":[{\"colorbar\":{\"outlinewidth\":0,\"ticks\":\"\"},\"colorscale\":[[0.0,\"#0d0887\"],[0.1111111111111111,\"#46039f\"],[0.2222222222222222,\"#7201a8\"],[0.3333333333333333,\"#9c179e\"],[0.4444444444444444,\"#bd3786\"],[0.5555555555555556,\"#d8576b\"],[0.6666666666666666,\"#ed7953\"],[0.7777777777777778,\"#fb9f3a\"],[0.8888888888888888,\"#fdca26\"],[1.0,\"#f0f921\"]],\"type\":\"histogram2dcontour\"}],\"mesh3d\":[{\"colorbar\":{\"outlinewidth\":0,\"ticks\":\"\"},\"type\":\"mesh3d\"}],\"parcoords\":[{\"line\":{\"colorbar\":{\"outlinewidth\":0,\"ticks\":\"\"}},\"type\":\"parcoords\"}],\"pie\":[{\"automargin\":true,\"type\":\"pie\"}],\"scatter\":[{\"marker\":{\"colorbar\":{\"outlinewidth\":0,\"ticks\":\"\"}},\"type\":\"scatter\"}],\"scatter3d\":[{\"line\":{\"colorbar\":{\"outlinewidth\":0,\"ticks\":\"\"}},\"marker\":{\"colorbar\":{\"outlinewidth\":0,\"ticks\":\"\"}},\"type\":\"scatter3d\"}],\"scattercarpet\":[{\"marker\":{\"colorbar\":{\"outlinewidth\":0,\"ticks\":\"\"}},\"type\":\"scattercarpet\"}],\"scattergeo\":[{\"marker\":{\"colorbar\":{\"outlinewidth\":0,\"ticks\":\"\"}},\"type\":\"scattergeo\"}],\"scattergl\":[{\"marker\":{\"colorbar\":{\"outlinewidth\":0,\"ticks\":\"\"}},\"type\":\"scattergl\"}],\"scattermapbox\":[{\"marker\":{\"colorbar\":{\"outlinewidth\":0,\"ticks\":\"\"}},\"type\":\"scattermapbox\"}],\"scatterpolar\":[{\"marker\":{\"colorbar\":{\"outlinewidth\":0,\"ticks\":\"\"}},\"type\":\"scatterpolar\"}],\"scatterpolargl\":[{\"marker\":{\"colorbar\":{\"outlinewidth\":0,\"ticks\":\"\"}},\"type\":\"scatterpolargl\"}],\"scatterternary\":[{\"marker\":{\"colorbar\":{\"outlinewidth\":0,\"ticks\":\"\"}},\"type\":\"scatterternary\"}],\"surface\":[{\"colorbar\":{\"outlinewidth\":0,\"ticks\":\"\"},\"colorscale\":[[0.0,\"#0d0887\"],[0.1111111111111111,\"#46039f\"],[0.2222222222222222,\"#7201a8\"],[0.3333333333333333,\"#9c179e\"],[0.4444444444444444,\"#bd3786\"],[0.5555555555555556,\"#d8576b\"],[0.6666666666666666,\"#ed7953\"],[0.7777777777777778,\"#fb9f3a\"],[0.8888888888888888,\"#fdca26\"],[1.0,\"#f0f921\"]],\"type\":\"surface\"}],\"table\":[{\"cells\":{\"fill\":{\"color\":\"#EBF0F8\"},\"line\":{\"color\":\"white\"}},\"header\":{\"fill\":{\"color\":\"#C8D4E3\"},\"line\":{\"color\":\"white\"}},\"type\":\"table\"}]},\"layout\":{\"annotationdefaults\":{\"arrowcolor\":\"#2a3f5f\",\"arrowhead\":0,\"arrowwidth\":1},\"autotypenumbers\":\"strict\",\"coloraxis\":{\"colorbar\":{\"outlinewidth\":0,\"ticks\":\"\"}},\"colorscale\":{\"diverging\":[[0,\"#8e0152\"],[0.1,\"#c51b7d\"],[0.2,\"#de77ae\"],[0.3,\"#f1b6da\"],[0.4,\"#fde0ef\"],[0.5,\"#f7f7f7\"],[0.6,\"#e6f5d0\"],[0.7,\"#b8e186\"],[0.8,\"#7fbc41\"],[0.9,\"#4d9221\"],[1,\"#276419\"]],\"sequential\":[[0.0,\"#0d0887\"],[0.1111111111111111,\"#46039f\"],[0.2222222222222222,\"#7201a8\"],[0.3333333333333333,\"#9c179e\"],[0.4444444444444444,\"#bd3786\"],[0.5555555555555556,\"#d8576b\"],[0.6666666666666666,\"#ed7953\"],[0.7777777777777778,\"#fb9f3a\"],[0.8888888888888888,\"#fdca26\"],[1.0,\"#f0f921\"]],\"sequentialminus\":[[0.0,\"#0d0887\"],[0.1111111111111111,\"#46039f\"],[0.2222222222222222,\"#7201a8\"],[0.3333333333333333,\"#9c179e\"],[0.4444444444444444,\"#bd3786\"],[0.5555555555555556,\"#d8576b\"],[0.6666666666666666,\"#ed7953\"],[0.7777777777777778,\"#fb9f3a\"],[0.8888888888888888,\"#fdca26\"],[1.0,\"#f0f921\"]]},\"colorway\":[\"#636efa\",\"#EF553B\",\"#00cc96\",\"#ab63fa\",\"#FFA15A\",\"#19d3f3\",\"#FF6692\",\"#B6E880\",\"#FF97FF\",\"#FECB52\"],\"font\":{\"color\":\"#2a3f5f\"},\"geo\":{\"bgcolor\":\"white\",\"lakecolor\":\"white\",\"landcolor\":\"#E5ECF6\",\"showlakes\":true,\"showland\":true,\"subunitcolor\":\"white\"},\"hoverlabel\":{\"align\":\"left\"},\"hovermode\":\"closest\",\"mapbox\":{\"style\":\"light\"},\"paper_bgcolor\":\"white\",\"plot_bgcolor\":\"#E5ECF6\",\"polar\":{\"angularaxis\":{\"gridcolor\":\"white\",\"linecolor\":\"white\",\"ticks\":\"\"},\"bgcolor\":\"#E5ECF6\",\"radialaxis\":{\"gridcolor\":\"white\",\"linecolor\":\"white\",\"ticks\":\"\"}},\"scene\":{\"xaxis\":{\"backgroundcolor\":\"#E5ECF6\",\"gridcolor\":\"white\",\"gridwidth\":2,\"linecolor\":\"white\",\"showbackground\":true,\"ticks\":\"\",\"zerolinecolor\":\"white\"},\"yaxis\":{\"backgroundcolor\":\"#E5ECF6\",\"gridcolor\":\"white\",\"gridwidth\":2,\"linecolor\":\"white\",\"showbackground\":true,\"ticks\":\"\",\"zerolinecolor\":\"white\"},\"zaxis\":{\"backgroundcolor\":\"#E5ECF6\",\"gridcolor\":\"white\",\"gridwidth\":2,\"linecolor\":\"white\",\"showbackground\":true,\"ticks\":\"\",\"zerolinecolor\":\"white\"}},\"shapedefaults\":{\"line\":{\"color\":\"#2a3f5f\"}},\"ternary\":{\"aaxis\":{\"gridcolor\":\"white\",\"linecolor\":\"white\",\"ticks\":\"\"},\"baxis\":{\"gridcolor\":\"white\",\"linecolor\":\"white\",\"ticks\":\"\"},\"bgcolor\":\"#E5ECF6\",\"caxis\":{\"gridcolor\":\"white\",\"linecolor\":\"white\",\"ticks\":\"\"}},\"title\":{\"x\":0.05},\"xaxis\":{\"automargin\":true,\"gridcolor\":\"white\",\"linecolor\":\"white\",\"ticks\":\"\",\"title\":{\"standoff\":15},\"zerolinecolor\":\"white\",\"zerolinewidth\":2},\"yaxis\":{\"automargin\":true,\"gridcolor\":\"white\",\"linecolor\":\"white\",\"ticks\":\"\",\"title\":{\"standoff\":15},\"zerolinecolor\":\"white\",\"zerolinewidth\":2}}},\"title\":{\"text\":\"Model Intelligence : The most effective features sorted\"},\"xaxis\":{\"anchor\":\"y\",\"domain\":[0.0,1.0],\"title\":{\"text\":\"Features\"}},\"yaxis\":{\"anchor\":\"x\",\"domain\":[0.0,1.0],\"title\":{\"text\":\"Imporatnce scores\"}}},                        {\"responsive\": true}                    ).then(function(){\n",
       "                            \n",
       "var gd = document.getElementById('f8a8ab01-404d-4a27-853b-a4520763ed69');\n",
       "var x = new MutationObserver(function (mutations, observer) {{\n",
       "        var display = window.getComputedStyle(gd).display;\n",
       "        if (!display || display === 'none') {{\n",
       "            console.log([gd, 'removed!']);\n",
       "            Plotly.purge(gd);\n",
       "            observer.disconnect();\n",
       "        }}\n",
       "}});\n",
       "\n",
       "// Listen for the removal of the full notebook cells\n",
       "var notebookContainer = gd.closest('#notebook-container');\n",
       "if (notebookContainer) {{\n",
       "    x.observe(notebookContainer, {childList: true});\n",
       "}}\n",
       "\n",
       "// Listen for the clearing of the current output cell\n",
       "var outputEl = gd.closest('.output');\n",
       "if (outputEl) {{\n",
       "    x.observe(outputEl, {childList: true});\n",
       "}}\n",
       "\n",
       "                        })                };                });            </script>        </div>"
      ]
     },
     "metadata": {},
     "output_type": "display_data"
    }
   ],
   "source": [
    "#Extract the feature importances scores from the model\n",
    "importance_intel = Model_intel.feature_importances_\n",
    "\n",
    "#Combine the features with names\n",
    "list_features = sorted(zip(importance_intel, intel_features), reverse=True)\n",
    "all_features = {}\n",
    "for i in list_features : \n",
    "    all_features[i[1]]=round(i[0],4)\n",
    "\n",
    "x= list(all_features.keys())\n",
    "y= list(all_features.values())\n",
    "\n",
    "sorted_features['IntelligenceType'] = x\n",
    "\n",
    "#Plot feature importance\n",
    "fig = px.bar( y=y, x=x, text=y,color=y, title=\"Model Intelligence : The most effective features sorted\")\n",
    "fig.update_xaxes(title_text='Features')\n",
    "fig.update_yaxes(title_text='Imporatnce scores')\n",
    "fig.show()"
   ]
  },
  {
   "cell_type": "markdown",
   "id": "e89c6c7b",
   "metadata": {},
   "source": [
    "# 2. Player Type"
   ]
  },
  {
   "cell_type": "code",
   "execution_count": 507,
   "id": "1b3ae271",
   "metadata": {},
   "outputs": [
    {
     "data": {
      "text/html": [
       "<div>\n",
       "<style scoped>\n",
       "    .dataframe tbody tr th:only-of-type {\n",
       "        vertical-align: middle;\n",
       "    }\n",
       "\n",
       "    .dataframe tbody tr th {\n",
       "        vertical-align: top;\n",
       "    }\n",
       "\n",
       "    .dataframe thead th {\n",
       "        text-align: right;\n",
       "    }\n",
       "</style>\n",
       "<table border=\"1\" class=\"dataframe\">\n",
       "  <thead>\n",
       "    <tr style=\"text-align: right;\">\n",
       "      <th></th>\n",
       "      <th>He likes to be part of a team and enjoy collective activities</th>\n",
       "      <th>It's fun to be with others more than to be alone</th>\n",
       "      <th>Likes to help others</th>\n",
       "      <th>Loves to share his knowledge</th>\n",
       "      <th>It is important for him to follow his own way</th>\n",
       "      <th>He likes to try new things</th>\n",
       "      <th>He do not like to follow the rules</th>\n",
       "      <th>He likes to change things by himself</th>\n",
       "      <th>It is important for him that is always his duties in full</th>\n",
       "      <th>He likes to defeat obstacles</th>\n",
       "      <th>He loves competitions where they can win a prize</th>\n",
       "      <th>If sufficient reward will strive</th>\n",
       "      <th>Playertype</th>\n",
       "    </tr>\n",
       "  </thead>\n",
       "  <tbody>\n",
       "    <tr>\n",
       "      <th>0</th>\n",
       "      <td>neutral</td>\n",
       "      <td>Does not like</td>\n",
       "      <td>Likes</td>\n",
       "      <td>neutral</td>\n",
       "      <td>Does not like</td>\n",
       "      <td>Does not like</td>\n",
       "      <td>Does not like</td>\n",
       "      <td>neutral</td>\n",
       "      <td>neutral</td>\n",
       "      <td>Does not like</td>\n",
       "      <td>neutral</td>\n",
       "      <td>Likes</td>\n",
       "      <td>type_player</td>\n",
       "    </tr>\n",
       "    <tr>\n",
       "      <th>1</th>\n",
       "      <td>Does not like</td>\n",
       "      <td>Does not like</td>\n",
       "      <td>Does not like</td>\n",
       "      <td>neutral</td>\n",
       "      <td>Does not like</td>\n",
       "      <td>neutral</td>\n",
       "      <td>neutral</td>\n",
       "      <td>neutral</td>\n",
       "      <td>neutral</td>\n",
       "      <td>Likes</td>\n",
       "      <td>neutral</td>\n",
       "      <td>neutral</td>\n",
       "      <td>type_achiever</td>\n",
       "    </tr>\n",
       "    <tr>\n",
       "      <th>2</th>\n",
       "      <td>Does not like</td>\n",
       "      <td>neutral</td>\n",
       "      <td>Likes</td>\n",
       "      <td>neutral</td>\n",
       "      <td>Likes</td>\n",
       "      <td>neutral</td>\n",
       "      <td>Likes</td>\n",
       "      <td>Does not like</td>\n",
       "      <td>Likes</td>\n",
       "      <td>Likes</td>\n",
       "      <td>neutral</td>\n",
       "      <td>Likes</td>\n",
       "      <td>type_achiever</td>\n",
       "    </tr>\n",
       "    <tr>\n",
       "      <th>3</th>\n",
       "      <td>neutral</td>\n",
       "      <td>Does not like</td>\n",
       "      <td>Does not like</td>\n",
       "      <td>Likes</td>\n",
       "      <td>Does not like</td>\n",
       "      <td>Likes</td>\n",
       "      <td>Likes</td>\n",
       "      <td>Does not like</td>\n",
       "      <td>Does not like</td>\n",
       "      <td>Likes</td>\n",
       "      <td>Does not like</td>\n",
       "      <td>Does not like</td>\n",
       "      <td>type_achiever</td>\n",
       "    </tr>\n",
       "    <tr>\n",
       "      <th>4</th>\n",
       "      <td>Does not like</td>\n",
       "      <td>Does not like</td>\n",
       "      <td>neutral</td>\n",
       "      <td>Likes</td>\n",
       "      <td>Likes</td>\n",
       "      <td>Does not like</td>\n",
       "      <td>neutral</td>\n",
       "      <td>Likes</td>\n",
       "      <td>Likes</td>\n",
       "      <td>neutral</td>\n",
       "      <td>neutral</td>\n",
       "      <td>Does not like</td>\n",
       "      <td>type_achiever</td>\n",
       "    </tr>\n",
       "    <tr>\n",
       "      <th>...</th>\n",
       "      <td>...</td>\n",
       "      <td>...</td>\n",
       "      <td>...</td>\n",
       "      <td>...</td>\n",
       "      <td>...</td>\n",
       "      <td>...</td>\n",
       "      <td>...</td>\n",
       "      <td>...</td>\n",
       "      <td>...</td>\n",
       "      <td>...</td>\n",
       "      <td>...</td>\n",
       "      <td>...</td>\n",
       "      <td>...</td>\n",
       "    </tr>\n",
       "    <tr>\n",
       "      <th>995</th>\n",
       "      <td>Likes</td>\n",
       "      <td>Does not like</td>\n",
       "      <td>Likes</td>\n",
       "      <td>Likes</td>\n",
       "      <td>Likes</td>\n",
       "      <td>Likes</td>\n",
       "      <td>Does not like</td>\n",
       "      <td>Likes</td>\n",
       "      <td>neutral</td>\n",
       "      <td>Likes</td>\n",
       "      <td>Does not like</td>\n",
       "      <td>neutral</td>\n",
       "      <td>type_philanthropist</td>\n",
       "    </tr>\n",
       "    <tr>\n",
       "      <th>996</th>\n",
       "      <td>Does not like</td>\n",
       "      <td>neutral</td>\n",
       "      <td>neutral</td>\n",
       "      <td>neutral</td>\n",
       "      <td>Does not like</td>\n",
       "      <td>Likes</td>\n",
       "      <td>neutral</td>\n",
       "      <td>Does not like</td>\n",
       "      <td>Does not like</td>\n",
       "      <td>Likes</td>\n",
       "      <td>Does not like</td>\n",
       "      <td>neutral</td>\n",
       "      <td>type_achiever</td>\n",
       "    </tr>\n",
       "    <tr>\n",
       "      <th>997</th>\n",
       "      <td>Likes</td>\n",
       "      <td>Does not like</td>\n",
       "      <td>neutral</td>\n",
       "      <td>neutral</td>\n",
       "      <td>neutral</td>\n",
       "      <td>neutral</td>\n",
       "      <td>Does not like</td>\n",
       "      <td>Likes</td>\n",
       "      <td>Does not like</td>\n",
       "      <td>neutral</td>\n",
       "      <td>Does not like</td>\n",
       "      <td>neutral</td>\n",
       "      <td>type_socializer</td>\n",
       "    </tr>\n",
       "    <tr>\n",
       "      <th>998</th>\n",
       "      <td>Does not like</td>\n",
       "      <td>Does not like</td>\n",
       "      <td>Likes</td>\n",
       "      <td>Does not like</td>\n",
       "      <td>neutral</td>\n",
       "      <td>neutral</td>\n",
       "      <td>Likes</td>\n",
       "      <td>neutral</td>\n",
       "      <td>neutral</td>\n",
       "      <td>Likes</td>\n",
       "      <td>neutral</td>\n",
       "      <td>Likes</td>\n",
       "      <td>type_achiever</td>\n",
       "    </tr>\n",
       "    <tr>\n",
       "      <th>999</th>\n",
       "      <td>Likes</td>\n",
       "      <td>Does not like</td>\n",
       "      <td>neutral</td>\n",
       "      <td>Does not like</td>\n",
       "      <td>Likes</td>\n",
       "      <td>neutral</td>\n",
       "      <td>Does not like</td>\n",
       "      <td>Does not like</td>\n",
       "      <td>neutral</td>\n",
       "      <td>Does not like</td>\n",
       "      <td>Does not like</td>\n",
       "      <td>Likes</td>\n",
       "      <td>type_freeSpirit</td>\n",
       "    </tr>\n",
       "  </tbody>\n",
       "</table>\n",
       "<p>1000 rows × 13 columns</p>\n",
       "</div>"
      ],
      "text/plain": [
       "    He likes to be part of a team and enjoy collective activities  \\\n",
       "0                                              neutral              \n",
       "1                                        Does not like              \n",
       "2                                        Does not like              \n",
       "3                                              neutral              \n",
       "4                                        Does not like              \n",
       "..                                                 ...              \n",
       "995                                              Likes              \n",
       "996                                      Does not like              \n",
       "997                                              Likes              \n",
       "998                                      Does not like              \n",
       "999                                              Likes              \n",
       "\n",
       "    It's fun to be with others more than to be alone Likes to help others  \\\n",
       "0                                      Does not like                Likes   \n",
       "1                                      Does not like        Does not like   \n",
       "2                                            neutral                Likes   \n",
       "3                                      Does not like        Does not like   \n",
       "4                                      Does not like              neutral   \n",
       "..                                               ...                  ...   \n",
       "995                                    Does not like                Likes   \n",
       "996                                          neutral              neutral   \n",
       "997                                    Does not like              neutral   \n",
       "998                                    Does not like                Likes   \n",
       "999                                    Does not like              neutral   \n",
       "\n",
       "    Loves to share his knowledge  \\\n",
       "0                        neutral   \n",
       "1                        neutral   \n",
       "2                        neutral   \n",
       "3                          Likes   \n",
       "4                          Likes   \n",
       "..                           ...   \n",
       "995                        Likes   \n",
       "996                      neutral   \n",
       "997                      neutral   \n",
       "998                Does not like   \n",
       "999                Does not like   \n",
       "\n",
       "    It is important for him to follow his own way He likes to try new things  \\\n",
       "0                                   Does not like              Does not like   \n",
       "1                                   Does not like                    neutral   \n",
       "2                                           Likes                    neutral   \n",
       "3                                   Does not like                      Likes   \n",
       "4                                           Likes              Does not like   \n",
       "..                                            ...                        ...   \n",
       "995                                         Likes                      Likes   \n",
       "996                                 Does not like                      Likes   \n",
       "997                                       neutral                    neutral   \n",
       "998                                       neutral                    neutral   \n",
       "999                                         Likes                    neutral   \n",
       "\n",
       "    He do not like to follow the rules He likes to change things by himself  \\\n",
       "0                        Does not like                              neutral   \n",
       "1                              neutral                              neutral   \n",
       "2                                Likes                        Does not like   \n",
       "3                                Likes                        Does not like   \n",
       "4                              neutral                                Likes   \n",
       "..                                 ...                                  ...   \n",
       "995                      Does not like                                Likes   \n",
       "996                            neutral                        Does not like   \n",
       "997                      Does not like                                Likes   \n",
       "998                              Likes                              neutral   \n",
       "999                      Does not like                        Does not like   \n",
       "\n",
       "    It is important for him that is always his duties in full  \\\n",
       "0                                              neutral          \n",
       "1                                              neutral          \n",
       "2                                                Likes          \n",
       "3                                        Does not like          \n",
       "4                                                Likes          \n",
       "..                                                 ...          \n",
       "995                                            neutral          \n",
       "996                                      Does not like          \n",
       "997                                      Does not like          \n",
       "998                                            neutral          \n",
       "999                                            neutral          \n",
       "\n",
       "    He likes to defeat obstacles  \\\n",
       "0                  Does not like   \n",
       "1                          Likes   \n",
       "2                          Likes   \n",
       "3                          Likes   \n",
       "4                        neutral   \n",
       "..                           ...   \n",
       "995                        Likes   \n",
       "996                        Likes   \n",
       "997                      neutral   \n",
       "998                        Likes   \n",
       "999                Does not like   \n",
       "\n",
       "    He loves competitions where they can win a prize  \\\n",
       "0                                            neutral   \n",
       "1                                            neutral   \n",
       "2                                            neutral   \n",
       "3                                      Does not like   \n",
       "4                                            neutral   \n",
       "..                                               ...   \n",
       "995                                    Does not like   \n",
       "996                                    Does not like   \n",
       "997                                    Does not like   \n",
       "998                                          neutral   \n",
       "999                                    Does not like   \n",
       "\n",
       "    If sufficient reward will strive           Playertype  \n",
       "0                              Likes          type_player  \n",
       "1                            neutral        type_achiever  \n",
       "2                              Likes        type_achiever  \n",
       "3                      Does not like        type_achiever  \n",
       "4                      Does not like        type_achiever  \n",
       "..                               ...                  ...  \n",
       "995                          neutral  type_philanthropist  \n",
       "996                          neutral        type_achiever  \n",
       "997                          neutral      type_socializer  \n",
       "998                            Likes        type_achiever  \n",
       "999                            Likes      type_freeSpirit  \n",
       "\n",
       "[1000 rows x 13 columns]"
      ]
     },
     "execution_count": 507,
     "metadata": {},
     "output_type": "execute_result"
    }
   ],
   "source": [
    "#Read the dataset\n",
    "player_df = pd.read_excel(\"Data\\player_type_competition.xlsx\")\n",
    "\n",
    "#In this case we need to remove the First id column \n",
    "del player_df['Unnamed: 0']\n",
    "\n",
    "player_df"
   ]
  },
  {
   "cell_type": "code",
   "execution_count": 508,
   "id": "e3d70ae5",
   "metadata": {},
   "outputs": [
    {
     "name": "stdout",
     "output_type": "stream",
     "text": [
      "Feature : 'He likes to be part of a team and enjoy collective activities' has 3 classes\n",
      "Feature : 'It's fun to be with others more than to be alone' has 3 classes\n",
      "Feature : 'Likes to help others' has 3 classes\n",
      "Feature : 'Loves to share his knowledge' has 3 classes\n",
      "Feature : 'It is important for him to follow his own way' has 3 classes\n",
      "Feature : 'He likes to try new things' has 3 classes\n",
      "Feature : 'He do not like to follow the rules' has 3 classes\n",
      "Feature : 'He likes to change things by himself' has 3 classes\n",
      "Feature : 'It is important for him that is always his duties in full' has 3 classes\n",
      "Feature : 'He likes to defeat obstacles' has 3 classes\n",
      "Feature : 'He loves competitions where they can win a prize' has 3 classes\n",
      "Feature : 'If sufficient reward will strive' has 3 classes\n",
      "Feature : 'Playertype' has 6 classes\n"
     ]
    }
   ],
   "source": [
    "for i in player_df:\n",
    "    print(\"Feature : '{}' has {} classes\".format(i,len(set(player_df[i]))))"
   ]
  },
  {
   "cell_type": "code",
   "execution_count": 509,
   "id": "06052686",
   "metadata": {},
   "outputs": [
    {
     "data": {
      "application/vnd.plotly.v1+json": {
       "config": {
        "plotlyServerURL": "https://plot.ly"
       },
       "data": [
        {
         "marker": {
          "color": [
           "#AA0DFE",
           "#3283FE",
           "#85660D",
           "#782AB6",
           "#565656",
           "#1C8356",
           "#16FF32",
           "#F7E1A0",
           "#E2E2E2",
           "#1CBE4F",
           "#C4451C",
           "#DEA0FD",
           "#FE00FA",
           "#325A9B",
           "#FEAF16",
           "#F8A19F",
           "#90AD1C",
           "#F6222E",
           "#1CFFCE",
           "#2ED9FF",
           "#B10DA1",
           "#C075A6",
           "#FC1CBF",
           "#B00068",
           "#FBE426",
           "#FA0087"
          ]
         },
         "text": [
          "207",
          "104",
          "100",
          "165",
          "125",
          "299"
         ],
         "textposition": "auto",
         "type": "bar",
         "x": [
          "type_achiever",
          "type_philanthropist",
          "type_freeSpirit",
          "type_disruptor",
          "type_player",
          "type_socializer"
         ],
         "y": [
          207,
          104,
          100,
          165,
          125,
          299
         ]
        }
       ],
       "layout": {
        "template": {
         "data": {
          "bar": [
           {
            "error_x": {
             "color": "#2a3f5f"
            },
            "error_y": {
             "color": "#2a3f5f"
            },
            "marker": {
             "line": {
              "color": "#E5ECF6",
              "width": 0.5
             },
             "pattern": {
              "fillmode": "overlay",
              "size": 10,
              "solidity": 0.2
             }
            },
            "type": "bar"
           }
          ],
          "barpolar": [
           {
            "marker": {
             "line": {
              "color": "#E5ECF6",
              "width": 0.5
             },
             "pattern": {
              "fillmode": "overlay",
              "size": 10,
              "solidity": 0.2
             }
            },
            "type": "barpolar"
           }
          ],
          "carpet": [
           {
            "aaxis": {
             "endlinecolor": "#2a3f5f",
             "gridcolor": "white",
             "linecolor": "white",
             "minorgridcolor": "white",
             "startlinecolor": "#2a3f5f"
            },
            "baxis": {
             "endlinecolor": "#2a3f5f",
             "gridcolor": "white",
             "linecolor": "white",
             "minorgridcolor": "white",
             "startlinecolor": "#2a3f5f"
            },
            "type": "carpet"
           }
          ],
          "choropleth": [
           {
            "colorbar": {
             "outlinewidth": 0,
             "ticks": ""
            },
            "type": "choropleth"
           }
          ],
          "contour": [
           {
            "colorbar": {
             "outlinewidth": 0,
             "ticks": ""
            },
            "colorscale": [
             [
              0,
              "#0d0887"
             ],
             [
              0.1111111111111111,
              "#46039f"
             ],
             [
              0.2222222222222222,
              "#7201a8"
             ],
             [
              0.3333333333333333,
              "#9c179e"
             ],
             [
              0.4444444444444444,
              "#bd3786"
             ],
             [
              0.5555555555555556,
              "#d8576b"
             ],
             [
              0.6666666666666666,
              "#ed7953"
             ],
             [
              0.7777777777777778,
              "#fb9f3a"
             ],
             [
              0.8888888888888888,
              "#fdca26"
             ],
             [
              1,
              "#f0f921"
             ]
            ],
            "type": "contour"
           }
          ],
          "contourcarpet": [
           {
            "colorbar": {
             "outlinewidth": 0,
             "ticks": ""
            },
            "type": "contourcarpet"
           }
          ],
          "heatmap": [
           {
            "colorbar": {
             "outlinewidth": 0,
             "ticks": ""
            },
            "colorscale": [
             [
              0,
              "#0d0887"
             ],
             [
              0.1111111111111111,
              "#46039f"
             ],
             [
              0.2222222222222222,
              "#7201a8"
             ],
             [
              0.3333333333333333,
              "#9c179e"
             ],
             [
              0.4444444444444444,
              "#bd3786"
             ],
             [
              0.5555555555555556,
              "#d8576b"
             ],
             [
              0.6666666666666666,
              "#ed7953"
             ],
             [
              0.7777777777777778,
              "#fb9f3a"
             ],
             [
              0.8888888888888888,
              "#fdca26"
             ],
             [
              1,
              "#f0f921"
             ]
            ],
            "type": "heatmap"
           }
          ],
          "heatmapgl": [
           {
            "colorbar": {
             "outlinewidth": 0,
             "ticks": ""
            },
            "colorscale": [
             [
              0,
              "#0d0887"
             ],
             [
              0.1111111111111111,
              "#46039f"
             ],
             [
              0.2222222222222222,
              "#7201a8"
             ],
             [
              0.3333333333333333,
              "#9c179e"
             ],
             [
              0.4444444444444444,
              "#bd3786"
             ],
             [
              0.5555555555555556,
              "#d8576b"
             ],
             [
              0.6666666666666666,
              "#ed7953"
             ],
             [
              0.7777777777777778,
              "#fb9f3a"
             ],
             [
              0.8888888888888888,
              "#fdca26"
             ],
             [
              1,
              "#f0f921"
             ]
            ],
            "type": "heatmapgl"
           }
          ],
          "histogram": [
           {
            "marker": {
             "pattern": {
              "fillmode": "overlay",
              "size": 10,
              "solidity": 0.2
             }
            },
            "type": "histogram"
           }
          ],
          "histogram2d": [
           {
            "colorbar": {
             "outlinewidth": 0,
             "ticks": ""
            },
            "colorscale": [
             [
              0,
              "#0d0887"
             ],
             [
              0.1111111111111111,
              "#46039f"
             ],
             [
              0.2222222222222222,
              "#7201a8"
             ],
             [
              0.3333333333333333,
              "#9c179e"
             ],
             [
              0.4444444444444444,
              "#bd3786"
             ],
             [
              0.5555555555555556,
              "#d8576b"
             ],
             [
              0.6666666666666666,
              "#ed7953"
             ],
             [
              0.7777777777777778,
              "#fb9f3a"
             ],
             [
              0.8888888888888888,
              "#fdca26"
             ],
             [
              1,
              "#f0f921"
             ]
            ],
            "type": "histogram2d"
           }
          ],
          "histogram2dcontour": [
           {
            "colorbar": {
             "outlinewidth": 0,
             "ticks": ""
            },
            "colorscale": [
             [
              0,
              "#0d0887"
             ],
             [
              0.1111111111111111,
              "#46039f"
             ],
             [
              0.2222222222222222,
              "#7201a8"
             ],
             [
              0.3333333333333333,
              "#9c179e"
             ],
             [
              0.4444444444444444,
              "#bd3786"
             ],
             [
              0.5555555555555556,
              "#d8576b"
             ],
             [
              0.6666666666666666,
              "#ed7953"
             ],
             [
              0.7777777777777778,
              "#fb9f3a"
             ],
             [
              0.8888888888888888,
              "#fdca26"
             ],
             [
              1,
              "#f0f921"
             ]
            ],
            "type": "histogram2dcontour"
           }
          ],
          "mesh3d": [
           {
            "colorbar": {
             "outlinewidth": 0,
             "ticks": ""
            },
            "type": "mesh3d"
           }
          ],
          "parcoords": [
           {
            "line": {
             "colorbar": {
              "outlinewidth": 0,
              "ticks": ""
             }
            },
            "type": "parcoords"
           }
          ],
          "pie": [
           {
            "automargin": true,
            "type": "pie"
           }
          ],
          "scatter": [
           {
            "marker": {
             "colorbar": {
              "outlinewidth": 0,
              "ticks": ""
             }
            },
            "type": "scatter"
           }
          ],
          "scatter3d": [
           {
            "line": {
             "colorbar": {
              "outlinewidth": 0,
              "ticks": ""
             }
            },
            "marker": {
             "colorbar": {
              "outlinewidth": 0,
              "ticks": ""
             }
            },
            "type": "scatter3d"
           }
          ],
          "scattercarpet": [
           {
            "marker": {
             "colorbar": {
              "outlinewidth": 0,
              "ticks": ""
             }
            },
            "type": "scattercarpet"
           }
          ],
          "scattergeo": [
           {
            "marker": {
             "colorbar": {
              "outlinewidth": 0,
              "ticks": ""
             }
            },
            "type": "scattergeo"
           }
          ],
          "scattergl": [
           {
            "marker": {
             "colorbar": {
              "outlinewidth": 0,
              "ticks": ""
             }
            },
            "type": "scattergl"
           }
          ],
          "scattermapbox": [
           {
            "marker": {
             "colorbar": {
              "outlinewidth": 0,
              "ticks": ""
             }
            },
            "type": "scattermapbox"
           }
          ],
          "scatterpolar": [
           {
            "marker": {
             "colorbar": {
              "outlinewidth": 0,
              "ticks": ""
             }
            },
            "type": "scatterpolar"
           }
          ],
          "scatterpolargl": [
           {
            "marker": {
             "colorbar": {
              "outlinewidth": 0,
              "ticks": ""
             }
            },
            "type": "scatterpolargl"
           }
          ],
          "scatterternary": [
           {
            "marker": {
             "colorbar": {
              "outlinewidth": 0,
              "ticks": ""
             }
            },
            "type": "scatterternary"
           }
          ],
          "surface": [
           {
            "colorbar": {
             "outlinewidth": 0,
             "ticks": ""
            },
            "colorscale": [
             [
              0,
              "#0d0887"
             ],
             [
              0.1111111111111111,
              "#46039f"
             ],
             [
              0.2222222222222222,
              "#7201a8"
             ],
             [
              0.3333333333333333,
              "#9c179e"
             ],
             [
              0.4444444444444444,
              "#bd3786"
             ],
             [
              0.5555555555555556,
              "#d8576b"
             ],
             [
              0.6666666666666666,
              "#ed7953"
             ],
             [
              0.7777777777777778,
              "#fb9f3a"
             ],
             [
              0.8888888888888888,
              "#fdca26"
             ],
             [
              1,
              "#f0f921"
             ]
            ],
            "type": "surface"
           }
          ],
          "table": [
           {
            "cells": {
             "fill": {
              "color": "#EBF0F8"
             },
             "line": {
              "color": "white"
             }
            },
            "header": {
             "fill": {
              "color": "#C8D4E3"
             },
             "line": {
              "color": "white"
             }
            },
            "type": "table"
           }
          ]
         },
         "layout": {
          "annotationdefaults": {
           "arrowcolor": "#2a3f5f",
           "arrowhead": 0,
           "arrowwidth": 1
          },
          "autotypenumbers": "strict",
          "coloraxis": {
           "colorbar": {
            "outlinewidth": 0,
            "ticks": ""
           }
          },
          "colorscale": {
           "diverging": [
            [
             0,
             "#8e0152"
            ],
            [
             0.1,
             "#c51b7d"
            ],
            [
             0.2,
             "#de77ae"
            ],
            [
             0.3,
             "#f1b6da"
            ],
            [
             0.4,
             "#fde0ef"
            ],
            [
             0.5,
             "#f7f7f7"
            ],
            [
             0.6,
             "#e6f5d0"
            ],
            [
             0.7,
             "#b8e186"
            ],
            [
             0.8,
             "#7fbc41"
            ],
            [
             0.9,
             "#4d9221"
            ],
            [
             1,
             "#276419"
            ]
           ],
           "sequential": [
            [
             0,
             "#0d0887"
            ],
            [
             0.1111111111111111,
             "#46039f"
            ],
            [
             0.2222222222222222,
             "#7201a8"
            ],
            [
             0.3333333333333333,
             "#9c179e"
            ],
            [
             0.4444444444444444,
             "#bd3786"
            ],
            [
             0.5555555555555556,
             "#d8576b"
            ],
            [
             0.6666666666666666,
             "#ed7953"
            ],
            [
             0.7777777777777778,
             "#fb9f3a"
            ],
            [
             0.8888888888888888,
             "#fdca26"
            ],
            [
             1,
             "#f0f921"
            ]
           ],
           "sequentialminus": [
            [
             0,
             "#0d0887"
            ],
            [
             0.1111111111111111,
             "#46039f"
            ],
            [
             0.2222222222222222,
             "#7201a8"
            ],
            [
             0.3333333333333333,
             "#9c179e"
            ],
            [
             0.4444444444444444,
             "#bd3786"
            ],
            [
             0.5555555555555556,
             "#d8576b"
            ],
            [
             0.6666666666666666,
             "#ed7953"
            ],
            [
             0.7777777777777778,
             "#fb9f3a"
            ],
            [
             0.8888888888888888,
             "#fdca26"
            ],
            [
             1,
             "#f0f921"
            ]
           ]
          },
          "colorway": [
           "#636efa",
           "#EF553B",
           "#00cc96",
           "#ab63fa",
           "#FFA15A",
           "#19d3f3",
           "#FF6692",
           "#B6E880",
           "#FF97FF",
           "#FECB52"
          ],
          "font": {
           "color": "#2a3f5f"
          },
          "geo": {
           "bgcolor": "white",
           "lakecolor": "white",
           "landcolor": "#E5ECF6",
           "showlakes": true,
           "showland": true,
           "subunitcolor": "white"
          },
          "hoverlabel": {
           "align": "left"
          },
          "hovermode": "closest",
          "mapbox": {
           "style": "light"
          },
          "paper_bgcolor": "white",
          "plot_bgcolor": "#E5ECF6",
          "polar": {
           "angularaxis": {
            "gridcolor": "white",
            "linecolor": "white",
            "ticks": ""
           },
           "bgcolor": "#E5ECF6",
           "radialaxis": {
            "gridcolor": "white",
            "linecolor": "white",
            "ticks": ""
           }
          },
          "scene": {
           "xaxis": {
            "backgroundcolor": "#E5ECF6",
            "gridcolor": "white",
            "gridwidth": 2,
            "linecolor": "white",
            "showbackground": true,
            "ticks": "",
            "zerolinecolor": "white"
           },
           "yaxis": {
            "backgroundcolor": "#E5ECF6",
            "gridcolor": "white",
            "gridwidth": 2,
            "linecolor": "white",
            "showbackground": true,
            "ticks": "",
            "zerolinecolor": "white"
           },
           "zaxis": {
            "backgroundcolor": "#E5ECF6",
            "gridcolor": "white",
            "gridwidth": 2,
            "linecolor": "white",
            "showbackground": true,
            "ticks": "",
            "zerolinecolor": "white"
           }
          },
          "shapedefaults": {
           "line": {
            "color": "#2a3f5f"
           }
          },
          "ternary": {
           "aaxis": {
            "gridcolor": "white",
            "linecolor": "white",
            "ticks": ""
           },
           "baxis": {
            "gridcolor": "white",
            "linecolor": "white",
            "ticks": ""
           },
           "bgcolor": "#E5ECF6",
           "caxis": {
            "gridcolor": "white",
            "linecolor": "white",
            "ticks": ""
           }
          },
          "title": {
           "x": 0.05
          },
          "xaxis": {
           "automargin": true,
           "gridcolor": "white",
           "linecolor": "white",
           "ticks": "",
           "title": {
            "standoff": 15
           },
           "zerolinecolor": "white",
           "zerolinewidth": 2
          },
          "yaxis": {
           "automargin": true,
           "gridcolor": "white",
           "linecolor": "white",
           "ticks": "",
           "title": {
            "standoff": 15
           },
           "zerolinecolor": "white",
           "zerolinewidth": 2
          }
         }
        },
        "title": {
         "text": "Player Types counts in the dataset "
        }
       }
      },
      "text/html": [
       "<div>                            <div id=\"77b82984-316c-4ce5-9aef-a87343677eb9\" class=\"plotly-graph-div\" style=\"height:525px; width:100%;\"></div>            <script type=\"text/javascript\">                require([\"plotly\"], function(Plotly) {                    window.PLOTLYENV=window.PLOTLYENV || {};                                    if (document.getElementById(\"77b82984-316c-4ce5-9aef-a87343677eb9\")) {                    Plotly.newPlot(                        \"77b82984-316c-4ce5-9aef-a87343677eb9\",                        [{\"marker\":{\"color\":[\"#AA0DFE\",\"#3283FE\",\"#85660D\",\"#782AB6\",\"#565656\",\"#1C8356\",\"#16FF32\",\"#F7E1A0\",\"#E2E2E2\",\"#1CBE4F\",\"#C4451C\",\"#DEA0FD\",\"#FE00FA\",\"#325A9B\",\"#FEAF16\",\"#F8A19F\",\"#90AD1C\",\"#F6222E\",\"#1CFFCE\",\"#2ED9FF\",\"#B10DA1\",\"#C075A6\",\"#FC1CBF\",\"#B00068\",\"#FBE426\",\"#FA0087\"]},\"text\":[\"207\",\"104\",\"100\",\"165\",\"125\",\"299\"],\"textposition\":\"auto\",\"type\":\"bar\",\"x\":[\"type_achiever\",\"type_philanthropist\",\"type_freeSpirit\",\"type_disruptor\",\"type_player\",\"type_socializer\"],\"y\":[207,104,100,165,125,299]}],                        {\"template\":{\"data\":{\"bar\":[{\"error_x\":{\"color\":\"#2a3f5f\"},\"error_y\":{\"color\":\"#2a3f5f\"},\"marker\":{\"line\":{\"color\":\"#E5ECF6\",\"width\":0.5},\"pattern\":{\"fillmode\":\"overlay\",\"size\":10,\"solidity\":0.2}},\"type\":\"bar\"}],\"barpolar\":[{\"marker\":{\"line\":{\"color\":\"#E5ECF6\",\"width\":0.5},\"pattern\":{\"fillmode\":\"overlay\",\"size\":10,\"solidity\":0.2}},\"type\":\"barpolar\"}],\"carpet\":[{\"aaxis\":{\"endlinecolor\":\"#2a3f5f\",\"gridcolor\":\"white\",\"linecolor\":\"white\",\"minorgridcolor\":\"white\",\"startlinecolor\":\"#2a3f5f\"},\"baxis\":{\"endlinecolor\":\"#2a3f5f\",\"gridcolor\":\"white\",\"linecolor\":\"white\",\"minorgridcolor\":\"white\",\"startlinecolor\":\"#2a3f5f\"},\"type\":\"carpet\"}],\"choropleth\":[{\"colorbar\":{\"outlinewidth\":0,\"ticks\":\"\"},\"type\":\"choropleth\"}],\"contour\":[{\"colorbar\":{\"outlinewidth\":0,\"ticks\":\"\"},\"colorscale\":[[0.0,\"#0d0887\"],[0.1111111111111111,\"#46039f\"],[0.2222222222222222,\"#7201a8\"],[0.3333333333333333,\"#9c179e\"],[0.4444444444444444,\"#bd3786\"],[0.5555555555555556,\"#d8576b\"],[0.6666666666666666,\"#ed7953\"],[0.7777777777777778,\"#fb9f3a\"],[0.8888888888888888,\"#fdca26\"],[1.0,\"#f0f921\"]],\"type\":\"contour\"}],\"contourcarpet\":[{\"colorbar\":{\"outlinewidth\":0,\"ticks\":\"\"},\"type\":\"contourcarpet\"}],\"heatmap\":[{\"colorbar\":{\"outlinewidth\":0,\"ticks\":\"\"},\"colorscale\":[[0.0,\"#0d0887\"],[0.1111111111111111,\"#46039f\"],[0.2222222222222222,\"#7201a8\"],[0.3333333333333333,\"#9c179e\"],[0.4444444444444444,\"#bd3786\"],[0.5555555555555556,\"#d8576b\"],[0.6666666666666666,\"#ed7953\"],[0.7777777777777778,\"#fb9f3a\"],[0.8888888888888888,\"#fdca26\"],[1.0,\"#f0f921\"]],\"type\":\"heatmap\"}],\"heatmapgl\":[{\"colorbar\":{\"outlinewidth\":0,\"ticks\":\"\"},\"colorscale\":[[0.0,\"#0d0887\"],[0.1111111111111111,\"#46039f\"],[0.2222222222222222,\"#7201a8\"],[0.3333333333333333,\"#9c179e\"],[0.4444444444444444,\"#bd3786\"],[0.5555555555555556,\"#d8576b\"],[0.6666666666666666,\"#ed7953\"],[0.7777777777777778,\"#fb9f3a\"],[0.8888888888888888,\"#fdca26\"],[1.0,\"#f0f921\"]],\"type\":\"heatmapgl\"}],\"histogram\":[{\"marker\":{\"pattern\":{\"fillmode\":\"overlay\",\"size\":10,\"solidity\":0.2}},\"type\":\"histogram\"}],\"histogram2d\":[{\"colorbar\":{\"outlinewidth\":0,\"ticks\":\"\"},\"colorscale\":[[0.0,\"#0d0887\"],[0.1111111111111111,\"#46039f\"],[0.2222222222222222,\"#7201a8\"],[0.3333333333333333,\"#9c179e\"],[0.4444444444444444,\"#bd3786\"],[0.5555555555555556,\"#d8576b\"],[0.6666666666666666,\"#ed7953\"],[0.7777777777777778,\"#fb9f3a\"],[0.8888888888888888,\"#fdca26\"],[1.0,\"#f0f921\"]],\"type\":\"histogram2d\"}],\"histogram2dcontour\":[{\"colorbar\":{\"outlinewidth\":0,\"ticks\":\"\"},\"colorscale\":[[0.0,\"#0d0887\"],[0.1111111111111111,\"#46039f\"],[0.2222222222222222,\"#7201a8\"],[0.3333333333333333,\"#9c179e\"],[0.4444444444444444,\"#bd3786\"],[0.5555555555555556,\"#d8576b\"],[0.6666666666666666,\"#ed7953\"],[0.7777777777777778,\"#fb9f3a\"],[0.8888888888888888,\"#fdca26\"],[1.0,\"#f0f921\"]],\"type\":\"histogram2dcontour\"}],\"mesh3d\":[{\"colorbar\":{\"outlinewidth\":0,\"ticks\":\"\"},\"type\":\"mesh3d\"}],\"parcoords\":[{\"line\":{\"colorbar\":{\"outlinewidth\":0,\"ticks\":\"\"}},\"type\":\"parcoords\"}],\"pie\":[{\"automargin\":true,\"type\":\"pie\"}],\"scatter\":[{\"marker\":{\"colorbar\":{\"outlinewidth\":0,\"ticks\":\"\"}},\"type\":\"scatter\"}],\"scatter3d\":[{\"line\":{\"colorbar\":{\"outlinewidth\":0,\"ticks\":\"\"}},\"marker\":{\"colorbar\":{\"outlinewidth\":0,\"ticks\":\"\"}},\"type\":\"scatter3d\"}],\"scattercarpet\":[{\"marker\":{\"colorbar\":{\"outlinewidth\":0,\"ticks\":\"\"}},\"type\":\"scattercarpet\"}],\"scattergeo\":[{\"marker\":{\"colorbar\":{\"outlinewidth\":0,\"ticks\":\"\"}},\"type\":\"scattergeo\"}],\"scattergl\":[{\"marker\":{\"colorbar\":{\"outlinewidth\":0,\"ticks\":\"\"}},\"type\":\"scattergl\"}],\"scattermapbox\":[{\"marker\":{\"colorbar\":{\"outlinewidth\":0,\"ticks\":\"\"}},\"type\":\"scattermapbox\"}],\"scatterpolar\":[{\"marker\":{\"colorbar\":{\"outlinewidth\":0,\"ticks\":\"\"}},\"type\":\"scatterpolar\"}],\"scatterpolargl\":[{\"marker\":{\"colorbar\":{\"outlinewidth\":0,\"ticks\":\"\"}},\"type\":\"scatterpolargl\"}],\"scatterternary\":[{\"marker\":{\"colorbar\":{\"outlinewidth\":0,\"ticks\":\"\"}},\"type\":\"scatterternary\"}],\"surface\":[{\"colorbar\":{\"outlinewidth\":0,\"ticks\":\"\"},\"colorscale\":[[0.0,\"#0d0887\"],[0.1111111111111111,\"#46039f\"],[0.2222222222222222,\"#7201a8\"],[0.3333333333333333,\"#9c179e\"],[0.4444444444444444,\"#bd3786\"],[0.5555555555555556,\"#d8576b\"],[0.6666666666666666,\"#ed7953\"],[0.7777777777777778,\"#fb9f3a\"],[0.8888888888888888,\"#fdca26\"],[1.0,\"#f0f921\"]],\"type\":\"surface\"}],\"table\":[{\"cells\":{\"fill\":{\"color\":\"#EBF0F8\"},\"line\":{\"color\":\"white\"}},\"header\":{\"fill\":{\"color\":\"#C8D4E3\"},\"line\":{\"color\":\"white\"}},\"type\":\"table\"}]},\"layout\":{\"annotationdefaults\":{\"arrowcolor\":\"#2a3f5f\",\"arrowhead\":0,\"arrowwidth\":1},\"autotypenumbers\":\"strict\",\"coloraxis\":{\"colorbar\":{\"outlinewidth\":0,\"ticks\":\"\"}},\"colorscale\":{\"diverging\":[[0,\"#8e0152\"],[0.1,\"#c51b7d\"],[0.2,\"#de77ae\"],[0.3,\"#f1b6da\"],[0.4,\"#fde0ef\"],[0.5,\"#f7f7f7\"],[0.6,\"#e6f5d0\"],[0.7,\"#b8e186\"],[0.8,\"#7fbc41\"],[0.9,\"#4d9221\"],[1,\"#276419\"]],\"sequential\":[[0.0,\"#0d0887\"],[0.1111111111111111,\"#46039f\"],[0.2222222222222222,\"#7201a8\"],[0.3333333333333333,\"#9c179e\"],[0.4444444444444444,\"#bd3786\"],[0.5555555555555556,\"#d8576b\"],[0.6666666666666666,\"#ed7953\"],[0.7777777777777778,\"#fb9f3a\"],[0.8888888888888888,\"#fdca26\"],[1.0,\"#f0f921\"]],\"sequentialminus\":[[0.0,\"#0d0887\"],[0.1111111111111111,\"#46039f\"],[0.2222222222222222,\"#7201a8\"],[0.3333333333333333,\"#9c179e\"],[0.4444444444444444,\"#bd3786\"],[0.5555555555555556,\"#d8576b\"],[0.6666666666666666,\"#ed7953\"],[0.7777777777777778,\"#fb9f3a\"],[0.8888888888888888,\"#fdca26\"],[1.0,\"#f0f921\"]]},\"colorway\":[\"#636efa\",\"#EF553B\",\"#00cc96\",\"#ab63fa\",\"#FFA15A\",\"#19d3f3\",\"#FF6692\",\"#B6E880\",\"#FF97FF\",\"#FECB52\"],\"font\":{\"color\":\"#2a3f5f\"},\"geo\":{\"bgcolor\":\"white\",\"lakecolor\":\"white\",\"landcolor\":\"#E5ECF6\",\"showlakes\":true,\"showland\":true,\"subunitcolor\":\"white\"},\"hoverlabel\":{\"align\":\"left\"},\"hovermode\":\"closest\",\"mapbox\":{\"style\":\"light\"},\"paper_bgcolor\":\"white\",\"plot_bgcolor\":\"#E5ECF6\",\"polar\":{\"angularaxis\":{\"gridcolor\":\"white\",\"linecolor\":\"white\",\"ticks\":\"\"},\"bgcolor\":\"#E5ECF6\",\"radialaxis\":{\"gridcolor\":\"white\",\"linecolor\":\"white\",\"ticks\":\"\"}},\"scene\":{\"xaxis\":{\"backgroundcolor\":\"#E5ECF6\",\"gridcolor\":\"white\",\"gridwidth\":2,\"linecolor\":\"white\",\"showbackground\":true,\"ticks\":\"\",\"zerolinecolor\":\"white\"},\"yaxis\":{\"backgroundcolor\":\"#E5ECF6\",\"gridcolor\":\"white\",\"gridwidth\":2,\"linecolor\":\"white\",\"showbackground\":true,\"ticks\":\"\",\"zerolinecolor\":\"white\"},\"zaxis\":{\"backgroundcolor\":\"#E5ECF6\",\"gridcolor\":\"white\",\"gridwidth\":2,\"linecolor\":\"white\",\"showbackground\":true,\"ticks\":\"\",\"zerolinecolor\":\"white\"}},\"shapedefaults\":{\"line\":{\"color\":\"#2a3f5f\"}},\"ternary\":{\"aaxis\":{\"gridcolor\":\"white\",\"linecolor\":\"white\",\"ticks\":\"\"},\"baxis\":{\"gridcolor\":\"white\",\"linecolor\":\"white\",\"ticks\":\"\"},\"bgcolor\":\"#E5ECF6\",\"caxis\":{\"gridcolor\":\"white\",\"linecolor\":\"white\",\"ticks\":\"\"}},\"title\":{\"x\":0.05},\"xaxis\":{\"automargin\":true,\"gridcolor\":\"white\",\"linecolor\":\"white\",\"ticks\":\"\",\"title\":{\"standoff\":15},\"zerolinecolor\":\"white\",\"zerolinewidth\":2},\"yaxis\":{\"automargin\":true,\"gridcolor\":\"white\",\"linecolor\":\"white\",\"ticks\":\"\",\"title\":{\"standoff\":15},\"zerolinecolor\":\"white\",\"zerolinewidth\":2}}},\"title\":{\"text\":\"Player Types counts in the dataset \"}},                        {\"responsive\": true}                    ).then(function(){\n",
       "                            \n",
       "var gd = document.getElementById('77b82984-316c-4ce5-9aef-a87343677eb9');\n",
       "var x = new MutationObserver(function (mutations, observer) {{\n",
       "        var display = window.getComputedStyle(gd).display;\n",
       "        if (!display || display === 'none') {{\n",
       "            console.log([gd, 'removed!']);\n",
       "            Plotly.purge(gd);\n",
       "            observer.disconnect();\n",
       "        }}\n",
       "}});\n",
       "\n",
       "// Listen for the removal of the full notebook cells\n",
       "var notebookContainer = gd.closest('#notebook-container');\n",
       "if (notebookContainer) {{\n",
       "    x.observe(notebookContainer, {childList: true});\n",
       "}}\n",
       "\n",
       "// Listen for the clearing of the current output cell\n",
       "var outputEl = gd.closest('.output');\n",
       "if (outputEl) {{\n",
       "    x.observe(outputEl, {childList: true});\n",
       "}}\n",
       "\n",
       "                        })                };                });            </script>        </div>"
      ]
     },
     "metadata": {},
     "output_type": "display_data"
    }
   ],
   "source": [
    "labels = set(player_df['Playertype'])\n",
    "labels_val = list(player_df['Playertype'])\n",
    "types = {}\n",
    "for i in labels :\n",
    "    types[i]= labels_val.count(i)\n",
    "colors= px.colors.qualitative.Alphabet\n",
    "fig = (go.Figure([go.Bar(x=list(types.keys()), y=list(types.values()),text=list(types.values()),textposition='auto',marker_color=colors)]))\n",
    "fig.update_layout( title=\"Player Types counts in the dataset \")\n",
    "fig.show()"
   ]
  },
  {
   "cell_type": "code",
   "execution_count": 510,
   "id": "b8e6856f",
   "metadata": {},
   "outputs": [
    {
     "data": {
      "text/html": [
       "<div>\n",
       "<style scoped>\n",
       "    .dataframe tbody tr th:only-of-type {\n",
       "        vertical-align: middle;\n",
       "    }\n",
       "\n",
       "    .dataframe tbody tr th {\n",
       "        vertical-align: top;\n",
       "    }\n",
       "\n",
       "    .dataframe thead th {\n",
       "        text-align: right;\n",
       "    }\n",
       "</style>\n",
       "<table border=\"1\" class=\"dataframe\">\n",
       "  <thead>\n",
       "    <tr style=\"text-align: right;\">\n",
       "      <th></th>\n",
       "      <th>He likes to be part of a team and enjoy collective activities</th>\n",
       "      <th>It's fun to be with others more than to be alone</th>\n",
       "      <th>Likes to help others</th>\n",
       "      <th>Loves to share his knowledge</th>\n",
       "      <th>It is important for him to follow his own way</th>\n",
       "      <th>He likes to try new things</th>\n",
       "      <th>He do not like to follow the rules</th>\n",
       "      <th>He likes to change things by himself</th>\n",
       "      <th>It is important for him that is always his duties in full</th>\n",
       "      <th>He likes to defeat obstacles</th>\n",
       "      <th>He loves competitions where they can win a prize</th>\n",
       "      <th>If sufficient reward will strive</th>\n",
       "      <th>Playertype</th>\n",
       "    </tr>\n",
       "  </thead>\n",
       "  <tbody>\n",
       "    <tr>\n",
       "      <th>0</th>\n",
       "      <td>0</td>\n",
       "      <td>0</td>\n",
       "      <td>0</td>\n",
       "      <td>0</td>\n",
       "      <td>0</td>\n",
       "      <td>0</td>\n",
       "      <td>0</td>\n",
       "      <td>0</td>\n",
       "      <td>0</td>\n",
       "      <td>0</td>\n",
       "      <td>0</td>\n",
       "      <td>0</td>\n",
       "      <td>0</td>\n",
       "    </tr>\n",
       "    <tr>\n",
       "      <th>1</th>\n",
       "      <td>1</td>\n",
       "      <td>0</td>\n",
       "      <td>1</td>\n",
       "      <td>0</td>\n",
       "      <td>0</td>\n",
       "      <td>1</td>\n",
       "      <td>1</td>\n",
       "      <td>0</td>\n",
       "      <td>0</td>\n",
       "      <td>1</td>\n",
       "      <td>0</td>\n",
       "      <td>1</td>\n",
       "      <td>1</td>\n",
       "    </tr>\n",
       "    <tr>\n",
       "      <th>2</th>\n",
       "      <td>1</td>\n",
       "      <td>1</td>\n",
       "      <td>0</td>\n",
       "      <td>0</td>\n",
       "      <td>1</td>\n",
       "      <td>1</td>\n",
       "      <td>2</td>\n",
       "      <td>1</td>\n",
       "      <td>1</td>\n",
       "      <td>1</td>\n",
       "      <td>0</td>\n",
       "      <td>0</td>\n",
       "      <td>1</td>\n",
       "    </tr>\n",
       "    <tr>\n",
       "      <th>3</th>\n",
       "      <td>0</td>\n",
       "      <td>0</td>\n",
       "      <td>1</td>\n",
       "      <td>1</td>\n",
       "      <td>0</td>\n",
       "      <td>2</td>\n",
       "      <td>2</td>\n",
       "      <td>1</td>\n",
       "      <td>2</td>\n",
       "      <td>1</td>\n",
       "      <td>1</td>\n",
       "      <td>2</td>\n",
       "      <td>1</td>\n",
       "    </tr>\n",
       "    <tr>\n",
       "      <th>4</th>\n",
       "      <td>1</td>\n",
       "      <td>0</td>\n",
       "      <td>2</td>\n",
       "      <td>1</td>\n",
       "      <td>1</td>\n",
       "      <td>0</td>\n",
       "      <td>1</td>\n",
       "      <td>2</td>\n",
       "      <td>1</td>\n",
       "      <td>2</td>\n",
       "      <td>0</td>\n",
       "      <td>2</td>\n",
       "      <td>1</td>\n",
       "    </tr>\n",
       "    <tr>\n",
       "      <th>...</th>\n",
       "      <td>...</td>\n",
       "      <td>...</td>\n",
       "      <td>...</td>\n",
       "      <td>...</td>\n",
       "      <td>...</td>\n",
       "      <td>...</td>\n",
       "      <td>...</td>\n",
       "      <td>...</td>\n",
       "      <td>...</td>\n",
       "      <td>...</td>\n",
       "      <td>...</td>\n",
       "      <td>...</td>\n",
       "      <td>...</td>\n",
       "    </tr>\n",
       "    <tr>\n",
       "      <th>995</th>\n",
       "      <td>2</td>\n",
       "      <td>0</td>\n",
       "      <td>0</td>\n",
       "      <td>1</td>\n",
       "      <td>1</td>\n",
       "      <td>2</td>\n",
       "      <td>0</td>\n",
       "      <td>2</td>\n",
       "      <td>0</td>\n",
       "      <td>1</td>\n",
       "      <td>1</td>\n",
       "      <td>1</td>\n",
       "      <td>3</td>\n",
       "    </tr>\n",
       "    <tr>\n",
       "      <th>996</th>\n",
       "      <td>1</td>\n",
       "      <td>1</td>\n",
       "      <td>2</td>\n",
       "      <td>0</td>\n",
       "      <td>0</td>\n",
       "      <td>2</td>\n",
       "      <td>1</td>\n",
       "      <td>1</td>\n",
       "      <td>2</td>\n",
       "      <td>1</td>\n",
       "      <td>1</td>\n",
       "      <td>1</td>\n",
       "      <td>1</td>\n",
       "    </tr>\n",
       "    <tr>\n",
       "      <th>997</th>\n",
       "      <td>2</td>\n",
       "      <td>0</td>\n",
       "      <td>2</td>\n",
       "      <td>0</td>\n",
       "      <td>2</td>\n",
       "      <td>1</td>\n",
       "      <td>0</td>\n",
       "      <td>2</td>\n",
       "      <td>2</td>\n",
       "      <td>2</td>\n",
       "      <td>1</td>\n",
       "      <td>1</td>\n",
       "      <td>4</td>\n",
       "    </tr>\n",
       "    <tr>\n",
       "      <th>998</th>\n",
       "      <td>1</td>\n",
       "      <td>0</td>\n",
       "      <td>0</td>\n",
       "      <td>2</td>\n",
       "      <td>2</td>\n",
       "      <td>1</td>\n",
       "      <td>2</td>\n",
       "      <td>0</td>\n",
       "      <td>0</td>\n",
       "      <td>1</td>\n",
       "      <td>0</td>\n",
       "      <td>0</td>\n",
       "      <td>1</td>\n",
       "    </tr>\n",
       "    <tr>\n",
       "      <th>999</th>\n",
       "      <td>2</td>\n",
       "      <td>0</td>\n",
       "      <td>2</td>\n",
       "      <td>2</td>\n",
       "      <td>1</td>\n",
       "      <td>1</td>\n",
       "      <td>0</td>\n",
       "      <td>1</td>\n",
       "      <td>0</td>\n",
       "      <td>0</td>\n",
       "      <td>1</td>\n",
       "      <td>0</td>\n",
       "      <td>5</td>\n",
       "    </tr>\n",
       "  </tbody>\n",
       "</table>\n",
       "<p>1000 rows × 13 columns</p>\n",
       "</div>"
      ],
      "text/plain": [
       "     He likes to be part of a team and enjoy collective activities  \\\n",
       "0                                                    0               \n",
       "1                                                    1               \n",
       "2                                                    1               \n",
       "3                                                    0               \n",
       "4                                                    1               \n",
       "..                                                 ...               \n",
       "995                                                  2               \n",
       "996                                                  1               \n",
       "997                                                  2               \n",
       "998                                                  1               \n",
       "999                                                  2               \n",
       "\n",
       "     It's fun to be with others more than to be alone  Likes to help others  \\\n",
       "0                                                   0                     0   \n",
       "1                                                   0                     1   \n",
       "2                                                   1                     0   \n",
       "3                                                   0                     1   \n",
       "4                                                   0                     2   \n",
       "..                                                ...                   ...   \n",
       "995                                                 0                     0   \n",
       "996                                                 1                     2   \n",
       "997                                                 0                     2   \n",
       "998                                                 0                     0   \n",
       "999                                                 0                     2   \n",
       "\n",
       "     Loves to share his knowledge  \\\n",
       "0                               0   \n",
       "1                               0   \n",
       "2                               0   \n",
       "3                               1   \n",
       "4                               1   \n",
       "..                            ...   \n",
       "995                             1   \n",
       "996                             0   \n",
       "997                             0   \n",
       "998                             2   \n",
       "999                             2   \n",
       "\n",
       "     It is important for him to follow his own way  \\\n",
       "0                                                0   \n",
       "1                                                0   \n",
       "2                                                1   \n",
       "3                                                0   \n",
       "4                                                1   \n",
       "..                                             ...   \n",
       "995                                              1   \n",
       "996                                              0   \n",
       "997                                              2   \n",
       "998                                              2   \n",
       "999                                              1   \n",
       "\n",
       "     He likes to try new things  He do not like to follow the rules  \\\n",
       "0                             0                                   0   \n",
       "1                             1                                   1   \n",
       "2                             1                                   2   \n",
       "3                             2                                   2   \n",
       "4                             0                                   1   \n",
       "..                          ...                                 ...   \n",
       "995                           2                                   0   \n",
       "996                           2                                   1   \n",
       "997                           1                                   0   \n",
       "998                           1                                   2   \n",
       "999                           1                                   0   \n",
       "\n",
       "     He likes to change things by himself  \\\n",
       "0                                       0   \n",
       "1                                       0   \n",
       "2                                       1   \n",
       "3                                       1   \n",
       "4                                       2   \n",
       "..                                    ...   \n",
       "995                                     2   \n",
       "996                                     1   \n",
       "997                                     2   \n",
       "998                                     0   \n",
       "999                                     1   \n",
       "\n",
       "     It is important for him that is always his duties in full  \\\n",
       "0                                                    0           \n",
       "1                                                    0           \n",
       "2                                                    1           \n",
       "3                                                    2           \n",
       "4                                                    1           \n",
       "..                                                 ...           \n",
       "995                                                  0           \n",
       "996                                                  2           \n",
       "997                                                  2           \n",
       "998                                                  0           \n",
       "999                                                  0           \n",
       "\n",
       "     He likes to defeat obstacles  \\\n",
       "0                               0   \n",
       "1                               1   \n",
       "2                               1   \n",
       "3                               1   \n",
       "4                               2   \n",
       "..                            ...   \n",
       "995                             1   \n",
       "996                             1   \n",
       "997                             2   \n",
       "998                             1   \n",
       "999                             0   \n",
       "\n",
       "     He loves competitions where they can win a prize  \\\n",
       "0                                                   0   \n",
       "1                                                   0   \n",
       "2                                                   0   \n",
       "3                                                   1   \n",
       "4                                                   0   \n",
       "..                                                ...   \n",
       "995                                                 1   \n",
       "996                                                 1   \n",
       "997                                                 1   \n",
       "998                                                 0   \n",
       "999                                                 1   \n",
       "\n",
       "     If sufficient reward will strive  Playertype  \n",
       "0                                   0           0  \n",
       "1                                   1           1  \n",
       "2                                   0           1  \n",
       "3                                   2           1  \n",
       "4                                   2           1  \n",
       "..                                ...         ...  \n",
       "995                                 1           3  \n",
       "996                                 1           1  \n",
       "997                                 1           4  \n",
       "998                                 0           1  \n",
       "999                                 0           5  \n",
       "\n",
       "[1000 rows x 13 columns]"
      ]
     },
     "execution_count": 510,
     "metadata": {},
     "output_type": "execute_result"
    }
   ],
   "source": [
    "#factorize the dataset\n",
    "player_new = player_df.apply(lambda x: pd.factorize(x)[0])\n",
    "player_new"
   ]
  },
  {
   "cell_type": "code",
   "execution_count": 511,
   "id": "de3c8567",
   "metadata": {},
   "outputs": [
    {
     "data": {
      "text/plain": [
       "{'He likes to be part of a team and enjoy collective activities': {'neutral': 0,\n",
       "  'Does not like': 1,\n",
       "  'Likes': 2},\n",
       " \"It's fun to be with others more than to be alone\": {'Does not like': 0,\n",
       "  'neutral': 1,\n",
       "  'Likes': 2},\n",
       " 'Likes to help others': {'Likes': 0, 'Does not like': 1, 'neutral': 2},\n",
       " 'Loves to share his knowledge': {'neutral': 0,\n",
       "  'Likes': 1,\n",
       "  'Does not like': 2},\n",
       " 'It is important for him to follow his own way': {'Does not like': 0,\n",
       "  'Likes': 1,\n",
       "  'neutral': 2},\n",
       " 'He likes to try new things': {'Does not like': 0, 'neutral': 1, 'Likes': 2},\n",
       " 'He do not like to follow the rules': {'Does not like': 0,\n",
       "  'neutral': 1,\n",
       "  'Likes': 2},\n",
       " 'He likes to change things by himself': {'neutral': 0,\n",
       "  'Does not like': 1,\n",
       "  'Likes': 2},\n",
       " 'It is important for him that is always his duties in full': {'neutral': 0,\n",
       "  'Likes': 1,\n",
       "  'Does not like': 2},\n",
       " 'He likes to defeat obstacles': {'Does not like': 0,\n",
       "  'Likes': 1,\n",
       "  'neutral': 2},\n",
       " 'He loves competitions where they can win a prize': {'neutral': 0,\n",
       "  'Does not like': 1,\n",
       "  'Likes': 2},\n",
       " 'If sufficient reward will strive': {'Likes': 0,\n",
       "  'neutral': 1,\n",
       "  'Does not like': 2},\n",
       " 'Playertype': {'type_player': 0,\n",
       "  'type_achiever': 1,\n",
       "  'type_disruptor': 2,\n",
       "  'type_philanthropist': 3,\n",
       "  'type_socializer': 4,\n",
       "  'type_freeSpirit': 5}}"
      ]
     },
     "execution_count": 511,
     "metadata": {},
     "output_type": "execute_result"
    }
   ],
   "source": [
    "#In this case we need to save the original label by it's value in each feature, for example after fectorizing Male becomes 1 and Female becomes 0 \n",
    "labels = {}\n",
    "for i in player_df : \n",
    "    labels[i] = {}\n",
    "\n",
    "for i in player_df :\n",
    "    for j in range(len(player_df[i])):\n",
    "        labels[i][player_df[i][j]] = player_new[i][j]\n",
    "        \n",
    "labels"
   ]
  },
  {
   "cell_type": "code",
   "execution_count": 512,
   "id": "0f4e1993",
   "metadata": {},
   "outputs": [
    {
     "name": "stdout",
     "output_type": "stream",
     "text": [
      "(800, 12) (200, 12) (800,) (200,)\n"
     ]
    }
   ],
   "source": [
    "#Split the data into features and gold label\n",
    "X = player_new.iloc[:,0:-1] #Data features \n",
    "Y = player_new['Playertype'] #Golden_Label (The prediction class)\n",
    "\n",
    "#Save the used features into a list to use them in the features importance part\n",
    "player_features = list( X.columns)\n",
    "\n",
    "#Split the dataset\n",
    "X_train, X_test, y_train, y_test = train_test_split(X,Y,test_size = 0.2, random_state = 0)\n",
    "print(X_train.shape,X_test.shape,y_train.shape,y_test.shape)"
   ]
  },
  {
   "cell_type": "code",
   "execution_count": 513,
   "id": "99ab2695",
   "metadata": {},
   "outputs": [],
   "source": [
    "#Model creation and training \n",
    "forest = RandomForestClassifier( n_estimators = 1300, max_depth = 23, random_state = 0)\n",
    "Model_player = forest.fit(X_train,y_train)"
   ]
  },
  {
   "cell_type": "code",
   "execution_count": 514,
   "id": "4b46102c",
   "metadata": {},
   "outputs": [
    {
     "name": "stdout",
     "output_type": "stream",
     "text": [
      "Metric scores :\n",
      " Accuracy: 77.00 %\n",
      " Precision: 72.38 %\n",
      " Recall: 76.17 %\n",
      " F1: 73.48 %\n",
      "\n",
      "Confusion Matrix :\n",
      "[[17  0  1  0  0  2]\n",
      " [ 3 30  2  4  1  2]\n",
      " [ 0  3 27  1  2  1]\n",
      " [ 3  0  1 13  0  0]\n",
      " [ 1  2  1  7 56  3]\n",
      " [ 2  0  0  0  4 11]]\n"
     ]
    }
   ],
   "source": [
    "#Prediction and score calculations\n",
    "player_predictions = Model_player.predict(X_test)\n",
    "\n",
    "accuracy = accuracy_score(player_predictions,y_test)\n",
    "precision = precision_score(player_predictions,y_test,average='macro')\n",
    "recall = recall_score(player_predictions,y_test,average='macro')\n",
    "f1 = f1_score(player_predictions,y_test,average='macro')\n",
    "\n",
    "print(\"Metric scores :\")\n",
    "print(\" Accuracy: {:.2f} %\".format(accuracy*100))\n",
    "print(\" Precision: {:.2f} %\".format(precision*100))\n",
    "print(\" Recall: {:.2f} %\".format(recall*100))\n",
    "print(\" F1: {:.2f} %\".format(f1*100))\n",
    "\n",
    "\n",
    "\n",
    "print(\"\\nConfusion Matrix :\")\n",
    "cm = confusion_matrix(player_predictions, y_test)\n",
    "print(cm)"
   ]
  },
  {
   "cell_type": "code",
   "execution_count": 515,
   "id": "ccfe7fb8",
   "metadata": {},
   "outputs": [
    {
     "name": "stdout",
     "output_type": "stream",
     "text": [
      "\n",
      "Classification Report :\n"
     ]
    },
    {
     "data": {
      "image/png": "[encoded data removed]",
      "text/plain": [
       "<Figure size 432x288 with 2 Axes>"
      ]
     },
     "metadata": {
      "needs_background": "light"
     },
     "output_type": "display_data"
    }
   ],
   "source": [
    "print(\"\\nClassification Report :\")\n",
    "clf_report = classification_report(player_predictions,y_test,output_dict=True,target_names=list(set(player_df['Playertype'])))\n",
    "sns.heatmap(pd.DataFrame(clf_report).iloc[:-1, :].T, annot=True)\n",
    "plt.show()"
   ]
  },
  {
   "cell_type": "code",
   "execution_count": 516,
   "id": "b1087f1c",
   "metadata": {},
   "outputs": [
    {
     "data": {
      "application/vnd.plotly.v1+json": {
       "config": {
        "plotlyServerURL": "https://plot.ly"
       },
       "data": [
        {
         "alignmentgroup": "True",
         "hovertemplate": "x=%{x}<br>y=%{y}<br>text=%{text}<br>color=%{marker.color}<extra></extra>",
         "legendgroup": "",
         "marker": {
          "color": [
           0.1137,
           0.102,
           0.0931,
           0.0884,
           0.0853,
           0.0835,
           0.0748,
           0.0747,
           0.0725,
           0.0714,
           0.0712,
           0.0694
          ],
          "coloraxis": "coloraxis",
          "pattern": {
           "shape": ""
          }
         },
         "name": "",
         "offsetgroup": "",
         "orientation": "v",
         "showlegend": false,
         "text": [
          "0.1137",
          "0.102",
          "0.0931",
          "0.0884",
          "0.0853",
          "0.0835",
          "0.0748",
          "0.0747",
          "0.0725",
          "0.0714",
          "0.0712",
          "0.0694"
         ],
         "textposition": "auto",
         "type": "bar",
         "x": [
          "He likes to be part of a team and enjoy collective activities",
          "It's fun to be with others more than to be alone",
          "It is important for him that is always his duties in full",
          "He likes to defeat obstacles",
          "He do not like to follow the rules",
          "He likes to change things by himself",
          "He likes to try new things",
          "If sufficient reward will strive",
          "He loves competitions where they can win a prize",
          "It is important for him to follow his own way",
          "Likes to help others",
          "Loves to share his knowledge"
         ],
         "xaxis": "x",
         "y": [
          0.1137,
          0.102,
          0.0931,
          0.0884,
          0.0853,
          0.0835,
          0.0748,
          0.0747,
          0.0725,
          0.0714,
          0.0712,
          0.0694
         ],
         "yaxis": "y"
        }
       ],
       "layout": {
        "barmode": "relative",
        "coloraxis": {
         "colorbar": {
          "title": {
           "text": "color"
          }
         },
         "colorscale": [
          [
           0,
           "#0d0887"
          ],
          [
           0.1111111111111111,
           "#46039f"
          ],
          [
           0.2222222222222222,
           "#7201a8"
          ],
          [
           0.3333333333333333,
           "#9c179e"
          ],
          [
           0.4444444444444444,
           "#bd3786"
          ],
          [
           0.5555555555555556,
           "#d8576b"
          ],
          [
           0.6666666666666666,
           "#ed7953"
          ],
          [
           0.7777777777777778,
           "#fb9f3a"
          ],
          [
           0.8888888888888888,
           "#fdca26"
          ],
          [
           1,
           "#f0f921"
          ]
         ]
        },
        "legend": {
         "tracegroupgap": 0
        },
        "template": {
         "data": {
          "bar": [
           {
            "error_x": {
             "color": "#2a3f5f"
            },
            "error_y": {
             "color": "#2a3f5f"
            },
            "marker": {
             "line": {
              "color": "#E5ECF6",
              "width": 0.5
             },
             "pattern": {
              "fillmode": "overlay",
              "size": 10,
              "solidity": 0.2
             }
            },
            "type": "bar"
           }
          ],
          "barpolar": [
           {
            "marker": {
             "line": {
              "color": "#E5ECF6",
              "width": 0.5
             },
             "pattern": {
              "fillmode": "overlay",
              "size": 10,
              "solidity": 0.2
             }
            },
            "type": "barpolar"
           }
          ],
          "carpet": [
           {
            "aaxis": {
             "endlinecolor": "#2a3f5f",
             "gridcolor": "white",
             "linecolor": "white",
             "minorgridcolor": "white",
             "startlinecolor": "#2a3f5f"
            },
            "baxis": {
             "endlinecolor": "#2a3f5f",
             "gridcolor": "white",
             "linecolor": "white",
             "minorgridcolor": "white",
             "startlinecolor": "#2a3f5f"
            },
            "type": "carpet"
           }
          ],
          "choropleth": [
           {
            "colorbar": {
             "outlinewidth": 0,
             "ticks": ""
            },
            "type": "choropleth"
           }
          ],
          "contour": [
           {
            "colorbar": {
             "outlinewidth": 0,
             "ticks": ""
            },
            "colorscale": [
             [
              0,
              "#0d0887"
             ],
             [
              0.1111111111111111,
              "#46039f"
             ],
             [
              0.2222222222222222,
              "#7201a8"
             ],
             [
              0.3333333333333333,
              "#9c179e"
             ],
             [
              0.4444444444444444,
              "#bd3786"
             ],
             [
              0.5555555555555556,
              "#d8576b"
             ],
             [
              0.6666666666666666,
              "#ed7953"
             ],
             [
              0.7777777777777778,
              "#fb9f3a"
             ],
             [
              0.8888888888888888,
              "#fdca26"
             ],
             [
              1,
              "#f0f921"
             ]
            ],
            "type": "contour"
           }
          ],
          "contourcarpet": [
           {
            "colorbar": {
             "outlinewidth": 0,
             "ticks": ""
            },
            "type": "contourcarpet"
           }
          ],
          "heatmap": [
           {
            "colorbar": {
             "outlinewidth": 0,
             "ticks": ""
            },
            "colorscale": [
             [
              0,
              "#0d0887"
             ],
             [
              0.1111111111111111,
              "#46039f"
             ],
             [
              0.2222222222222222,
              "#7201a8"
             ],
             [
              0.3333333333333333,
              "#9c179e"
             ],
             [
              0.4444444444444444,
              "#bd3786"
             ],
             [
              0.5555555555555556,
              "#d8576b"
             ],
             [
              0.6666666666666666,
              "#ed7953"
             ],
             [
              0.7777777777777778,
              "#fb9f3a"
             ],
             [
              0.8888888888888888,
              "#fdca26"
             ],
             [
              1,
              "#f0f921"
             ]
            ],
            "type": "heatmap"
           }
          ],
          "heatmapgl": [
           {
            "colorbar": {
             "outlinewidth": 0,
             "ticks": ""
            },
            "colorscale": [
             [
              0,
              "#0d0887"
             ],
             [
              0.1111111111111111,
              "#46039f"
             ],
             [
              0.2222222222222222,
              "#7201a8"
             ],
             [
              0.3333333333333333,
              "#9c179e"
             ],
             [
              0.4444444444444444,
              "#bd3786"
             ],
             [
              0.5555555555555556,
              "#d8576b"
             ],
             [
              0.6666666666666666,
              "#ed7953"
             ],
             [
              0.7777777777777778,
              "#fb9f3a"
             ],
             [
              0.8888888888888888,
              "#fdca26"
             ],
             [
              1,
              "#f0f921"
             ]
            ],
            "type": "heatmapgl"
           }
          ],
          "histogram": [
           {
            "marker": {
             "pattern": {
              "fillmode": "overlay",
              "size": 10,
              "solidity": 0.2
             }
            },
            "type": "histogram"
           }
          ],
          "histogram2d": [
           {
            "colorbar": {
             "outlinewidth": 0,
             "ticks": ""
            },
            "colorscale": [
             [
              0,
              "#0d0887"
             ],
             [
              0.1111111111111111,
              "#46039f"
             ],
             [
              0.2222222222222222,
              "#7201a8"
             ],
             [
              0.3333333333333333,
              "#9c179e"
             ],
             [
              0.4444444444444444,
              "#bd3786"
             ],
             [
              0.5555555555555556,
              "#d8576b"
             ],
             [
              0.6666666666666666,
              "#ed7953"
             ],
             [
              0.7777777777777778,
              "#fb9f3a"
             ],
             [
              0.8888888888888888,
              "#fdca26"
             ],
             [
              1,
              "#f0f921"
             ]
            ],
            "type": "histogram2d"
           }
          ],
          "histogram2dcontour": [
           {
            "colorbar": {
             "outlinewidth": 0,
             "ticks": ""
            },
            "colorscale": [
             [
              0,
              "#0d0887"
             ],
             [
              0.1111111111111111,
              "#46039f"
             ],
             [
              0.2222222222222222,
              "#7201a8"
             ],
             [
              0.3333333333333333,
              "#9c179e"
             ],
             [
              0.4444444444444444,
              "#bd3786"
             ],
             [
              0.5555555555555556,
              "#d8576b"
             ],
             [
              0.6666666666666666,
              "#ed7953"
             ],
             [
              0.7777777777777778,
              "#fb9f3a"
             ],
             [
              0.8888888888888888,
              "#fdca26"
             ],
             [
              1,
              "#f0f921"
             ]
            ],
            "type": "histogram2dcontour"
           }
          ],
          "mesh3d": [
           {
            "colorbar": {
             "outlinewidth": 0,
             "ticks": ""
            },
            "type": "mesh3d"
           }
          ],
          "parcoords": [
           {
            "line": {
             "colorbar": {
              "outlinewidth": 0,
              "ticks": ""
             }
            },
            "type": "parcoords"
           }
          ],
          "pie": [
           {
            "automargin": true,
            "type": "pie"
           }
          ],
          "scatter": [
           {
            "marker": {
             "colorbar": {
              "outlinewidth": 0,
              "ticks": ""
             }
            },
            "type": "scatter"
           }
          ],
          "scatter3d": [
           {
            "line": {
             "colorbar": {
              "outlinewidth": 0,
              "ticks": ""
             }
            },
            "marker": {
             "colorbar": {
              "outlinewidth": 0,
              "ticks": ""
             }
            },
            "type": "scatter3d"
           }
          ],
          "scattercarpet": [
           {
            "marker": {
             "colorbar": {
              "outlinewidth": 0,
              "ticks": ""
             }
            },
            "type": "scattercarpet"
           }
          ],
          "scattergeo": [
           {
            "marker": {
             "colorbar": {
              "outlinewidth": 0,
              "ticks": ""
             }
            },
            "type": "scattergeo"
           }
          ],
          "scattergl": [
           {
            "marker": {
             "colorbar": {
              "outlinewidth": 0,
              "ticks": ""
             }
            },
            "type": "scattergl"
           }
          ],
          "scattermapbox": [
           {
            "marker": {
             "colorbar": {
              "outlinewidth": 0,
              "ticks": ""
             }
            },
            "type": "scattermapbox"
           }
          ],
          "scatterpolar": [
           {
            "marker": {
             "colorbar": {
              "outlinewidth": 0,
              "ticks": ""
             }
            },
            "type": "scatterpolar"
           }
          ],
          "scatterpolargl": [
           {
            "marker": {
             "colorbar": {
              "outlinewidth": 0,
              "ticks": ""
             }
            },
            "type": "scatterpolargl"
           }
          ],
          "scatterternary": [
           {
            "marker": {
             "colorbar": {
              "outlinewidth": 0,
              "ticks": ""
             }
            },
            "type": "scatterternary"
           }
          ],
          "surface": [
           {
            "colorbar": {
             "outlinewidth": 0,
             "ticks": ""
            },
            "colorscale": [
             [
              0,
              "#0d0887"
             ],
             [
              0.1111111111111111,
              "#46039f"
             ],
             [
              0.2222222222222222,
              "#7201a8"
             ],
             [
              0.3333333333333333,
              "#9c179e"
             ],
             [
              0.4444444444444444,
              "#bd3786"
             ],
             [
              0.5555555555555556,
              "#d8576b"
             ],
             [
              0.6666666666666666,
              "#ed7953"
             ],
             [
              0.7777777777777778,
              "#fb9f3a"
             ],
             [
              0.8888888888888888,
              "#fdca26"
             ],
             [
              1,
              "#f0f921"
             ]
            ],
            "type": "surface"
           }
          ],
          "table": [
           {
            "cells": {
             "fill": {
              "color": "#EBF0F8"
             },
             "line": {
              "color": "white"
             }
            },
            "header": {
             "fill": {
              "color": "#C8D4E3"
             },
             "line": {
              "color": "white"
             }
            },
            "type": "table"
           }
          ]
         },
         "layout": {
          "annotationdefaults": {
           "arrowcolor": "#2a3f5f",
           "arrowhead": 0,
           "arrowwidth": 1
          },
          "autotypenumbers": "strict",
          "coloraxis": {
           "colorbar": {
            "outlinewidth": 0,
            "ticks": ""
           }
          },
          "colorscale": {
           "diverging": [
            [
             0,
             "#8e0152"
            ],
            [
             0.1,
             "#c51b7d"
            ],
            [
             0.2,
             "#de77ae"
            ],
            [
             0.3,
             "#f1b6da"
            ],
            [
             0.4,
             "#fde0ef"
            ],
            [
             0.5,
             "#f7f7f7"
            ],
            [
             0.6,
             "#e6f5d0"
            ],
            [
             0.7,
             "#b8e186"
            ],
            [
             0.8,
             "#7fbc41"
            ],
            [
             0.9,
             "#4d9221"
            ],
            [
             1,
             "#276419"
            ]
           ],
           "sequential": [
            [
             0,
             "#0d0887"
            ],
            [
             0.1111111111111111,
             "#46039f"
            ],
            [
             0.2222222222222222,
             "#7201a8"
            ],
            [
             0.3333333333333333,
             "#9c179e"
            ],
            [
             0.4444444444444444,
             "#bd3786"
            ],
            [
             0.5555555555555556,
             "#d8576b"
            ],
            [
             0.6666666666666666,
             "#ed7953"
            ],
            [
             0.7777777777777778,
             "#fb9f3a"
            ],
            [
             0.8888888888888888,
             "#fdca26"
            ],
            [
             1,
             "#f0f921"
            ]
           ],
           "sequentialminus": [
            [
             0,
             "#0d0887"
            ],
            [
             0.1111111111111111,
             "#46039f"
            ],
            [
             0.2222222222222222,
             "#7201a8"
            ],
            [
             0.3333333333333333,
             "#9c179e"
            ],
            [
             0.4444444444444444,
             "#bd3786"
            ],
            [
             0.5555555555555556,
             "#d8576b"
            ],
            [
             0.6666666666666666,
             "#ed7953"
            ],
            [
             0.7777777777777778,
             "#fb9f3a"
            ],
            [
             0.8888888888888888,
             "#fdca26"
            ],
            [
             1,
             "#f0f921"
            ]
           ]
          },
          "colorway": [
           "#636efa",
           "#EF553B",
           "#00cc96",
           "#ab63fa",
           "#FFA15A",
           "#19d3f3",
           "#FF6692",
           "#B6E880",
           "#FF97FF",
           "#FECB52"
          ],
          "font": {
           "color": "#2a3f5f"
          },
          "geo": {
           "bgcolor": "white",
           "lakecolor": "white",
           "landcolor": "#E5ECF6",
           "showlakes": true,
           "showland": true,
           "subunitcolor": "white"
          },
          "hoverlabel": {
           "align": "left"
          },
          "hovermode": "closest",
          "mapbox": {
           "style": "light"
          },
          "paper_bgcolor": "white",
          "plot_bgcolor": "#E5ECF6",
          "polar": {
           "angularaxis": {
            "gridcolor": "white",
            "linecolor": "white",
            "ticks": ""
           },
           "bgcolor": "#E5ECF6",
           "radialaxis": {
            "gridcolor": "white",
            "linecolor": "white",
            "ticks": ""
           }
          },
          "scene": {
           "xaxis": {
            "backgroundcolor": "#E5ECF6",
            "gridcolor": "white",
            "gridwidth": 2,
            "linecolor": "white",
            "showbackground": true,
            "ticks": "",
            "zerolinecolor": "white"
           },
           "yaxis": {
            "backgroundcolor": "#E5ECF6",
            "gridcolor": "white",
            "gridwidth": 2,
            "linecolor": "white",
            "showbackground": true,
            "ticks": "",
            "zerolinecolor": "white"
           },
           "zaxis": {
            "backgroundcolor": "#E5ECF6",
            "gridcolor": "white",
            "gridwidth": 2,
            "linecolor": "white",
            "showbackground": true,
            "ticks": "",
            "zerolinecolor": "white"
           }
          },
          "shapedefaults": {
           "line": {
            "color": "#2a3f5f"
           }
          },
          "ternary": {
           "aaxis": {
            "gridcolor": "white",
            "linecolor": "white",
            "ticks": ""
           },
           "baxis": {
            "gridcolor": "white",
            "linecolor": "white",
            "ticks": ""
           },
           "bgcolor": "#E5ECF6",
           "caxis": {
            "gridcolor": "white",
            "linecolor": "white",
            "ticks": ""
           }
          },
          "title": {
           "x": 0.05
          },
          "xaxis": {
           "automargin": true,
           "gridcolor": "white",
           "linecolor": "white",
           "ticks": "",
           "title": {
            "standoff": 15
           },
           "zerolinecolor": "white",
           "zerolinewidth": 2
          },
          "yaxis": {
           "automargin": true,
           "gridcolor": "white",
           "linecolor": "white",
           "ticks": "",
           "title": {
            "standoff": 15
           },
           "zerolinecolor": "white",
           "zerolinewidth": 2
          }
         }
        },
        "title": {
         "text": "Model Player : The most effective features sorted"
        },
        "xaxis": {
         "anchor": "y",
         "domain": [
          0,
          1
         ],
         "title": {
          "text": "Features"
         }
        },
        "yaxis": {
         "anchor": "x",
         "domain": [
          0,
          1
         ],
         "title": {
          "text": "Imporatnce scores"
         }
        }
       }
      },
      "text/html": [
       "<div>                            <div id=\"636b344d-1e54-4b9e-8cd3-b14bff8947be\" class=\"plotly-graph-div\" style=\"height:525px; width:100%;\"></div>            <script type=\"text/javascript\">                require([\"plotly\"], function(Plotly) {                    window.PLOTLYENV=window.PLOTLYENV || {};                                    if (document.getElementById(\"636b344d-1e54-4b9e-8cd3-b14bff8947be\")) {                    Plotly.newPlot(                        \"636b344d-1e54-4b9e-8cd3-b14bff8947be\",                        [{\"alignmentgroup\":\"True\",\"hovertemplate\":\"x=%{x}<br>y=%{y}<br>text=%{text}<br>color=%{marker.color}<extra></extra>\",\"legendgroup\":\"\",\"marker\":{\"color\":[0.1137,0.102,0.0931,0.0884,0.0853,0.0835,0.0748,0.0747,0.0725,0.0714,0.0712,0.0694],\"coloraxis\":\"coloraxis\",\"pattern\":{\"shape\":\"\"}},\"name\":\"\",\"offsetgroup\":\"\",\"orientation\":\"v\",\"showlegend\":false,\"text\":[\"0.1137\",\"0.102\",\"0.0931\",\"0.0884\",\"0.0853\",\"0.0835\",\"0.0748\",\"0.0747\",\"0.0725\",\"0.0714\",\"0.0712\",\"0.0694\"],\"textposition\":\"auto\",\"type\":\"bar\",\"x\":[\"He likes to be part of a team and enjoy collective activities\",\"It's fun to be with others more than to be alone\",\"It is important for him that is always his duties in full\",\"He likes to defeat obstacles\",\"He do not like to follow the rules\",\"He likes to change things by himself\",\"He likes to try new things\",\"If sufficient reward will strive\",\"He loves competitions where they can win a prize\",\"It is important for him to follow his own way\",\"Likes to help others\",\"Loves to share his knowledge\"],\"xaxis\":\"x\",\"y\":[0.1137,0.102,0.0931,0.0884,0.0853,0.0835,0.0748,0.0747,0.0725,0.0714,0.0712,0.0694],\"yaxis\":\"y\"}],                        {\"barmode\":\"relative\",\"coloraxis\":{\"colorbar\":{\"title\":{\"text\":\"color\"}},\"colorscale\":[[0.0,\"#0d0887\"],[0.1111111111111111,\"#46039f\"],[0.2222222222222222,\"#7201a8\"],[0.3333333333333333,\"#9c179e\"],[0.4444444444444444,\"#bd3786\"],[0.5555555555555556,\"#d8576b\"],[0.6666666666666666,\"#ed7953\"],[0.7777777777777778,\"#fb9f3a\"],[0.8888888888888888,\"#fdca26\"],[1.0,\"#f0f921\"]]},\"legend\":{\"tracegroupgap\":0},\"template\":{\"data\":{\"bar\":[{\"error_x\":{\"color\":\"#2a3f5f\"},\"error_y\":{\"color\":\"#2a3f5f\"},\"marker\":{\"line\":{\"color\":\"#E5ECF6\",\"width\":0.5},\"pattern\":{\"fillmode\":\"overlay\",\"size\":10,\"solidity\":0.2}},\"type\":\"bar\"}],\"barpolar\":[{\"marker\":{\"line\":{\"color\":\"#E5ECF6\",\"width\":0.5},\"pattern\":{\"fillmode\":\"overlay\",\"size\":10,\"solidity\":0.2}},\"type\":\"barpolar\"}],\"carpet\":[{\"aaxis\":{\"endlinecolor\":\"#2a3f5f\",\"gridcolor\":\"white\",\"linecolor\":\"white\",\"minorgridcolor\":\"white\",\"startlinecolor\":\"#2a3f5f\"},\"baxis\":{\"endlinecolor\":\"#2a3f5f\",\"gridcolor\":\"white\",\"linecolor\":\"white\",\"minorgridcolor\":\"white\",\"startlinecolor\":\"#2a3f5f\"},\"type\":\"carpet\"}],\"choropleth\":[{\"colorbar\":{\"outlinewidth\":0,\"ticks\":\"\"},\"type\":\"choropleth\"}],\"contour\":[{\"colorbar\":{\"outlinewidth\":0,\"ticks\":\"\"},\"colorscale\":[[0.0,\"#0d0887\"],[0.1111111111111111,\"#46039f\"],[0.2222222222222222,\"#7201a8\"],[0.3333333333333333,\"#9c179e\"],[0.4444444444444444,\"#bd3786\"],[0.5555555555555556,\"#d8576b\"],[0.6666666666666666,\"#ed7953\"],[0.7777777777777778,\"#fb9f3a\"],[0.8888888888888888,\"#fdca26\"],[1.0,\"#f0f921\"]],\"type\":\"contour\"}],\"contourcarpet\":[{\"colorbar\":{\"outlinewidth\":0,\"ticks\":\"\"},\"type\":\"contourcarpet\"}],\"heatmap\":[{\"colorbar\":{\"outlinewidth\":0,\"ticks\":\"\"},\"colorscale\":[[0.0,\"#0d0887\"],[0.1111111111111111,\"#46039f\"],[0.2222222222222222,\"#7201a8\"],[0.3333333333333333,\"#9c179e\"],[0.4444444444444444,\"#bd3786\"],[0.5555555555555556,\"#d8576b\"],[0.6666666666666666,\"#ed7953\"],[0.7777777777777778,\"#fb9f3a\"],[0.8888888888888888,\"#fdca26\"],[1.0,\"#f0f921\"]],\"type\":\"heatmap\"}],\"heatmapgl\":[{\"colorbar\":{\"outlinewidth\":0,\"ticks\":\"\"},\"colorscale\":[[0.0,\"#0d0887\"],[0.1111111111111111,\"#46039f\"],[0.2222222222222222,\"#7201a8\"],[0.3333333333333333,\"#9c179e\"],[0.4444444444444444,\"#bd3786\"],[0.5555555555555556,\"#d8576b\"],[0.6666666666666666,\"#ed7953\"],[0.7777777777777778,\"#fb9f3a\"],[0.8888888888888888,\"#fdca26\"],[1.0,\"#f0f921\"]],\"type\":\"heatmapgl\"}],\"histogram\":[{\"marker\":{\"pattern\":{\"fillmode\":\"overlay\",\"size\":10,\"solidity\":0.2}},\"type\":\"histogram\"}],\"histogram2d\":[{\"colorbar\":{\"outlinewidth\":0,\"ticks\":\"\"},\"colorscale\":[[0.0,\"#0d0887\"],[0.1111111111111111,\"#46039f\"],[0.2222222222222222,\"#7201a8\"],[0.3333333333333333,\"#9c179e\"],[0.4444444444444444,\"#bd3786\"],[0.5555555555555556,\"#d8576b\"],[0.6666666666666666,\"#ed7953\"],[0.7777777777777778,\"#fb9f3a\"],[0.8888888888888888,\"#fdca26\"],[1.0,\"#f0f921\"]],\"type\":\"histogram2d\"}],\"histogram2dcontour\":[{\"colorbar\":{\"outlinewidth\":0,\"ticks\":\"\"},\"colorscale\":[[0.0,\"#0d0887\"],[0.1111111111111111,\"#46039f\"],[0.2222222222222222,\"#7201a8\"],[0.3333333333333333,\"#9c179e\"],[0.4444444444444444,\"#bd3786\"],[0.5555555555555556,\"#d8576b\"],[0.6666666666666666,\"#ed7953\"],[0.7777777777777778,\"#fb9f3a\"],[0.8888888888888888,\"#fdca26\"],[1.0,\"#f0f921\"]],\"type\":\"histogram2dcontour\"}],\"mesh3d\":[{\"colorbar\":{\"outlinewidth\":0,\"ticks\":\"\"},\"type\":\"mesh3d\"}],\"parcoords\":[{\"line\":{\"colorbar\":{\"outlinewidth\":0,\"ticks\":\"\"}},\"type\":\"parcoords\"}],\"pie\":[{\"automargin\":true,\"type\":\"pie\"}],\"scatter\":[{\"marker\":{\"colorbar\":{\"outlinewidth\":0,\"ticks\":\"\"}},\"type\":\"scatter\"}],\"scatter3d\":[{\"line\":{\"colorbar\":{\"outlinewidth\":0,\"ticks\":\"\"}},\"marker\":{\"colorbar\":{\"outlinewidth\":0,\"ticks\":\"\"}},\"type\":\"scatter3d\"}],\"scattercarpet\":[{\"marker\":{\"colorbar\":{\"outlinewidth\":0,\"ticks\":\"\"}},\"type\":\"scattercarpet\"}],\"scattergeo\":[{\"marker\":{\"colorbar\":{\"outlinewidth\":0,\"ticks\":\"\"}},\"type\":\"scattergeo\"}],\"scattergl\":[{\"marker\":{\"colorbar\":{\"outlinewidth\":0,\"ticks\":\"\"}},\"type\":\"scattergl\"}],\"scattermapbox\":[{\"marker\":{\"colorbar\":{\"outlinewidth\":0,\"ticks\":\"\"}},\"type\":\"scattermapbox\"}],\"scatterpolar\":[{\"marker\":{\"colorbar\":{\"outlinewidth\":0,\"ticks\":\"\"}},\"type\":\"scatterpolar\"}],\"scatterpolargl\":[{\"marker\":{\"colorbar\":{\"outlinewidth\":0,\"ticks\":\"\"}},\"type\":\"scatterpolargl\"}],\"scatterternary\":[{\"marker\":{\"colorbar\":{\"outlinewidth\":0,\"ticks\":\"\"}},\"type\":\"scatterternary\"}],\"surface\":[{\"colorbar\":{\"outlinewidth\":0,\"ticks\":\"\"},\"colorscale\":[[0.0,\"#0d0887\"],[0.1111111111111111,\"#46039f\"],[0.2222222222222222,\"#7201a8\"],[0.3333333333333333,\"#9c179e\"],[0.4444444444444444,\"#bd3786\"],[0.5555555555555556,\"#d8576b\"],[0.6666666666666666,\"#ed7953\"],[0.7777777777777778,\"#fb9f3a\"],[0.8888888888888888,\"#fdca26\"],[1.0,\"#f0f921\"]],\"type\":\"surface\"}],\"table\":[{\"cells\":{\"fill\":{\"color\":\"#EBF0F8\"},\"line\":{\"color\":\"white\"}},\"header\":{\"fill\":{\"color\":\"#C8D4E3\"},\"line\":{\"color\":\"white\"}},\"type\":\"table\"}]},\"layout\":{\"annotationdefaults\":{\"arrowcolor\":\"#2a3f5f\",\"arrowhead\":0,\"arrowwidth\":1},\"autotypenumbers\":\"strict\",\"coloraxis\":{\"colorbar\":{\"outlinewidth\":0,\"ticks\":\"\"}},\"colorscale\":{\"diverging\":[[0,\"#8e0152\"],[0.1,\"#c51b7d\"],[0.2,\"#de77ae\"],[0.3,\"#f1b6da\"],[0.4,\"#fde0ef\"],[0.5,\"#f7f7f7\"],[0.6,\"#e6f5d0\"],[0.7,\"#b8e186\"],[0.8,\"#7fbc41\"],[0.9,\"#4d9221\"],[1,\"#276419\"]],\"sequential\":[[0.0,\"#0d0887\"],[0.1111111111111111,\"#46039f\"],[0.2222222222222222,\"#7201a8\"],[0.3333333333333333,\"#9c179e\"],[0.4444444444444444,\"#bd3786\"],[0.5555555555555556,\"#d8576b\"],[0.6666666666666666,\"#ed7953\"],[0.7777777777777778,\"#fb9f3a\"],[0.8888888888888888,\"#fdca26\"],[1.0,\"#f0f921\"]],\"sequentialminus\":[[0.0,\"#0d0887\"],[0.1111111111111111,\"#46039f\"],[0.2222222222222222,\"#7201a8\"],[0.3333333333333333,\"#9c179e\"],[0.4444444444444444,\"#bd3786\"],[0.5555555555555556,\"#d8576b\"],[0.6666666666666666,\"#ed7953\"],[0.7777777777777778,\"#fb9f3a\"],[0.8888888888888888,\"#fdca26\"],[1.0,\"#f0f921\"]]},\"colorway\":[\"#636efa\",\"#EF553B\",\"#00cc96\",\"#ab63fa\",\"#FFA15A\",\"#19d3f3\",\"#FF6692\",\"#B6E880\",\"#FF97FF\",\"#FECB52\"],\"font\":{\"color\":\"#2a3f5f\"},\"geo\":{\"bgcolor\":\"white\",\"lakecolor\":\"white\",\"landcolor\":\"#E5ECF6\",\"showlakes\":true,\"showland\":true,\"subunitcolor\":\"white\"},\"hoverlabel\":{\"align\":\"left\"},\"hovermode\":\"closest\",\"mapbox\":{\"style\":\"light\"},\"paper_bgcolor\":\"white\",\"plot_bgcolor\":\"#E5ECF6\",\"polar\":{\"angularaxis\":{\"gridcolor\":\"white\",\"linecolor\":\"white\",\"ticks\":\"\"},\"bgcolor\":\"#E5ECF6\",\"radialaxis\":{\"gridcolor\":\"white\",\"linecolor\":\"white\",\"ticks\":\"\"}},\"scene\":{\"xaxis\":{\"backgroundcolor\":\"#E5ECF6\",\"gridcolor\":\"white\",\"gridwidth\":2,\"linecolor\":\"white\",\"showbackground\":true,\"ticks\":\"\",\"zerolinecolor\":\"white\"},\"yaxis\":{\"backgroundcolor\":\"#E5ECF6\",\"gridcolor\":\"white\",\"gridwidth\":2,\"linecolor\":\"white\",\"showbackground\":true,\"ticks\":\"\",\"zerolinecolor\":\"white\"},\"zaxis\":{\"backgroundcolor\":\"#E5ECF6\",\"gridcolor\":\"white\",\"gridwidth\":2,\"linecolor\":\"white\",\"showbackground\":true,\"ticks\":\"\",\"zerolinecolor\":\"white\"}},\"shapedefaults\":{\"line\":{\"color\":\"#2a3f5f\"}},\"ternary\":{\"aaxis\":{\"gridcolor\":\"white\",\"linecolor\":\"white\",\"ticks\":\"\"},\"baxis\":{\"gridcolor\":\"white\",\"linecolor\":\"white\",\"ticks\":\"\"},\"bgcolor\":\"#E5ECF6\",\"caxis\":{\"gridcolor\":\"white\",\"linecolor\":\"white\",\"ticks\":\"\"}},\"title\":{\"x\":0.05},\"xaxis\":{\"automargin\":true,\"gridcolor\":\"white\",\"linecolor\":\"white\",\"ticks\":\"\",\"title\":{\"standoff\":15},\"zerolinecolor\":\"white\",\"zerolinewidth\":2},\"yaxis\":{\"automargin\":true,\"gridcolor\":\"white\",\"linecolor\":\"white\",\"ticks\":\"\",\"title\":{\"standoff\":15},\"zerolinecolor\":\"white\",\"zerolinewidth\":2}}},\"title\":{\"text\":\"Model Player : The most effective features sorted\"},\"xaxis\":{\"anchor\":\"y\",\"domain\":[0.0,1.0],\"title\":{\"text\":\"Features\"}},\"yaxis\":{\"anchor\":\"x\",\"domain\":[0.0,1.0],\"title\":{\"text\":\"Imporatnce scores\"}}},                        {\"responsive\": true}                    ).then(function(){\n",
       "                            \n",
       "var gd = document.getElementById('636b344d-1e54-4b9e-8cd3-b14bff8947be');\n",
       "var x = new MutationObserver(function (mutations, observer) {{\n",
       "        var display = window.getComputedStyle(gd).display;\n",
       "        if (!display || display === 'none') {{\n",
       "            console.log([gd, 'removed!']);\n",
       "            Plotly.purge(gd);\n",
       "            observer.disconnect();\n",
       "        }}\n",
       "}});\n",
       "\n",
       "// Listen for the removal of the full notebook cells\n",
       "var notebookContainer = gd.closest('#notebook-container');\n",
       "if (notebookContainer) {{\n",
       "    x.observe(notebookContainer, {childList: true});\n",
       "}}\n",
       "\n",
       "// Listen for the clearing of the current output cell\n",
       "var outputEl = gd.closest('.output');\n",
       "if (outputEl) {{\n",
       "    x.observe(outputEl, {childList: true});\n",
       "}}\n",
       "\n",
       "                        })                };                });            </script>        </div>"
      ]
     },
     "metadata": {},
     "output_type": "display_data"
    }
   ],
   "source": [
    "#Extract the feature importances scores from the model\n",
    "importance_player = Model_player.feature_importances_\n",
    "\n",
    "#Combine the features with names\n",
    "list_features = sorted(zip(importance_player, player_features), reverse=True)\n",
    "all_features = {}\n",
    "for i in list_features : \n",
    "    all_features[i[1]]=round(i[0],4)\n",
    "\n",
    "x= list(all_features.keys())\n",
    "y= list(all_features.values())\n",
    "\n",
    "sorted_features['PlayerType'] = x\n",
    "\n",
    "#Plot feature importance\n",
    "fig = px.bar( y=y, x=x, text=y,color=y, title=\"Model Player : The most effective features sorted\")\n",
    "fig.update_xaxes(title_text='Features')\n",
    "fig.update_yaxes(title_text='Imporatnce scores')\n",
    "fig.show()"
   ]
  },
  {
   "cell_type": "markdown",
   "id": "cce9b86e",
   "metadata": {},
   "source": [
    "## 3.Trouble Type"
   ]
  },
  {
   "cell_type": "code",
   "execution_count": 517,
   "id": "69e81666",
   "metadata": {},
   "outputs": [
    {
     "data": {
      "text/html": [
       "<div>\n",
       "<style scoped>\n",
       "    .dataframe tbody tr th:only-of-type {\n",
       "        vertical-align: middle;\n",
       "    }\n",
       "\n",
       "    .dataframe tbody tr th {\n",
       "        vertical-align: top;\n",
       "    }\n",
       "\n",
       "    .dataframe thead th {\n",
       "        text-align: right;\n",
       "    }\n",
       "</style>\n",
       "<table border=\"1\" class=\"dataframe\">\n",
       "  <thead>\n",
       "    <tr style=\"text-align: right;\">\n",
       "      <th></th>\n",
       "      <th>Does he have health probems ?</th>\n",
       "      <th>Does he have social family problems?</th>\n",
       "      <th>Is there a variation between his real qualifications and its results?</th>\n",
       "      <th>Does he have any difficulties?</th>\n",
       "      <th>Does your child avoid activities that require reading to complete?</th>\n",
       "      <th>he ?it fast/slow while reading ?</th>\n",
       "      <th>When reading aloud, does your child repeat words, change their order, or mix up similar letters (?\\ or ?\\? or ?\\? or p/b or f/v or k/g/jÉ) without notice?</th>\n",
       "      <th>Does he have trouble reading unknown words?</th>\n",
       "      <th>Does he face difficulty understanding what he read?</th>\n",
       "      <th>Does he reflect numbers? {Ex 81 -&gt; 18}</th>\n",
       "      <th>...</th>\n",
       "      <th>Does he have a problem copying?</th>\n",
       "      <th>Does it confuse symbols and/or mathematical operations?</th>\n",
       "      <th>Does he have trouble comparing the relative size of integers and/or fractions?</th>\n",
       "      <th>Does he have difficulties with concepts related to time and/or money?</th>\n",
       "      <th>Is it difficult to understand the statement of calculations and solve it?</th>\n",
       "      <th>Is he having difficulties in calculating? {Facing problems in performing arithmetic operations such as addition and subtraction ...}</th>\n",
       "      <th>Is he having trouble maintaining attention for more than 15 minutes?</th>\n",
       "      <th>It takes a long time to complete simple tasks?</th>\n",
       "      <th>Does he have a hard time bearing boredom or strenuous tasks?</th>\n",
       "      <th>TypeTrouble</th>\n",
       "    </tr>\n",
       "  </thead>\n",
       "  <tbody>\n",
       "    <tr>\n",
       "      <th>0</th>\n",
       "      <td>No</td>\n",
       "      <td>No</td>\n",
       "      <td>Yeah</td>\n",
       "      <td>In particular article</td>\n",
       "      <td>Repeatedly / always</td>\n",
       "      <td>Average</td>\n",
       "      <td>Rarely / never</td>\n",
       "      <td>Sometimes</td>\n",
       "      <td>Rarely / never</td>\n",
       "      <td>Rarely / never</td>\n",
       "      <td>...</td>\n",
       "      <td>Repeatedly / always</td>\n",
       "      <td>Sometimes</td>\n",
       "      <td>Repeatedly / always</td>\n",
       "      <td>Sometimes</td>\n",
       "      <td>Sometimes</td>\n",
       "      <td>Repeatedly / always</td>\n",
       "      <td>Repeatedly / always</td>\n",
       "      <td>Rarely / never</td>\n",
       "      <td>Repeatedly / always</td>\n",
       "      <td>Type_dyscalculie</td>\n",
       "    </tr>\n",
       "    <tr>\n",
       "      <th>1</th>\n",
       "      <td>No</td>\n",
       "      <td>No</td>\n",
       "      <td>No</td>\n",
       "      <td>In particular article</td>\n",
       "      <td>Sometimes</td>\n",
       "      <td>Average</td>\n",
       "      <td>Repeatedly / always</td>\n",
       "      <td>Rarely / never</td>\n",
       "      <td>Sometimes</td>\n",
       "      <td>Sometimes</td>\n",
       "      <td>...</td>\n",
       "      <td>Rarely / never</td>\n",
       "      <td>Sometimes</td>\n",
       "      <td>Repeatedly / always</td>\n",
       "      <td>Repeatedly / always</td>\n",
       "      <td>Rarely / never</td>\n",
       "      <td>Sometimes</td>\n",
       "      <td>Repeatedly / always</td>\n",
       "      <td>Rarely / never</td>\n",
       "      <td>Repeatedly / always</td>\n",
       "      <td>Concentration</td>\n",
       "    </tr>\n",
       "    <tr>\n",
       "      <th>2</th>\n",
       "      <td>Yeah</td>\n",
       "      <td>Yeah</td>\n",
       "      <td>Yeah</td>\n",
       "      <td>In particular article</td>\n",
       "      <td>Rarely / never</td>\n",
       "      <td>Average</td>\n",
       "      <td>Sometimes</td>\n",
       "      <td>Repeatedly / always</td>\n",
       "      <td>Repeatedly / always</td>\n",
       "      <td>Rarely / never</td>\n",
       "      <td>...</td>\n",
       "      <td>Rarely / never</td>\n",
       "      <td>Rarely / never</td>\n",
       "      <td>Sometimes</td>\n",
       "      <td>Sometimes</td>\n",
       "      <td>Repeatedly / always</td>\n",
       "      <td>Repeatedly / always</td>\n",
       "      <td>Sometimes</td>\n",
       "      <td>Repeatedly / always</td>\n",
       "      <td>Rarely / never</td>\n",
       "      <td>Type_dyslexie</td>\n",
       "    </tr>\n",
       "    <tr>\n",
       "      <th>3</th>\n",
       "      <td>No</td>\n",
       "      <td>No</td>\n",
       "      <td>Yeah</td>\n",
       "      <td>In all materials</td>\n",
       "      <td>Sometimes</td>\n",
       "      <td>Slow</td>\n",
       "      <td>Repeatedly / always</td>\n",
       "      <td>Rarely / never</td>\n",
       "      <td>Sometimes</td>\n",
       "      <td>Sometimes</td>\n",
       "      <td>...</td>\n",
       "      <td>Repeatedly / always</td>\n",
       "      <td>Rarely / never</td>\n",
       "      <td>Sometimes</td>\n",
       "      <td>Repeatedly / always</td>\n",
       "      <td>Sometimes</td>\n",
       "      <td>Sometimes</td>\n",
       "      <td>Repeatedly / always</td>\n",
       "      <td>Repeatedly / always</td>\n",
       "      <td>Sometimes</td>\n",
       "      <td>Concentration</td>\n",
       "    </tr>\n",
       "    <tr>\n",
       "      <th>4</th>\n",
       "      <td>Yeah</td>\n",
       "      <td>Yeah</td>\n",
       "      <td>No</td>\n",
       "      <td>In particular article</td>\n",
       "      <td>Repeatedly / always</td>\n",
       "      <td>Average</td>\n",
       "      <td>Repeatedly / always</td>\n",
       "      <td>Repeatedly / always</td>\n",
       "      <td>Rarely / never</td>\n",
       "      <td>Sometimes</td>\n",
       "      <td>...</td>\n",
       "      <td>Rarely / never</td>\n",
       "      <td>Rarely / never</td>\n",
       "      <td>Rarely / never</td>\n",
       "      <td>Rarely / never</td>\n",
       "      <td>Rarely / never</td>\n",
       "      <td>Rarely / never</td>\n",
       "      <td>Rarely / never</td>\n",
       "      <td>Rarely / never</td>\n",
       "      <td>Rarely / never</td>\n",
       "      <td>Type_dyslexie</td>\n",
       "    </tr>\n",
       "    <tr>\n",
       "      <th>...</th>\n",
       "      <td>...</td>\n",
       "      <td>...</td>\n",
       "      <td>...</td>\n",
       "      <td>...</td>\n",
       "      <td>...</td>\n",
       "      <td>...</td>\n",
       "      <td>...</td>\n",
       "      <td>...</td>\n",
       "      <td>...</td>\n",
       "      <td>...</td>\n",
       "      <td>...</td>\n",
       "      <td>...</td>\n",
       "      <td>...</td>\n",
       "      <td>...</td>\n",
       "      <td>...</td>\n",
       "      <td>...</td>\n",
       "      <td>...</td>\n",
       "      <td>...</td>\n",
       "      <td>...</td>\n",
       "      <td>...</td>\n",
       "      <td>...</td>\n",
       "    </tr>\n",
       "    <tr>\n",
       "      <th>995</th>\n",
       "      <td>No</td>\n",
       "      <td>No</td>\n",
       "      <td>No</td>\n",
       "      <td>In particular article</td>\n",
       "      <td>Rarely / never</td>\n",
       "      <td>Slow</td>\n",
       "      <td>Sometimes</td>\n",
       "      <td>Repeatedly / always</td>\n",
       "      <td>Repeatedly / always</td>\n",
       "      <td>Rarely / never</td>\n",
       "      <td>...</td>\n",
       "      <td>Sometimes</td>\n",
       "      <td>Sometimes</td>\n",
       "      <td>Rarely / never</td>\n",
       "      <td>Rarely / never</td>\n",
       "      <td>Rarely / never</td>\n",
       "      <td>Rarely / never</td>\n",
       "      <td>Repeatedly / always</td>\n",
       "      <td>Rarely / never</td>\n",
       "      <td>Rarely / never</td>\n",
       "      <td>Type_dyslexie</td>\n",
       "    </tr>\n",
       "    <tr>\n",
       "      <th>996</th>\n",
       "      <td>Yeah</td>\n",
       "      <td>Yeah</td>\n",
       "      <td>Yeah</td>\n",
       "      <td>In all materials</td>\n",
       "      <td>Sometimes</td>\n",
       "      <td>Slow</td>\n",
       "      <td>Sometimes</td>\n",
       "      <td>Rarely / never</td>\n",
       "      <td>Repeatedly / always</td>\n",
       "      <td>Rarely / never</td>\n",
       "      <td>...</td>\n",
       "      <td>Repeatedly / always</td>\n",
       "      <td>Repeatedly / always</td>\n",
       "      <td>Sometimes</td>\n",
       "      <td>Rarely / never</td>\n",
       "      <td>Rarely / never</td>\n",
       "      <td>Sometimes</td>\n",
       "      <td>Sometimes</td>\n",
       "      <td>Repeatedly / always</td>\n",
       "      <td>Repeatedly / always</td>\n",
       "      <td>Concentration</td>\n",
       "    </tr>\n",
       "    <tr>\n",
       "      <th>997</th>\n",
       "      <td>Yeah</td>\n",
       "      <td>No</td>\n",
       "      <td>Yeah</td>\n",
       "      <td>In particular article</td>\n",
       "      <td>Sometimes</td>\n",
       "      <td>Fast</td>\n",
       "      <td>Rarely / never</td>\n",
       "      <td>Sometimes</td>\n",
       "      <td>Repeatedly / always</td>\n",
       "      <td>Rarely / never</td>\n",
       "      <td>...</td>\n",
       "      <td>Rarely / never</td>\n",
       "      <td>Rarely / never</td>\n",
       "      <td>Repeatedly / always</td>\n",
       "      <td>Repeatedly / always</td>\n",
       "      <td>Sometimes</td>\n",
       "      <td>Repeatedly / always</td>\n",
       "      <td>Rarely / never</td>\n",
       "      <td>Repeatedly / always</td>\n",
       "      <td>Repeatedly / always</td>\n",
       "      <td>Type_dyscalculie</td>\n",
       "    </tr>\n",
       "    <tr>\n",
       "      <th>998</th>\n",
       "      <td>Yeah</td>\n",
       "      <td>No</td>\n",
       "      <td>No</td>\n",
       "      <td>In all materials</td>\n",
       "      <td>Rarely / never</td>\n",
       "      <td>Fast</td>\n",
       "      <td>Repeatedly / always</td>\n",
       "      <td>Repeatedly / always</td>\n",
       "      <td>Rarely / never</td>\n",
       "      <td>Repeatedly / always</td>\n",
       "      <td>...</td>\n",
       "      <td>Sometimes</td>\n",
       "      <td>Repeatedly / always</td>\n",
       "      <td>Sometimes</td>\n",
       "      <td>Sometimes</td>\n",
       "      <td>Repeatedly / always</td>\n",
       "      <td>Rarely / never</td>\n",
       "      <td>Sometimes</td>\n",
       "      <td>Sometimes</td>\n",
       "      <td>Repeatedly / always</td>\n",
       "      <td>Concentration</td>\n",
       "    </tr>\n",
       "    <tr>\n",
       "      <th>999</th>\n",
       "      <td>Yeah</td>\n",
       "      <td>Yeah</td>\n",
       "      <td>Yeah</td>\n",
       "      <td>In all materials</td>\n",
       "      <td>Sometimes</td>\n",
       "      <td>Slow</td>\n",
       "      <td>Rarely / never</td>\n",
       "      <td>Repeatedly / always</td>\n",
       "      <td>Rarely / never</td>\n",
       "      <td>Sometimes</td>\n",
       "      <td>...</td>\n",
       "      <td>Sometimes</td>\n",
       "      <td>Sometimes</td>\n",
       "      <td>Sometimes</td>\n",
       "      <td>Sometimes</td>\n",
       "      <td>Sometimes</td>\n",
       "      <td>Repeatedly / always</td>\n",
       "      <td>Rarely / never</td>\n",
       "      <td>Sometimes</td>\n",
       "      <td>Rarely / never</td>\n",
       "      <td>Type_dyscalculie</td>\n",
       "    </tr>\n",
       "  </tbody>\n",
       "</table>\n",
       "<p>1000 rows × 23 columns</p>\n",
       "</div>"
      ],
      "text/plain": [
       "    Does he have health probems ? Does he have social family problems?  \\\n",
       "0                              No                                   No   \n",
       "1                              No                                   No   \n",
       "2                            Yeah                                 Yeah   \n",
       "3                              No                                   No   \n",
       "4                            Yeah                                 Yeah   \n",
       "..                            ...                                  ...   \n",
       "995                            No                                   No   \n",
       "996                          Yeah                                 Yeah   \n",
       "997                          Yeah                                   No   \n",
       "998                          Yeah                                   No   \n",
       "999                          Yeah                                 Yeah   \n",
       "\n",
       "    Is there a variation between his real qualifications and its results?  \\\n",
       "0                                                 Yeah                      \n",
       "1                                                   No                      \n",
       "2                                                 Yeah                      \n",
       "3                                                 Yeah                      \n",
       "4                                                   No                      \n",
       "..                                                 ...                      \n",
       "995                                                 No                      \n",
       "996                                               Yeah                      \n",
       "997                                               Yeah                      \n",
       "998                                                 No                      \n",
       "999                                               Yeah                      \n",
       "\n",
       "    Does he have any difficulties?  \\\n",
       "0            In particular article   \n",
       "1            In particular article   \n",
       "2            In particular article   \n",
       "3                 In all materials   \n",
       "4            In particular article   \n",
       "..                             ...   \n",
       "995          In particular article   \n",
       "996               In all materials   \n",
       "997          In particular article   \n",
       "998               In all materials   \n",
       "999               In all materials   \n",
       "\n",
       "    Does your child avoid activities that require reading to complete?  \\\n",
       "0                                  Repeatedly / always                   \n",
       "1                                            Sometimes                   \n",
       "2                                       Rarely / never                   \n",
       "3                                            Sometimes                   \n",
       "4                                  Repeatedly / always                   \n",
       "..                                                 ...                   \n",
       "995                                     Rarely / never                   \n",
       "996                                          Sometimes                   \n",
       "997                                          Sometimes                   \n",
       "998                                     Rarely / never                   \n",
       "999                                          Sometimes                   \n",
       "\n",
       "    he ?it fast/slow while reading ?  \\\n",
       "0                            Average   \n",
       "1                            Average   \n",
       "2                            Average   \n",
       "3                               Slow   \n",
       "4                            Average   \n",
       "..                               ...   \n",
       "995                             Slow   \n",
       "996                             Slow   \n",
       "997                             Fast   \n",
       "998                             Fast   \n",
       "999                             Slow   \n",
       "\n",
       "    When reading aloud, does your child repeat words, change their order, or mix up similar letters (?\\ or ?\\? or ?\\? or p/b or f/v or k/g/jÉ) without notice?  \\\n",
       "0                                       Rarely / never                                                                                                           \n",
       "1                                  Repeatedly / always                                                                                                           \n",
       "2                                            Sometimes                                                                                                           \n",
       "3                                  Repeatedly / always                                                                                                           \n",
       "4                                  Repeatedly / always                                                                                                           \n",
       "..                                                 ...                                                                                                           \n",
       "995                                          Sometimes                                                                                                           \n",
       "996                                          Sometimes                                                                                                           \n",
       "997                                     Rarely / never                                                                                                           \n",
       "998                                Repeatedly / always                                                                                                           \n",
       "999                                     Rarely / never                                                                                                           \n",
       "\n",
       "    Does he have trouble reading unknown words?  \\\n",
       "0                                     Sometimes   \n",
       "1                                Rarely / never   \n",
       "2                           Repeatedly / always   \n",
       "3                                Rarely / never   \n",
       "4                           Repeatedly / always   \n",
       "..                                          ...   \n",
       "995                         Repeatedly / always   \n",
       "996                              Rarely / never   \n",
       "997                                   Sometimes   \n",
       "998                         Repeatedly / always   \n",
       "999                         Repeatedly / always   \n",
       "\n",
       "    Does he face difficulty understanding what he read?  \\\n",
       "0                                       Rarely / never    \n",
       "1                                            Sometimes    \n",
       "2                                  Repeatedly / always    \n",
       "3                                            Sometimes    \n",
       "4                                       Rarely / never    \n",
       "..                                                 ...    \n",
       "995                                Repeatedly / always    \n",
       "996                                Repeatedly / always    \n",
       "997                                Repeatedly / always    \n",
       "998                                     Rarely / never    \n",
       "999                                     Rarely / never    \n",
       "\n",
       "    Does he reflect numbers? {Ex 81 -> 18}  ...  \\\n",
       "0                           Rarely / never  ...   \n",
       "1                                Sometimes  ...   \n",
       "2                           Rarely / never  ...   \n",
       "3                                Sometimes  ...   \n",
       "4                                Sometimes  ...   \n",
       "..                                     ...  ...   \n",
       "995                         Rarely / never  ...   \n",
       "996                         Rarely / never  ...   \n",
       "997                         Rarely / never  ...   \n",
       "998                    Repeatedly / always  ...   \n",
       "999                              Sometimes  ...   \n",
       "\n",
       "    Does he have a problem copying?  \\\n",
       "0               Repeatedly / always   \n",
       "1                    Rarely / never   \n",
       "2                    Rarely / never   \n",
       "3               Repeatedly / always   \n",
       "4                    Rarely / never   \n",
       "..                              ...   \n",
       "995                       Sometimes   \n",
       "996             Repeatedly / always   \n",
       "997                  Rarely / never   \n",
       "998                       Sometimes   \n",
       "999                       Sometimes   \n",
       "\n",
       "    Does it confuse symbols and/or mathematical operations?  \\\n",
       "0                                            Sometimes        \n",
       "1                                            Sometimes        \n",
       "2                                       Rarely / never        \n",
       "3                                       Rarely / never        \n",
       "4                                       Rarely / never        \n",
       "..                                                 ...        \n",
       "995                                          Sometimes        \n",
       "996                                Repeatedly / always        \n",
       "997                                     Rarely / never        \n",
       "998                                Repeatedly / always        \n",
       "999                                          Sometimes        \n",
       "\n",
       "    Does he have trouble comparing the relative size of integers and/or fractions?  \\\n",
       "0                                  Repeatedly / always                               \n",
       "1                                  Repeatedly / always                               \n",
       "2                                            Sometimes                               \n",
       "3                                            Sometimes                               \n",
       "4                                       Rarely / never                               \n",
       "..                                                 ...                               \n",
       "995                                     Rarely / never                               \n",
       "996                                          Sometimes                               \n",
       "997                                Repeatedly / always                               \n",
       "998                                          Sometimes                               \n",
       "999                                          Sometimes                               \n",
       "\n",
       "    Does he have difficulties with concepts related to time and/or money?  \\\n",
       "0                                            Sometimes                      \n",
       "1                                  Repeatedly / always                      \n",
       "2                                            Sometimes                      \n",
       "3                                  Repeatedly / always                      \n",
       "4                                       Rarely / never                      \n",
       "..                                                 ...                      \n",
       "995                                     Rarely / never                      \n",
       "996                                     Rarely / never                      \n",
       "997                                Repeatedly / always                      \n",
       "998                                          Sometimes                      \n",
       "999                                          Sometimes                      \n",
       "\n",
       "    Is it difficult to understand the statement of calculations and solve it?  \\\n",
       "0                                            Sometimes                          \n",
       "1                                       Rarely / never                          \n",
       "2                                  Repeatedly / always                          \n",
       "3                                            Sometimes                          \n",
       "4                                       Rarely / never                          \n",
       "..                                                 ...                          \n",
       "995                                     Rarely / never                          \n",
       "996                                     Rarely / never                          \n",
       "997                                          Sometimes                          \n",
       "998                                Repeatedly / always                          \n",
       "999                                          Sometimes                          \n",
       "\n",
       "    Is he having difficulties in calculating? {Facing problems in performing arithmetic operations such as addition and subtraction ...}  \\\n",
       "0                                  Repeatedly / always                                                                                     \n",
       "1                                            Sometimes                                                                                     \n",
       "2                                  Repeatedly / always                                                                                     \n",
       "3                                            Sometimes                                                                                     \n",
       "4                                       Rarely / never                                                                                     \n",
       "..                                                 ...                                                                                     \n",
       "995                                     Rarely / never                                                                                     \n",
       "996                                          Sometimes                                                                                     \n",
       "997                                Repeatedly / always                                                                                     \n",
       "998                                     Rarely / never                                                                                     \n",
       "999                                Repeatedly / always                                                                                     \n",
       "\n",
       "    Is he having trouble maintaining attention for more than 15 minutes?  \\\n",
       "0                                  Repeatedly / always                     \n",
       "1                                  Repeatedly / always                     \n",
       "2                                            Sometimes                     \n",
       "3                                  Repeatedly / always                     \n",
       "4                                       Rarely / never                     \n",
       "..                                                 ...                     \n",
       "995                                Repeatedly / always                     \n",
       "996                                          Sometimes                     \n",
       "997                                     Rarely / never                     \n",
       "998                                          Sometimes                     \n",
       "999                                     Rarely / never                     \n",
       "\n",
       "    It takes a long time to complete simple tasks?  \\\n",
       "0                                   Rarely / never   \n",
       "1                                   Rarely / never   \n",
       "2                              Repeatedly / always   \n",
       "3                              Repeatedly / always   \n",
       "4                                   Rarely / never   \n",
       "..                                             ...   \n",
       "995                                 Rarely / never   \n",
       "996                            Repeatedly / always   \n",
       "997                            Repeatedly / always   \n",
       "998                                      Sometimes   \n",
       "999                                      Sometimes   \n",
       "\n",
       "    Does he have a hard time bearing boredom or strenuous tasks?  \\\n",
       "0                                  Repeatedly / always             \n",
       "1                                  Repeatedly / always             \n",
       "2                                       Rarely / never             \n",
       "3                                            Sometimes             \n",
       "4                                       Rarely / never             \n",
       "..                                                 ...             \n",
       "995                                     Rarely / never             \n",
       "996                                Repeatedly / always             \n",
       "997                                Repeatedly / always             \n",
       "998                                Repeatedly / always             \n",
       "999                                     Rarely / never             \n",
       "\n",
       "          TypeTrouble  \n",
       "0    Type_dyscalculie  \n",
       "1       Concentration  \n",
       "2       Type_dyslexie  \n",
       "3       Concentration  \n",
       "4       Type_dyslexie  \n",
       "..                ...  \n",
       "995     Type_dyslexie  \n",
       "996     Concentration  \n",
       "997  Type_dyscalculie  \n",
       "998     Concentration  \n",
       "999  Type_dyscalculie  \n",
       "\n",
       "[1000 rows x 23 columns]"
      ]
     },
     "execution_count": 517,
     "metadata": {},
     "output_type": "execute_result"
    }
   ],
   "source": [
    "#Read the dataset\n",
    "Trouble_df = pd.read_csv(r\"Data\\trouble_train.csv\")\n",
    "\n",
    "#In this case we need to remove the First id column \n",
    "del Trouble_df['Unnamed: 0']\n",
    "\n",
    "Trouble_df"
   ]
  },
  {
   "cell_type": "code",
   "execution_count": 518,
   "id": "05d01ca1",
   "metadata": {},
   "outputs": [
    {
     "name": "stdout",
     "output_type": "stream",
     "text": [
      "Feature : 'Does he have health probems ?' has 2 classes\n",
      "Feature : 'Does he have social family problems?' has 2 classes\n",
      "Feature : 'Is there a variation between his real qualifications and its results?' has 2 classes\n",
      "Feature : 'Does he have any difficulties?' has 2 classes\n",
      "Feature : 'Does your child avoid activities that require reading to complete?' has 3 classes\n",
      "Feature : 'he ?it fast/slow while reading ?' has 3 classes\n",
      "Feature : 'When reading aloud, does your child repeat words, change their order, or mix up similar letters (?\\ or ?\\? or ?\\? or p/b or f/v or k/g/jÉ) without notice?' has 3 classes\n",
      "Feature : 'Does he have trouble reading unknown words?' has 3 classes\n",
      "Feature : 'Does he face difficulty understanding what he read?' has 3 classes\n",
      "Feature : 'Does he reflect numbers? {Ex 81 -> 18}' has 3 classes\n",
      "Feature : 'Does he have trouble writing numbers clearly and distinctly from letters?' has 3 classes\n",
      "Feature : 'Does he make misspellings in his homework?' has 3 classes\n",
      "Feature : 'Is he having trouble writing on the line and inside the margins?' has 3 classes\n",
      "Feature : 'Does he have a problem copying?' has 3 classes\n",
      "Feature : 'Does it confuse symbols and/or mathematical operations?' has 3 classes\n",
      "Feature : 'Does he have trouble comparing the relative size of integers and/or fractions?' has 3 classes\n",
      "Feature : 'Does he have difficulties with concepts related to time and/or money?' has 3 classes\n",
      "Feature : 'Is it difficult to understand the statement of calculations and solve it?' has 3 classes\n",
      "Feature : 'Is he having difficulties in calculating? {Facing problems in performing arithmetic operations such as addition and subtraction ...}' has 3 classes\n",
      "Feature : 'Is he having trouble maintaining attention for more than 15 minutes?' has 3 classes\n",
      "Feature : 'It takes a long time to complete simple tasks?' has 3 classes\n",
      "Feature : 'Does he have a hard time bearing boredom or strenuous tasks?' has 3 classes\n",
      "Feature : 'TypeTrouble' has 4 classes\n"
     ]
    }
   ],
   "source": [
    "for i in Trouble_df:\n",
    "    print(\"Feature : '{}' has {} classes\".format(i,len(set(Trouble_df[i]))))"
   ]
  },
  {
   "cell_type": "code",
   "execution_count": 519,
   "id": "23b36fd0",
   "metadata": {},
   "outputs": [
    {
     "data": {
      "application/vnd.plotly.v1+json": {
       "config": {
        "plotlyServerURL": "https://plot.ly"
       },
       "data": [
        {
         "marker": {
          "color": [
           "#AA0DFE",
           "#3283FE",
           "#85660D",
           "#782AB6",
           "#565656",
           "#1C8356",
           "#16FF32",
           "#F7E1A0",
           "#E2E2E2",
           "#1CBE4F",
           "#C4451C",
           "#DEA0FD",
           "#FE00FA",
           "#325A9B",
           "#FEAF16",
           "#F8A19F",
           "#90AD1C",
           "#F6222E",
           "#1CFFCE",
           "#2ED9FF",
           "#B10DA1",
           "#C075A6",
           "#FC1CBF",
           "#B00068",
           "#FBE426",
           "#FA0087"
          ]
         },
         "text": [
          "293",
          "198",
          "241",
          "268"
         ],
         "textposition": "auto",
         "type": "bar",
         "x": [
          "Type_dysgraphie",
          "Type_dyscalculie",
          "Type_dyslexie",
          "Concentration"
         ],
         "y": [
          293,
          198,
          241,
          268
         ]
        }
       ],
       "layout": {
        "template": {
         "data": {
          "bar": [
           {
            "error_x": {
             "color": "#2a3f5f"
            },
            "error_y": {
             "color": "#2a3f5f"
            },
            "marker": {
             "line": {
              "color": "#E5ECF6",
              "width": 0.5
             },
             "pattern": {
              "fillmode": "overlay",
              "size": 10,
              "solidity": 0.2
             }
            },
            "type": "bar"
           }
          ],
          "barpolar": [
           {
            "marker": {
             "line": {
              "color": "#E5ECF6",
              "width": 0.5
             },
             "pattern": {
              "fillmode": "overlay",
              "size": 10,
              "solidity": 0.2
             }
            },
            "type": "barpolar"
           }
          ],
          "carpet": [
           {
            "aaxis": {
             "endlinecolor": "#2a3f5f",
             "gridcolor": "white",
             "linecolor": "white",
             "minorgridcolor": "white",
             "startlinecolor": "#2a3f5f"
            },
            "baxis": {
             "endlinecolor": "#2a3f5f",
             "gridcolor": "white",
             "linecolor": "white",
             "minorgridcolor": "white",
             "startlinecolor": "#2a3f5f"
            },
            "type": "carpet"
           }
          ],
          "choropleth": [
           {
            "colorbar": {
             "outlinewidth": 0,
             "ticks": ""
            },
            "type": "choropleth"
           }
          ],
          "contour": [
           {
            "colorbar": {
             "outlinewidth": 0,
             "ticks": ""
            },
            "colorscale": [
             [
              0,
              "#0d0887"
             ],
             [
              0.1111111111111111,
              "#46039f"
             ],
             [
              0.2222222222222222,
              "#7201a8"
             ],
             [
              0.3333333333333333,
              "#9c179e"
             ],
             [
              0.4444444444444444,
              "#bd3786"
             ],
             [
              0.5555555555555556,
              "#d8576b"
             ],
             [
              0.6666666666666666,
              "#ed7953"
             ],
             [
              0.7777777777777778,
              "#fb9f3a"
             ],
             [
              0.8888888888888888,
              "#fdca26"
             ],
             [
              1,
              "#f0f921"
             ]
            ],
            "type": "contour"
           }
          ],
          "contourcarpet": [
           {
            "colorbar": {
             "outlinewidth": 0,
             "ticks": ""
            },
            "type": "contourcarpet"
           }
          ],
          "heatmap": [
           {
            "colorbar": {
             "outlinewidth": 0,
             "ticks": ""
            },
            "colorscale": [
             [
              0,
              "#0d0887"
             ],
             [
              0.1111111111111111,
              "#46039f"
             ],
             [
              0.2222222222222222,
              "#7201a8"
             ],
             [
              0.3333333333333333,
              "#9c179e"
             ],
             [
              0.4444444444444444,
              "#bd3786"
             ],
             [
              0.5555555555555556,
              "#d8576b"
             ],
             [
              0.6666666666666666,
              "#ed7953"
             ],
             [
              0.7777777777777778,
              "#fb9f3a"
             ],
             [
              0.8888888888888888,
              "#fdca26"
             ],
             [
              1,
              "#f0f921"
             ]
            ],
            "type": "heatmap"
           }
          ],
          "heatmapgl": [
           {
            "colorbar": {
             "outlinewidth": 0,
             "ticks": ""
            },
            "colorscale": [
             [
              0,
              "#0d0887"
             ],
             [
              0.1111111111111111,
              "#46039f"
             ],
             [
              0.2222222222222222,
              "#7201a8"
             ],
             [
              0.3333333333333333,
              "#9c179e"
             ],
             [
              0.4444444444444444,
              "#bd3786"
             ],
             [
              0.5555555555555556,
              "#d8576b"
             ],
             [
              0.6666666666666666,
              "#ed7953"
             ],
             [
              0.7777777777777778,
              "#fb9f3a"
             ],
             [
              0.8888888888888888,
              "#fdca26"
             ],
             [
              1,
              "#f0f921"
             ]
            ],
            "type": "heatmapgl"
           }
          ],
          "histogram": [
           {
            "marker": {
             "pattern": {
              "fillmode": "overlay",
              "size": 10,
              "solidity": 0.2
             }
            },
            "type": "histogram"
           }
          ],
          "histogram2d": [
           {
            "colorbar": {
             "outlinewidth": 0,
             "ticks": ""
            },
            "colorscale": [
             [
              0,
              "#0d0887"
             ],
             [
              0.1111111111111111,
              "#46039f"
             ],
             [
              0.2222222222222222,
              "#7201a8"
             ],
             [
              0.3333333333333333,
              "#9c179e"
             ],
             [
              0.4444444444444444,
              "#bd3786"
             ],
             [
              0.5555555555555556,
              "#d8576b"
             ],
             [
              0.6666666666666666,
              "#ed7953"
             ],
             [
              0.7777777777777778,
              "#fb9f3a"
             ],
             [
              0.8888888888888888,
              "#fdca26"
             ],
             [
              1,
              "#f0f921"
             ]
            ],
            "type": "histogram2d"
           }
          ],
          "histogram2dcontour": [
           {
            "colorbar": {
             "outlinewidth": 0,
             "ticks": ""
            },
            "colorscale": [
             [
              0,
              "#0d0887"
             ],
             [
              0.1111111111111111,
              "#46039f"
             ],
             [
              0.2222222222222222,
              "#7201a8"
             ],
             [
              0.3333333333333333,
              "#9c179e"
             ],
             [
              0.4444444444444444,
              "#bd3786"
             ],
             [
              0.5555555555555556,
              "#d8576b"
             ],
             [
              0.6666666666666666,
              "#ed7953"
             ],
             [
              0.7777777777777778,
              "#fb9f3a"
             ],
             [
              0.8888888888888888,
              "#fdca26"
             ],
             [
              1,
              "#f0f921"
             ]
            ],
            "type": "histogram2dcontour"
           }
          ],
          "mesh3d": [
           {
            "colorbar": {
             "outlinewidth": 0,
             "ticks": ""
            },
            "type": "mesh3d"
           }
          ],
          "parcoords": [
           {
            "line": {
             "colorbar": {
              "outlinewidth": 0,
              "ticks": ""
             }
            },
            "type": "parcoords"
           }
          ],
          "pie": [
           {
            "automargin": true,
            "type": "pie"
           }
          ],
          "scatter": [
           {
            "marker": {
             "colorbar": {
              "outlinewidth": 0,
              "ticks": ""
             }
            },
            "type": "scatter"
           }
          ],
          "scatter3d": [
           {
            "line": {
             "colorbar": {
              "outlinewidth": 0,
              "ticks": ""
             }
            },
            "marker": {
             "colorbar": {
              "outlinewidth": 0,
              "ticks": ""
             }
            },
            "type": "scatter3d"
           }
          ],
          "scattercarpet": [
           {
            "marker": {
             "colorbar": {
              "outlinewidth": 0,
              "ticks": ""
             }
            },
            "type": "scattercarpet"
           }
          ],
          "scattergeo": [
           {
            "marker": {
             "colorbar": {
              "outlinewidth": 0,
              "ticks": ""
             }
            },
            "type": "scattergeo"
           }
          ],
          "scattergl": [
           {
            "marker": {
             "colorbar": {
              "outlinewidth": 0,
              "ticks": ""
             }
            },
            "type": "scattergl"
           }
          ],
          "scattermapbox": [
           {
            "marker": {
             "colorbar": {
              "outlinewidth": 0,
              "ticks": ""
             }
            },
            "type": "scattermapbox"
           }
          ],
          "scatterpolar": [
           {
            "marker": {
             "colorbar": {
              "outlinewidth": 0,
              "ticks": ""
             }
            },
            "type": "scatterpolar"
           }
          ],
          "scatterpolargl": [
           {
            "marker": {
             "colorbar": {
              "outlinewidth": 0,
              "ticks": ""
             }
            },
            "type": "scatterpolargl"
           }
          ],
          "scatterternary": [
           {
            "marker": {
             "colorbar": {
              "outlinewidth": 0,
              "ticks": ""
             }
            },
            "type": "scatterternary"
           }
          ],
          "surface": [
           {
            "colorbar": {
             "outlinewidth": 0,
             "ticks": ""
            },
            "colorscale": [
             [
              0,
              "#0d0887"
             ],
             [
              0.1111111111111111,
              "#46039f"
             ],
             [
              0.2222222222222222,
              "#7201a8"
             ],
             [
              0.3333333333333333,
              "#9c179e"
             ],
             [
              0.4444444444444444,
              "#bd3786"
             ],
             [
              0.5555555555555556,
              "#d8576b"
             ],
             [
              0.6666666666666666,
              "#ed7953"
             ],
             [
              0.7777777777777778,
              "#fb9f3a"
             ],
             [
              0.8888888888888888,
              "#fdca26"
             ],
             [
              1,
              "#f0f921"
             ]
            ],
            "type": "surface"
           }
          ],
          "table": [
           {
            "cells": {
             "fill": {
              "color": "#EBF0F8"
             },
             "line": {
              "color": "white"
             }
            },
            "header": {
             "fill": {
              "color": "#C8D4E3"
             },
             "line": {
              "color": "white"
             }
            },
            "type": "table"
           }
          ]
         },
         "layout": {
          "annotationdefaults": {
           "arrowcolor": "#2a3f5f",
           "arrowhead": 0,
           "arrowwidth": 1
          },
          "autotypenumbers": "strict",
          "coloraxis": {
           "colorbar": {
            "outlinewidth": 0,
            "ticks": ""
           }
          },
          "colorscale": {
           "diverging": [
            [
             0,
             "#8e0152"
            ],
            [
             0.1,
             "#c51b7d"
            ],
            [
             0.2,
             "#de77ae"
            ],
            [
             0.3,
             "#f1b6da"
            ],
            [
             0.4,
             "#fde0ef"
            ],
            [
             0.5,
             "#f7f7f7"
            ],
            [
             0.6,
             "#e6f5d0"
            ],
            [
             0.7,
             "#b8e186"
            ],
            [
             0.8,
             "#7fbc41"
            ],
            [
             0.9,
             "#4d9221"
            ],
            [
             1,
             "#276419"
            ]
           ],
           "sequential": [
            [
             0,
             "#0d0887"
            ],
            [
             0.1111111111111111,
             "#46039f"
            ],
            [
             0.2222222222222222,
             "#7201a8"
            ],
            [
             0.3333333333333333,
             "#9c179e"
            ],
            [
             0.4444444444444444,
             "#bd3786"
            ],
            [
             0.5555555555555556,
             "#d8576b"
            ],
            [
             0.6666666666666666,
             "#ed7953"
            ],
            [
             0.7777777777777778,
             "#fb9f3a"
            ],
            [
             0.8888888888888888,
             "#fdca26"
            ],
            [
             1,
             "#f0f921"
            ]
           ],
           "sequentialminus": [
            [
             0,
             "#0d0887"
            ],
            [
             0.1111111111111111,
             "#46039f"
            ],
            [
             0.2222222222222222,
             "#7201a8"
            ],
            [
             0.3333333333333333,
             "#9c179e"
            ],
            [
             0.4444444444444444,
             "#bd3786"
            ],
            [
             0.5555555555555556,
             "#d8576b"
            ],
            [
             0.6666666666666666,
             "#ed7953"
            ],
            [
             0.7777777777777778,
             "#fb9f3a"
            ],
            [
             0.8888888888888888,
             "#fdca26"
            ],
            [
             1,
             "#f0f921"
            ]
           ]
          },
          "colorway": [
           "#636efa",
           "#EF553B",
           "#00cc96",
           "#ab63fa",
           "#FFA15A",
           "#19d3f3",
           "#FF6692",
           "#B6E880",
           "#FF97FF",
           "#FECB52"
          ],
          "font": {
           "color": "#2a3f5f"
          },
          "geo": {
           "bgcolor": "white",
           "lakecolor": "white",
           "landcolor": "#E5ECF6",
           "showlakes": true,
           "showland": true,
           "subunitcolor": "white"
          },
          "hoverlabel": {
           "align": "left"
          },
          "hovermode": "closest",
          "mapbox": {
           "style": "light"
          },
          "paper_bgcolor": "white",
          "plot_bgcolor": "#E5ECF6",
          "polar": {
           "angularaxis": {
            "gridcolor": "white",
            "linecolor": "white",
            "ticks": ""
           },
           "bgcolor": "#E5ECF6",
           "radialaxis": {
            "gridcolor": "white",
            "linecolor": "white",
            "ticks": ""
           }
          },
          "scene": {
           "xaxis": {
            "backgroundcolor": "#E5ECF6",
            "gridcolor": "white",
            "gridwidth": 2,
            "linecolor": "white",
            "showbackground": true,
            "ticks": "",
            "zerolinecolor": "white"
           },
           "yaxis": {
            "backgroundcolor": "#E5ECF6",
            "gridcolor": "white",
            "gridwidth": 2,
            "linecolor": "white",
            "showbackground": true,
            "ticks": "",
            "zerolinecolor": "white"
           },
           "zaxis": {
            "backgroundcolor": "#E5ECF6",
            "gridcolor": "white",
            "gridwidth": 2,
            "linecolor": "white",
            "showbackground": true,
            "ticks": "",
            "zerolinecolor": "white"
           }
          },
          "shapedefaults": {
           "line": {
            "color": "#2a3f5f"
           }
          },
          "ternary": {
           "aaxis": {
            "gridcolor": "white",
            "linecolor": "white",
            "ticks": ""
           },
           "baxis": {
            "gridcolor": "white",
            "linecolor": "white",
            "ticks": ""
           },
           "bgcolor": "#E5ECF6",
           "caxis": {
            "gridcolor": "white",
            "linecolor": "white",
            "ticks": ""
           }
          },
          "title": {
           "x": 0.05
          },
          "xaxis": {
           "automargin": true,
           "gridcolor": "white",
           "linecolor": "white",
           "ticks": "",
           "title": {
            "standoff": 15
           },
           "zerolinecolor": "white",
           "zerolinewidth": 2
          },
          "yaxis": {
           "automargin": true,
           "gridcolor": "white",
           "linecolor": "white",
           "ticks": "",
           "title": {
            "standoff": 15
           },
           "zerolinecolor": "white",
           "zerolinewidth": 2
          }
         }
        },
        "title": {
         "text": "Trouble Types counts in the dataset "
        }
       }
      },
      "text/html": [
       "<div>                            <div id=\"3d35f781-edb7-4ee4-81b0-2722f6a51d43\" class=\"plotly-graph-div\" style=\"height:525px; width:100%;\"></div>            <script type=\"text/javascript\">                require([\"plotly\"], function(Plotly) {                    window.PLOTLYENV=window.PLOTLYENV || {};                                    if (document.getElementById(\"3d35f781-edb7-4ee4-81b0-2722f6a51d43\")) {                    Plotly.newPlot(                        \"3d35f781-edb7-4ee4-81b0-2722f6a51d43\",                        [{\"marker\":{\"color\":[\"#AA0DFE\",\"#3283FE\",\"#85660D\",\"#782AB6\",\"#565656\",\"#1C8356\",\"#16FF32\",\"#F7E1A0\",\"#E2E2E2\",\"#1CBE4F\",\"#C4451C\",\"#DEA0FD\",\"#FE00FA\",\"#325A9B\",\"#FEAF16\",\"#F8A19F\",\"#90AD1C\",\"#F6222E\",\"#1CFFCE\",\"#2ED9FF\",\"#B10DA1\",\"#C075A6\",\"#FC1CBF\",\"#B00068\",\"#FBE426\",\"#FA0087\"]},\"text\":[\"293\",\"198\",\"241\",\"268\"],\"textposition\":\"auto\",\"type\":\"bar\",\"x\":[\"Type_dysgraphie\",\"Type_dyscalculie\",\"Type_dyslexie\",\"Concentration\"],\"y\":[293,198,241,268]}],                        {\"template\":{\"data\":{\"bar\":[{\"error_x\":{\"color\":\"#2a3f5f\"},\"error_y\":{\"color\":\"#2a3f5f\"},\"marker\":{\"line\":{\"color\":\"#E5ECF6\",\"width\":0.5},\"pattern\":{\"fillmode\":\"overlay\",\"size\":10,\"solidity\":0.2}},\"type\":\"bar\"}],\"barpolar\":[{\"marker\":{\"line\":{\"color\":\"#E5ECF6\",\"width\":0.5},\"pattern\":{\"fillmode\":\"overlay\",\"size\":10,\"solidity\":0.2}},\"type\":\"barpolar\"}],\"carpet\":[{\"aaxis\":{\"endlinecolor\":\"#2a3f5f\",\"gridcolor\":\"white\",\"linecolor\":\"white\",\"minorgridcolor\":\"white\",\"startlinecolor\":\"#2a3f5f\"},\"baxis\":{\"endlinecolor\":\"#2a3f5f\",\"gridcolor\":\"white\",\"linecolor\":\"white\",\"minorgridcolor\":\"white\",\"startlinecolor\":\"#2a3f5f\"},\"type\":\"carpet\"}],\"choropleth\":[{\"colorbar\":{\"outlinewidth\":0,\"ticks\":\"\"},\"type\":\"choropleth\"}],\"contour\":[{\"colorbar\":{\"outlinewidth\":0,\"ticks\":\"\"},\"colorscale\":[[0.0,\"#0d0887\"],[0.1111111111111111,\"#46039f\"],[0.2222222222222222,\"#7201a8\"],[0.3333333333333333,\"#9c179e\"],[0.4444444444444444,\"#bd3786\"],[0.5555555555555556,\"#d8576b\"],[0.6666666666666666,\"#ed7953\"],[0.7777777777777778,\"#fb9f3a\"],[0.8888888888888888,\"#fdca26\"],[1.0,\"#f0f921\"]],\"type\":\"contour\"}],\"contourcarpet\":[{\"colorbar\":{\"outlinewidth\":0,\"ticks\":\"\"},\"type\":\"contourcarpet\"}],\"heatmap\":[{\"colorbar\":{\"outlinewidth\":0,\"ticks\":\"\"},\"colorscale\":[[0.0,\"#0d0887\"],[0.1111111111111111,\"#46039f\"],[0.2222222222222222,\"#7201a8\"],[0.3333333333333333,\"#9c179e\"],[0.4444444444444444,\"#bd3786\"],[0.5555555555555556,\"#d8576b\"],[0.6666666666666666,\"#ed7953\"],[0.7777777777777778,\"#fb9f3a\"],[0.8888888888888888,\"#fdca26\"],[1.0,\"#f0f921\"]],\"type\":\"heatmap\"}],\"heatmapgl\":[{\"colorbar\":{\"outlinewidth\":0,\"ticks\":\"\"},\"colorscale\":[[0.0,\"#0d0887\"],[0.1111111111111111,\"#46039f\"],[0.2222222222222222,\"#7201a8\"],[0.3333333333333333,\"#9c179e\"],[0.4444444444444444,\"#bd3786\"],[0.5555555555555556,\"#d8576b\"],[0.6666666666666666,\"#ed7953\"],[0.7777777777777778,\"#fb9f3a\"],[0.8888888888888888,\"#fdca26\"],[1.0,\"#f0f921\"]],\"type\":\"heatmapgl\"}],\"histogram\":[{\"marker\":{\"pattern\":{\"fillmode\":\"overlay\",\"size\":10,\"solidity\":0.2}},\"type\":\"histogram\"}],\"histogram2d\":[{\"colorbar\":{\"outlinewidth\":0,\"ticks\":\"\"},\"colorscale\":[[0.0,\"#0d0887\"],[0.1111111111111111,\"#46039f\"],[0.2222222222222222,\"#7201a8\"],[0.3333333333333333,\"#9c179e\"],[0.4444444444444444,\"#bd3786\"],[0.5555555555555556,\"#d8576b\"],[0.6666666666666666,\"#ed7953\"],[0.7777777777777778,\"#fb9f3a\"],[0.8888888888888888,\"#fdca26\"],[1.0,\"#f0f921\"]],\"type\":\"histogram2d\"}],\"histogram2dcontour\":[{\"colorbar\":{\"outlinewidth\":0,\"ticks\":\"\"},\"colorscale\":[[0.0,\"#0d0887\"],[0.1111111111111111,\"#46039f\"],[0.2222222222222222,\"#7201a8\"],[0.3333333333333333,\"#9c179e\"],[0.4444444444444444,\"#bd3786\"],[0.5555555555555556,\"#d8576b\"],[0.6666666666666666,\"#ed7953\"],[0.7777777777777778,\"#fb9f3a\"],[0.8888888888888888,\"#fdca26\"],[1.0,\"#f0f921\"]],\"type\":\"histogram2dcontour\"}],\"mesh3d\":[{\"colorbar\":{\"outlinewidth\":0,\"ticks\":\"\"},\"type\":\"mesh3d\"}],\"parcoords\":[{\"line\":{\"colorbar\":{\"outlinewidth\":0,\"ticks\":\"\"}},\"type\":\"parcoords\"}],\"pie\":[{\"automargin\":true,\"type\":\"pie\"}],\"scatter\":[{\"marker\":{\"colorbar\":{\"outlinewidth\":0,\"ticks\":\"\"}},\"type\":\"scatter\"}],\"scatter3d\":[{\"line\":{\"colorbar\":{\"outlinewidth\":0,\"ticks\":\"\"}},\"marker\":{\"colorbar\":{\"outlinewidth\":0,\"ticks\":\"\"}},\"type\":\"scatter3d\"}],\"scattercarpet\":[{\"marker\":{\"colorbar\":{\"outlinewidth\":0,\"ticks\":\"\"}},\"type\":\"scattercarpet\"}],\"scattergeo\":[{\"marker\":{\"colorbar\":{\"outlinewidth\":0,\"ticks\":\"\"}},\"type\":\"scattergeo\"}],\"scattergl\":[{\"marker\":{\"colorbar\":{\"outlinewidth\":0,\"ticks\":\"\"}},\"type\":\"scattergl\"}],\"scattermapbox\":[{\"marker\":{\"colorbar\":{\"outlinewidth\":0,\"ticks\":\"\"}},\"type\":\"scattermapbox\"}],\"scatterpolar\":[{\"marker\":{\"colorbar\":{\"outlinewidth\":0,\"ticks\":\"\"}},\"type\":\"scatterpolar\"}],\"scatterpolargl\":[{\"marker\":{\"colorbar\":{\"outlinewidth\":0,\"ticks\":\"\"}},\"type\":\"scatterpolargl\"}],\"scatterternary\":[{\"marker\":{\"colorbar\":{\"outlinewidth\":0,\"ticks\":\"\"}},\"type\":\"scatterternary\"}],\"surface\":[{\"colorbar\":{\"outlinewidth\":0,\"ticks\":\"\"},\"colorscale\":[[0.0,\"#0d0887\"],[0.1111111111111111,\"#46039f\"],[0.2222222222222222,\"#7201a8\"],[0.3333333333333333,\"#9c179e\"],[0.4444444444444444,\"#bd3786\"],[0.5555555555555556,\"#d8576b\"],[0.6666666666666666,\"#ed7953\"],[0.7777777777777778,\"#fb9f3a\"],[0.8888888888888888,\"#fdca26\"],[1.0,\"#f0f921\"]],\"type\":\"surface\"}],\"table\":[{\"cells\":{\"fill\":{\"color\":\"#EBF0F8\"},\"line\":{\"color\":\"white\"}},\"header\":{\"fill\":{\"color\":\"#C8D4E3\"},\"line\":{\"color\":\"white\"}},\"type\":\"table\"}]},\"layout\":{\"annotationdefaults\":{\"arrowcolor\":\"#2a3f5f\",\"arrowhead\":0,\"arrowwidth\":1},\"autotypenumbers\":\"strict\",\"coloraxis\":{\"colorbar\":{\"outlinewidth\":0,\"ticks\":\"\"}},\"colorscale\":{\"diverging\":[[0,\"#8e0152\"],[0.1,\"#c51b7d\"],[0.2,\"#de77ae\"],[0.3,\"#f1b6da\"],[0.4,\"#fde0ef\"],[0.5,\"#f7f7f7\"],[0.6,\"#e6f5d0\"],[0.7,\"#b8e186\"],[0.8,\"#7fbc41\"],[0.9,\"#4d9221\"],[1,\"#276419\"]],\"sequential\":[[0.0,\"#0d0887\"],[0.1111111111111111,\"#46039f\"],[0.2222222222222222,\"#7201a8\"],[0.3333333333333333,\"#9c179e\"],[0.4444444444444444,\"#bd3786\"],[0.5555555555555556,\"#d8576b\"],[0.6666666666666666,\"#ed7953\"],[0.7777777777777778,\"#fb9f3a\"],[0.8888888888888888,\"#fdca26\"],[1.0,\"#f0f921\"]],\"sequentialminus\":[[0.0,\"#0d0887\"],[0.1111111111111111,\"#46039f\"],[0.2222222222222222,\"#7201a8\"],[0.3333333333333333,\"#9c179e\"],[0.4444444444444444,\"#bd3786\"],[0.5555555555555556,\"#d8576b\"],[0.6666666666666666,\"#ed7953\"],[0.7777777777777778,\"#fb9f3a\"],[0.8888888888888888,\"#fdca26\"],[1.0,\"#f0f921\"]]},\"colorway\":[\"#636efa\",\"#EF553B\",\"#00cc96\",\"#ab63fa\",\"#FFA15A\",\"#19d3f3\",\"#FF6692\",\"#B6E880\",\"#FF97FF\",\"#FECB52\"],\"font\":{\"color\":\"#2a3f5f\"},\"geo\":{\"bgcolor\":\"white\",\"lakecolor\":\"white\",\"landcolor\":\"#E5ECF6\",\"showlakes\":true,\"showland\":true,\"subunitcolor\":\"white\"},\"hoverlabel\":{\"align\":\"left\"},\"hovermode\":\"closest\",\"mapbox\":{\"style\":\"light\"},\"paper_bgcolor\":\"white\",\"plot_bgcolor\":\"#E5ECF6\",\"polar\":{\"angularaxis\":{\"gridcolor\":\"white\",\"linecolor\":\"white\",\"ticks\":\"\"},\"bgcolor\":\"#E5ECF6\",\"radialaxis\":{\"gridcolor\":\"white\",\"linecolor\":\"white\",\"ticks\":\"\"}},\"scene\":{\"xaxis\":{\"backgroundcolor\":\"#E5ECF6\",\"gridcolor\":\"white\",\"gridwidth\":2,\"linecolor\":\"white\",\"showbackground\":true,\"ticks\":\"\",\"zerolinecolor\":\"white\"},\"yaxis\":{\"backgroundcolor\":\"#E5ECF6\",\"gridcolor\":\"white\",\"gridwidth\":2,\"linecolor\":\"white\",\"showbackground\":true,\"ticks\":\"\",\"zerolinecolor\":\"white\"},\"zaxis\":{\"backgroundcolor\":\"#E5ECF6\",\"gridcolor\":\"white\",\"gridwidth\":2,\"linecolor\":\"white\",\"showbackground\":true,\"ticks\":\"\",\"zerolinecolor\":\"white\"}},\"shapedefaults\":{\"line\":{\"color\":\"#2a3f5f\"}},\"ternary\":{\"aaxis\":{\"gridcolor\":\"white\",\"linecolor\":\"white\",\"ticks\":\"\"},\"baxis\":{\"gridcolor\":\"white\",\"linecolor\":\"white\",\"ticks\":\"\"},\"bgcolor\":\"#E5ECF6\",\"caxis\":{\"gridcolor\":\"white\",\"linecolor\":\"white\",\"ticks\":\"\"}},\"title\":{\"x\":0.05},\"xaxis\":{\"automargin\":true,\"gridcolor\":\"white\",\"linecolor\":\"white\",\"ticks\":\"\",\"title\":{\"standoff\":15},\"zerolinecolor\":\"white\",\"zerolinewidth\":2},\"yaxis\":{\"automargin\":true,\"gridcolor\":\"white\",\"linecolor\":\"white\",\"ticks\":\"\",\"title\":{\"standoff\":15},\"zerolinecolor\":\"white\",\"zerolinewidth\":2}}},\"title\":{\"text\":\"Trouble Types counts in the dataset \"}},                        {\"responsive\": true}                    ).then(function(){\n",
       "                            \n",
       "var gd = document.getElementById('3d35f781-edb7-4ee4-81b0-2722f6a51d43');\n",
       "var x = new MutationObserver(function (mutations, observer) {{\n",
       "        var display = window.getComputedStyle(gd).display;\n",
       "        if (!display || display === 'none') {{\n",
       "            console.log([gd, 'removed!']);\n",
       "            Plotly.purge(gd);\n",
       "            observer.disconnect();\n",
       "        }}\n",
       "}});\n",
       "\n",
       "// Listen for the removal of the full notebook cells\n",
       "var notebookContainer = gd.closest('#notebook-container');\n",
       "if (notebookContainer) {{\n",
       "    x.observe(notebookContainer, {childList: true});\n",
       "}}\n",
       "\n",
       "// Listen for the clearing of the current output cell\n",
       "var outputEl = gd.closest('.output');\n",
       "if (outputEl) {{\n",
       "    x.observe(outputEl, {childList: true});\n",
       "}}\n",
       "\n",
       "                        })                };                });            </script>        </div>"
      ]
     },
     "metadata": {},
     "output_type": "display_data"
    }
   ],
   "source": [
    "labels = set(Trouble_df['TypeTrouble'])\n",
    "labels_val = list(Trouble_df['TypeTrouble'])\n",
    "types = {}\n",
    "for i in labels :\n",
    "    types[i]= labels_val.count(i)\n",
    "colors= px.colors.qualitative.Alphabet\n",
    "fig = (go.Figure([go.Bar(x=list(types.keys()), y=list(types.values()),text=list(types.values()),textposition='auto',marker_color=colors)]))\n",
    "fig.update_layout( title=\"Trouble Types counts in the dataset \")\n",
    "fig.show()"
   ]
  },
  {
   "cell_type": "code",
   "execution_count": 520,
   "id": "f045ce73",
   "metadata": {},
   "outputs": [
    {
     "data": {
      "text/html": [
       "<div>\n",
       "<style scoped>\n",
       "    .dataframe tbody tr th:only-of-type {\n",
       "        vertical-align: middle;\n",
       "    }\n",
       "\n",
       "    .dataframe tbody tr th {\n",
       "        vertical-align: top;\n",
       "    }\n",
       "\n",
       "    .dataframe thead th {\n",
       "        text-align: right;\n",
       "    }\n",
       "</style>\n",
       "<table border=\"1\" class=\"dataframe\">\n",
       "  <thead>\n",
       "    <tr style=\"text-align: right;\">\n",
       "      <th></th>\n",
       "      <th>Does he have health probems ?</th>\n",
       "      <th>Does he have social family problems?</th>\n",
       "      <th>Is there a variation between his real qualifications and its results?</th>\n",
       "      <th>Does he have any difficulties?</th>\n",
       "      <th>Does your child avoid activities that require reading to complete?</th>\n",
       "      <th>he ?it fast/slow while reading ?</th>\n",
       "      <th>When reading aloud, does your child repeat words, change their order, or mix up similar letters (?\\ or ?\\? or ?\\? or p/b or f/v or k/g/jÉ) without notice?</th>\n",
       "      <th>Does he have trouble reading unknown words?</th>\n",
       "      <th>Does he face difficulty understanding what he read?</th>\n",
       "      <th>Does he reflect numbers? {Ex 81 -&gt; 18}</th>\n",
       "      <th>...</th>\n",
       "      <th>Does he have a problem copying?</th>\n",
       "      <th>Does it confuse symbols and/or mathematical operations?</th>\n",
       "      <th>Does he have trouble comparing the relative size of integers and/or fractions?</th>\n",
       "      <th>Does he have difficulties with concepts related to time and/or money?</th>\n",
       "      <th>Is it difficult to understand the statement of calculations and solve it?</th>\n",
       "      <th>Is he having difficulties in calculating? {Facing problems in performing arithmetic operations such as addition and subtraction ...}</th>\n",
       "      <th>Is he having trouble maintaining attention for more than 15 minutes?</th>\n",
       "      <th>It takes a long time to complete simple tasks?</th>\n",
       "      <th>Does he have a hard time bearing boredom or strenuous tasks?</th>\n",
       "      <th>TypeTrouble</th>\n",
       "    </tr>\n",
       "  </thead>\n",
       "  <tbody>\n",
       "    <tr>\n",
       "      <th>0</th>\n",
       "      <td>0</td>\n",
       "      <td>0</td>\n",
       "      <td>0</td>\n",
       "      <td>0</td>\n",
       "      <td>0</td>\n",
       "      <td>0</td>\n",
       "      <td>0</td>\n",
       "      <td>0</td>\n",
       "      <td>0</td>\n",
       "      <td>0</td>\n",
       "      <td>...</td>\n",
       "      <td>0</td>\n",
       "      <td>0</td>\n",
       "      <td>0</td>\n",
       "      <td>0</td>\n",
       "      <td>0</td>\n",
       "      <td>0</td>\n",
       "      <td>0</td>\n",
       "      <td>0</td>\n",
       "      <td>0</td>\n",
       "      <td>0</td>\n",
       "    </tr>\n",
       "    <tr>\n",
       "      <th>1</th>\n",
       "      <td>0</td>\n",
       "      <td>0</td>\n",
       "      <td>1</td>\n",
       "      <td>0</td>\n",
       "      <td>1</td>\n",
       "      <td>0</td>\n",
       "      <td>1</td>\n",
       "      <td>1</td>\n",
       "      <td>1</td>\n",
       "      <td>1</td>\n",
       "      <td>...</td>\n",
       "      <td>1</td>\n",
       "      <td>0</td>\n",
       "      <td>0</td>\n",
       "      <td>1</td>\n",
       "      <td>1</td>\n",
       "      <td>1</td>\n",
       "      <td>0</td>\n",
       "      <td>0</td>\n",
       "      <td>0</td>\n",
       "      <td>1</td>\n",
       "    </tr>\n",
       "    <tr>\n",
       "      <th>2</th>\n",
       "      <td>1</td>\n",
       "      <td>1</td>\n",
       "      <td>0</td>\n",
       "      <td>0</td>\n",
       "      <td>2</td>\n",
       "      <td>0</td>\n",
       "      <td>2</td>\n",
       "      <td>2</td>\n",
       "      <td>2</td>\n",
       "      <td>0</td>\n",
       "      <td>...</td>\n",
       "      <td>1</td>\n",
       "      <td>1</td>\n",
       "      <td>1</td>\n",
       "      <td>0</td>\n",
       "      <td>2</td>\n",
       "      <td>0</td>\n",
       "      <td>1</td>\n",
       "      <td>1</td>\n",
       "      <td>1</td>\n",
       "      <td>2</td>\n",
       "    </tr>\n",
       "    <tr>\n",
       "      <th>3</th>\n",
       "      <td>0</td>\n",
       "      <td>0</td>\n",
       "      <td>0</td>\n",
       "      <td>1</td>\n",
       "      <td>1</td>\n",
       "      <td>1</td>\n",
       "      <td>1</td>\n",
       "      <td>1</td>\n",
       "      <td>1</td>\n",
       "      <td>1</td>\n",
       "      <td>...</td>\n",
       "      <td>0</td>\n",
       "      <td>1</td>\n",
       "      <td>1</td>\n",
       "      <td>1</td>\n",
       "      <td>0</td>\n",
       "      <td>1</td>\n",
       "      <td>0</td>\n",
       "      <td>1</td>\n",
       "      <td>2</td>\n",
       "      <td>1</td>\n",
       "    </tr>\n",
       "    <tr>\n",
       "      <th>4</th>\n",
       "      <td>1</td>\n",
       "      <td>1</td>\n",
       "      <td>1</td>\n",
       "      <td>0</td>\n",
       "      <td>0</td>\n",
       "      <td>0</td>\n",
       "      <td>1</td>\n",
       "      <td>2</td>\n",
       "      <td>0</td>\n",
       "      <td>1</td>\n",
       "      <td>...</td>\n",
       "      <td>1</td>\n",
       "      <td>1</td>\n",
       "      <td>2</td>\n",
       "      <td>2</td>\n",
       "      <td>1</td>\n",
       "      <td>2</td>\n",
       "      <td>2</td>\n",
       "      <td>0</td>\n",
       "      <td>1</td>\n",
       "      <td>2</td>\n",
       "    </tr>\n",
       "    <tr>\n",
       "      <th>...</th>\n",
       "      <td>...</td>\n",
       "      <td>...</td>\n",
       "      <td>...</td>\n",
       "      <td>...</td>\n",
       "      <td>...</td>\n",
       "      <td>...</td>\n",
       "      <td>...</td>\n",
       "      <td>...</td>\n",
       "      <td>...</td>\n",
       "      <td>...</td>\n",
       "      <td>...</td>\n",
       "      <td>...</td>\n",
       "      <td>...</td>\n",
       "      <td>...</td>\n",
       "      <td>...</td>\n",
       "      <td>...</td>\n",
       "      <td>...</td>\n",
       "      <td>...</td>\n",
       "      <td>...</td>\n",
       "      <td>...</td>\n",
       "      <td>...</td>\n",
       "    </tr>\n",
       "    <tr>\n",
       "      <th>995</th>\n",
       "      <td>0</td>\n",
       "      <td>0</td>\n",
       "      <td>1</td>\n",
       "      <td>0</td>\n",
       "      <td>2</td>\n",
       "      <td>1</td>\n",
       "      <td>2</td>\n",
       "      <td>2</td>\n",
       "      <td>2</td>\n",
       "      <td>0</td>\n",
       "      <td>...</td>\n",
       "      <td>2</td>\n",
       "      <td>0</td>\n",
       "      <td>2</td>\n",
       "      <td>2</td>\n",
       "      <td>1</td>\n",
       "      <td>2</td>\n",
       "      <td>0</td>\n",
       "      <td>0</td>\n",
       "      <td>1</td>\n",
       "      <td>2</td>\n",
       "    </tr>\n",
       "    <tr>\n",
       "      <th>996</th>\n",
       "      <td>1</td>\n",
       "      <td>1</td>\n",
       "      <td>0</td>\n",
       "      <td>1</td>\n",
       "      <td>1</td>\n",
       "      <td>1</td>\n",
       "      <td>2</td>\n",
       "      <td>1</td>\n",
       "      <td>2</td>\n",
       "      <td>0</td>\n",
       "      <td>...</td>\n",
       "      <td>0</td>\n",
       "      <td>2</td>\n",
       "      <td>1</td>\n",
       "      <td>2</td>\n",
       "      <td>1</td>\n",
       "      <td>1</td>\n",
       "      <td>1</td>\n",
       "      <td>1</td>\n",
       "      <td>0</td>\n",
       "      <td>1</td>\n",
       "    </tr>\n",
       "    <tr>\n",
       "      <th>997</th>\n",
       "      <td>1</td>\n",
       "      <td>0</td>\n",
       "      <td>0</td>\n",
       "      <td>0</td>\n",
       "      <td>1</td>\n",
       "      <td>2</td>\n",
       "      <td>0</td>\n",
       "      <td>0</td>\n",
       "      <td>2</td>\n",
       "      <td>0</td>\n",
       "      <td>...</td>\n",
       "      <td>1</td>\n",
       "      <td>1</td>\n",
       "      <td>0</td>\n",
       "      <td>1</td>\n",
       "      <td>0</td>\n",
       "      <td>0</td>\n",
       "      <td>2</td>\n",
       "      <td>1</td>\n",
       "      <td>0</td>\n",
       "      <td>0</td>\n",
       "    </tr>\n",
       "    <tr>\n",
       "      <th>998</th>\n",
       "      <td>1</td>\n",
       "      <td>0</td>\n",
       "      <td>1</td>\n",
       "      <td>1</td>\n",
       "      <td>2</td>\n",
       "      <td>2</td>\n",
       "      <td>1</td>\n",
       "      <td>2</td>\n",
       "      <td>0</td>\n",
       "      <td>2</td>\n",
       "      <td>...</td>\n",
       "      <td>2</td>\n",
       "      <td>2</td>\n",
       "      <td>1</td>\n",
       "      <td>0</td>\n",
       "      <td>2</td>\n",
       "      <td>2</td>\n",
       "      <td>1</td>\n",
       "      <td>2</td>\n",
       "      <td>0</td>\n",
       "      <td>1</td>\n",
       "    </tr>\n",
       "    <tr>\n",
       "      <th>999</th>\n",
       "      <td>1</td>\n",
       "      <td>1</td>\n",
       "      <td>0</td>\n",
       "      <td>1</td>\n",
       "      <td>1</td>\n",
       "      <td>1</td>\n",
       "      <td>0</td>\n",
       "      <td>2</td>\n",
       "      <td>0</td>\n",
       "      <td>1</td>\n",
       "      <td>...</td>\n",
       "      <td>2</td>\n",
       "      <td>0</td>\n",
       "      <td>1</td>\n",
       "      <td>0</td>\n",
       "      <td>0</td>\n",
       "      <td>0</td>\n",
       "      <td>2</td>\n",
       "      <td>2</td>\n",
       "      <td>1</td>\n",
       "      <td>0</td>\n",
       "    </tr>\n",
       "  </tbody>\n",
       "</table>\n",
       "<p>1000 rows × 23 columns</p>\n",
       "</div>"
      ],
      "text/plain": [
       "     Does he have health probems ?  Does he have social family problems?  \\\n",
       "0                                0                                     0   \n",
       "1                                0                                     0   \n",
       "2                                1                                     1   \n",
       "3                                0                                     0   \n",
       "4                                1                                     1   \n",
       "..                             ...                                   ...   \n",
       "995                              0                                     0   \n",
       "996                              1                                     1   \n",
       "997                              1                                     0   \n",
       "998                              1                                     0   \n",
       "999                              1                                     1   \n",
       "\n",
       "     Is there a variation between his real qualifications and its results?  \\\n",
       "0                                                    0                       \n",
       "1                                                    1                       \n",
       "2                                                    0                       \n",
       "3                                                    0                       \n",
       "4                                                    1                       \n",
       "..                                                 ...                       \n",
       "995                                                  1                       \n",
       "996                                                  0                       \n",
       "997                                                  0                       \n",
       "998                                                  1                       \n",
       "999                                                  0                       \n",
       "\n",
       "     Does he have any difficulties?  \\\n",
       "0                                 0   \n",
       "1                                 0   \n",
       "2                                 0   \n",
       "3                                 1   \n",
       "4                                 0   \n",
       "..                              ...   \n",
       "995                               0   \n",
       "996                               1   \n",
       "997                               0   \n",
       "998                               1   \n",
       "999                               1   \n",
       "\n",
       "     Does your child avoid activities that require reading to complete?  \\\n",
       "0                                                    0                    \n",
       "1                                                    1                    \n",
       "2                                                    2                    \n",
       "3                                                    1                    \n",
       "4                                                    0                    \n",
       "..                                                 ...                    \n",
       "995                                                  2                    \n",
       "996                                                  1                    \n",
       "997                                                  1                    \n",
       "998                                                  2                    \n",
       "999                                                  1                    \n",
       "\n",
       "     he ?it fast/slow while reading ?  \\\n",
       "0                                   0   \n",
       "1                                   0   \n",
       "2                                   0   \n",
       "3                                   1   \n",
       "4                                   0   \n",
       "..                                ...   \n",
       "995                                 1   \n",
       "996                                 1   \n",
       "997                                 2   \n",
       "998                                 2   \n",
       "999                                 1   \n",
       "\n",
       "     When reading aloud, does your child repeat words, change their order, or mix up similar letters (?\\ or ?\\? or ?\\? or p/b or f/v or k/g/jÉ) without notice?  \\\n",
       "0                                                    0                                                                                                            \n",
       "1                                                    1                                                                                                            \n",
       "2                                                    2                                                                                                            \n",
       "3                                                    1                                                                                                            \n",
       "4                                                    1                                                                                                            \n",
       "..                                                 ...                                                                                                            \n",
       "995                                                  2                                                                                                            \n",
       "996                                                  2                                                                                                            \n",
       "997                                                  0                                                                                                            \n",
       "998                                                  1                                                                                                            \n",
       "999                                                  0                                                                                                            \n",
       "\n",
       "     Does he have trouble reading unknown words?  \\\n",
       "0                                              0   \n",
       "1                                              1   \n",
       "2                                              2   \n",
       "3                                              1   \n",
       "4                                              2   \n",
       "..                                           ...   \n",
       "995                                            2   \n",
       "996                                            1   \n",
       "997                                            0   \n",
       "998                                            2   \n",
       "999                                            2   \n",
       "\n",
       "     Does he face difficulty understanding what he read?  \\\n",
       "0                                                    0     \n",
       "1                                                    1     \n",
       "2                                                    2     \n",
       "3                                                    1     \n",
       "4                                                    0     \n",
       "..                                                 ...     \n",
       "995                                                  2     \n",
       "996                                                  2     \n",
       "997                                                  2     \n",
       "998                                                  0     \n",
       "999                                                  0     \n",
       "\n",
       "     Does he reflect numbers? {Ex 81 -> 18}  ...  \\\n",
       "0                                         0  ...   \n",
       "1                                         1  ...   \n",
       "2                                         0  ...   \n",
       "3                                         1  ...   \n",
       "4                                         1  ...   \n",
       "..                                      ...  ...   \n",
       "995                                       0  ...   \n",
       "996                                       0  ...   \n",
       "997                                       0  ...   \n",
       "998                                       2  ...   \n",
       "999                                       1  ...   \n",
       "\n",
       "     Does he have a problem copying?  \\\n",
       "0                                  0   \n",
       "1                                  1   \n",
       "2                                  1   \n",
       "3                                  0   \n",
       "4                                  1   \n",
       "..                               ...   \n",
       "995                                2   \n",
       "996                                0   \n",
       "997                                1   \n",
       "998                                2   \n",
       "999                                2   \n",
       "\n",
       "     Does it confuse symbols and/or mathematical operations?  \\\n",
       "0                                                    0         \n",
       "1                                                    0         \n",
       "2                                                    1         \n",
       "3                                                    1         \n",
       "4                                                    1         \n",
       "..                                                 ...         \n",
       "995                                                  0         \n",
       "996                                                  2         \n",
       "997                                                  1         \n",
       "998                                                  2         \n",
       "999                                                  0         \n",
       "\n",
       "     Does he have trouble comparing the relative size of integers and/or fractions?  \\\n",
       "0                                                    0                                \n",
       "1                                                    0                                \n",
       "2                                                    1                                \n",
       "3                                                    1                                \n",
       "4                                                    2                                \n",
       "..                                                 ...                                \n",
       "995                                                  2                                \n",
       "996                                                  1                                \n",
       "997                                                  0                                \n",
       "998                                                  1                                \n",
       "999                                                  1                                \n",
       "\n",
       "     Does he have difficulties with concepts related to time and/or money?  \\\n",
       "0                                                    0                       \n",
       "1                                                    1                       \n",
       "2                                                    0                       \n",
       "3                                                    1                       \n",
       "4                                                    2                       \n",
       "..                                                 ...                       \n",
       "995                                                  2                       \n",
       "996                                                  2                       \n",
       "997                                                  1                       \n",
       "998                                                  0                       \n",
       "999                                                  0                       \n",
       "\n",
       "     Is it difficult to understand the statement of calculations and solve it?  \\\n",
       "0                                                    0                           \n",
       "1                                                    1                           \n",
       "2                                                    2                           \n",
       "3                                                    0                           \n",
       "4                                                    1                           \n",
       "..                                                 ...                           \n",
       "995                                                  1                           \n",
       "996                                                  1                           \n",
       "997                                                  0                           \n",
       "998                                                  2                           \n",
       "999                                                  0                           \n",
       "\n",
       "     Is he having difficulties in calculating? {Facing problems in performing arithmetic operations such as addition and subtraction ...}  \\\n",
       "0                                                    0                                                                                      \n",
       "1                                                    1                                                                                      \n",
       "2                                                    0                                                                                      \n",
       "3                                                    1                                                                                      \n",
       "4                                                    2                                                                                      \n",
       "..                                                 ...                                                                                      \n",
       "995                                                  2                                                                                      \n",
       "996                                                  1                                                                                      \n",
       "997                                                  0                                                                                      \n",
       "998                                                  2                                                                                      \n",
       "999                                                  0                                                                                      \n",
       "\n",
       "     Is he having trouble maintaining attention for more than 15 minutes?  \\\n",
       "0                                                    0                      \n",
       "1                                                    0                      \n",
       "2                                                    1                      \n",
       "3                                                    0                      \n",
       "4                                                    2                      \n",
       "..                                                 ...                      \n",
       "995                                                  0                      \n",
       "996                                                  1                      \n",
       "997                                                  2                      \n",
       "998                                                  1                      \n",
       "999                                                  2                      \n",
       "\n",
       "     It takes a long time to complete simple tasks?  \\\n",
       "0                                                 0   \n",
       "1                                                 0   \n",
       "2                                                 1   \n",
       "3                                                 1   \n",
       "4                                                 0   \n",
       "..                                              ...   \n",
       "995                                               0   \n",
       "996                                               1   \n",
       "997                                               1   \n",
       "998                                               2   \n",
       "999                                               2   \n",
       "\n",
       "     Does he have a hard time bearing boredom or strenuous tasks?  TypeTrouble  \n",
       "0                                                    0                       0  \n",
       "1                                                    0                       1  \n",
       "2                                                    1                       2  \n",
       "3                                                    2                       1  \n",
       "4                                                    1                       2  \n",
       "..                                                 ...                     ...  \n",
       "995                                                  1                       2  \n",
       "996                                                  0                       1  \n",
       "997                                                  0                       0  \n",
       "998                                                  0                       1  \n",
       "999                                                  1                       0  \n",
       "\n",
       "[1000 rows x 23 columns]"
      ]
     },
     "execution_count": 520,
     "metadata": {},
     "output_type": "execute_result"
    }
   ],
   "source": [
    "#factorize the dataset\n",
    "Trouble_new = Trouble_df.apply(lambda x: pd.factorize(x)[0])\n",
    "Trouble_new"
   ]
  },
  {
   "cell_type": "code",
   "execution_count": 521,
   "id": "933f70f4",
   "metadata": {},
   "outputs": [
    {
     "data": {
      "text/plain": [
       "{'Does he have health probems ?': {'No': 0, 'Yeah': 1},\n",
       " 'Does he have social family problems?': {'No': 0, 'Yeah': 1},\n",
       " 'Is there a variation between his real qualifications and its results?': {'Yeah': 0,\n",
       "  'No': 1},\n",
       " 'Does he have any difficulties?': {'In particular article': 0,\n",
       "  'In all materials': 1},\n",
       " 'Does your child avoid activities that require reading to complete?': {'Repeatedly / always': 0,\n",
       "  'Sometimes': 1,\n",
       "  'Rarely / never': 2},\n",
       " 'he ?it fast/slow while reading ?': {'Average': 0, 'Slow': 1, 'Fast': 2},\n",
       " 'When reading aloud, does your child repeat words, change their order, or mix up similar letters (?\\\\ or ?\\\\? or ?\\\\? or p/b or f/v or k/g/jÉ) without notice?': {'Rarely / never': 0,\n",
       "  'Repeatedly / always': 1,\n",
       "  'Sometimes': 2},\n",
       " 'Does he have trouble reading unknown words?': {'Sometimes': 0,\n",
       "  'Rarely / never': 1,\n",
       "  'Repeatedly / always': 2},\n",
       " 'Does he face difficulty understanding what he read?': {'Rarely / never': 0,\n",
       "  'Sometimes': 1,\n",
       "  'Repeatedly / always': 2},\n",
       " 'Does he reflect numbers? {Ex 81 -> 18}': {'Rarely / never': 0,\n",
       "  'Sometimes': 1,\n",
       "  'Repeatedly / always': 2},\n",
       " 'Does he have trouble writing numbers clearly and distinctly from letters?': {'Rarely / never': 0,\n",
       "  'Sometimes': 1,\n",
       "  'Repeatedly / always': 2},\n",
       " 'Does he make misspellings in his homework?': {'Rarely / never': 0,\n",
       "  'Repeatedly / always': 1,\n",
       "  'Sometimes': 2},\n",
       " 'Is he having trouble writing on the line and inside the margins?': {'Repeatedly / always': 0,\n",
       "  'Sometimes': 1,\n",
       "  'Rarely / never': 2},\n",
       " 'Does he have a problem copying?': {'Repeatedly / always': 0,\n",
       "  'Rarely / never': 1,\n",
       "  'Sometimes': 2},\n",
       " 'Does it confuse symbols and/or mathematical operations?': {'Sometimes': 0,\n",
       "  'Rarely / never': 1,\n",
       "  'Repeatedly / always': 2},\n",
       " 'Does he have trouble comparing the relative size of integers and/or fractions?': {'Repeatedly / always': 0,\n",
       "  'Sometimes': 1,\n",
       "  'Rarely / never': 2},\n",
       " 'Does he have difficulties with concepts related to time and/or money?': {'Sometimes': 0,\n",
       "  'Repeatedly / always': 1,\n",
       "  'Rarely / never': 2},\n",
       " 'Is it difficult to understand the statement of calculations and solve it?': {'Sometimes': 0,\n",
       "  'Rarely / never': 1,\n",
       "  'Repeatedly / always': 2},\n",
       " 'Is he having difficulties in calculating? {Facing problems in performing arithmetic operations such as addition and subtraction ...}': {'Repeatedly / always': 0,\n",
       "  'Sometimes': 1,\n",
       "  'Rarely / never': 2},\n",
       " 'Is he having trouble maintaining attention for more than 15 minutes?': {'Repeatedly / always': 0,\n",
       "  'Sometimes': 1,\n",
       "  'Rarely / never': 2},\n",
       " 'It takes a long time to complete simple tasks?': {'Rarely / never': 0,\n",
       "  'Repeatedly / always': 1,\n",
       "  'Sometimes': 2},\n",
       " 'Does he have a hard time bearing boredom or strenuous tasks?': {'Repeatedly / always': 0,\n",
       "  'Rarely / never': 1,\n",
       "  'Sometimes': 2},\n",
       " 'TypeTrouble': {'Type_dyscalculie': 0,\n",
       "  'Concentration': 1,\n",
       "  'Type_dyslexie': 2,\n",
       "  'Type_dysgraphie': 3}}"
      ]
     },
     "execution_count": 521,
     "metadata": {},
     "output_type": "execute_result"
    }
   ],
   "source": [
    "#In this case we need to save the original label by it's value in each feature, for example after fectorizing Male becomes 1 and Female becomes 0 \n",
    "labels = {}\n",
    "for i in Trouble_df : \n",
    "    labels[i] = {}\n",
    "\n",
    "for i in Trouble_df :\n",
    "    for j in range(len(Trouble_df[i])):\n",
    "        labels[i][Trouble_df[i][j]] = Trouble_new[i][j]\n",
    "        \n",
    "labels"
   ]
  },
  {
   "cell_type": "code",
   "execution_count": 522,
   "id": "f10e1977",
   "metadata": {},
   "outputs": [
    {
     "name": "stdout",
     "output_type": "stream",
     "text": [
      "(800, 22) (200, 22) (800,) (200,)\n"
     ]
    }
   ],
   "source": [
    "#Split the data into features and gold label\n",
    "X = Trouble_new.iloc[:,0:-1] #Data features \n",
    "Y = Trouble_new['TypeTrouble'] #Golden_Label (The prediction class)\n",
    "\n",
    "#Save the used features into a list to use them in the features importance part\n",
    "Trouble_features = list(X.columns)\n",
    "\n",
    "#Split the dataset\n",
    "X_train, X_test, y_train, y_test = train_test_split(X,Y,test_size = 0.2, random_state = 0)\n",
    "print(X_train.shape,X_test.shape,y_train.shape,y_test.shape)"
   ]
  },
  {
   "cell_type": "code",
   "execution_count": 523,
   "id": "8c7ce943",
   "metadata": {},
   "outputs": [],
   "source": [
    "#Model creation and training \n",
    "forest = AdaBoostClassifier( n_estimators = 1300, random_state = 0)\n",
    "Model_Trouble = forest.fit(X_train,y_train)"
   ]
  },
  {
   "cell_type": "code",
   "execution_count": 524,
   "id": "aea01e89",
   "metadata": {},
   "outputs": [
    {
     "name": "stdout",
     "output_type": "stream",
     "text": [
      "Metric scores :\n",
      " Accuracy: 86.00 %\n",
      " Precision: 86.38 %\n",
      " Recall: 85.91 %\n",
      " F1: 85.84 %\n",
      "\n",
      "Confusion Matrix :\n",
      "[[36  5  2  2]\n",
      " [ 0 45  0  2]\n",
      " [ 4  2 40  5]\n",
      " [ 1  3  2 51]]\n"
     ]
    }
   ],
   "source": [
    "#Prediction and score calculations\n",
    "Trouble_predictions = Model_Trouble.predict(X_test)\n",
    "\n",
    "accuracy = accuracy_score(Trouble_predictions,y_test)\n",
    "precision = precision_score(Trouble_predictions,y_test,average='macro')\n",
    "recall = recall_score(Trouble_predictions,y_test,average='macro')\n",
    "f1 = f1_score(Trouble_predictions,y_test,average='macro')\n",
    "\n",
    "print(\"Metric scores :\")\n",
    "print(\" Accuracy: {:.2f} %\".format(accuracy*100))\n",
    "print(\" Precision: {:.2f} %\".format(precision*100))\n",
    "print(\" Recall: {:.2f} %\".format(recall*100))\n",
    "print(\" F1: {:.2f} %\".format(f1*100))\n",
    "\n",
    "\n",
    "\n",
    "print(\"\\nConfusion Matrix :\")\n",
    "cm = confusion_matrix(Trouble_predictions, y_test)\n",
    "print(cm)"
   ]
  },
  {
   "cell_type": "code",
   "execution_count": 525,
   "id": "219e7de4",
   "metadata": {},
   "outputs": [
    {
     "name": "stdout",
     "output_type": "stream",
     "text": [
      "\n",
      "Classification Report :\n"
     ]
    },
    {
     "data": {
      "image/png": "[encoded data removed]",
      "text/plain": [
       "<Figure size 432x288 with 2 Axes>"
      ]
     },
     "metadata": {
      "needs_background": "light"
     },
     "output_type": "display_data"
    }
   ],
   "source": [
    "print(\"\\nClassification Report :\")\n",
    "clf_report = classification_report(Trouble_predictions,y_test,output_dict=True,target_names=list(set(Trouble_df['TypeTrouble'])))\n",
    "sns.heatmap(pd.DataFrame(clf_report).iloc[:-1, :].T, annot=True)\n",
    "plt.show()"
   ]
  },
  {
   "cell_type": "code",
   "execution_count": 526,
   "id": "17ae39d3",
   "metadata": {},
   "outputs": [
    {
     "data": {
      "application/vnd.plotly.v1+json": {
       "config": {
        "plotlyServerURL": "https://plot.ly"
       },
       "data": [
        {
         "alignmentgroup": "True",
         "hovertemplate": "x=%{x}<br>y=%{y}<br>text=%{text}<br>color=%{marker.color}<extra></extra>",
         "legendgroup": "",
         "marker": {
          "color": [
           0.1169,
           0.0808,
           0.0654,
           0.0631,
           0.0615,
           0.0608,
           0.0592,
           0.0538,
           0.0515,
           0.0469,
           0.0454,
           0.0438,
           0.0431,
           0.0431,
           0.0392,
           0.0377,
           0.0362,
           0.0354,
           0.0062,
           0.0054,
           0.0046,
           0
          ],
          "coloraxis": "coloraxis",
          "pattern": {
           "shape": ""
          }
         },
         "name": "",
         "offsetgroup": "",
         "orientation": "v",
         "showlegend": false,
         "text": [
          "0.1169",
          "0.0808",
          "0.0654",
          "0.0631",
          "0.0615",
          "0.0608",
          "0.0592",
          "0.0538",
          "0.0515",
          "0.0469",
          "0.0454",
          "0.0438",
          "0.0431",
          "0.0431",
          "0.0392",
          "0.0377",
          "0.0362",
          "0.0354",
          "0.0062",
          "0.0054",
          "0.0046",
          "0.0"
         ],
         "textposition": "auto",
         "type": "bar",
         "x": [
          "Does he have a hard time bearing boredom or strenuous tasks?",
          "It takes a long time to complete simple tasks?",
          "Does he make misspellings in his homework?",
          "Is he having trouble maintaining attention for more than 15 minutes?",
          "he ?it fast/slow while reading ?",
          "Is it difficult to understand the statement of calculations and solve it?",
          "Does it confuse symbols and/or mathematical operations?",
          "Does he have trouble reading unknown words?",
          "When reading aloud, does your child repeat words, change their order, or mix up similar letters (?\\ or ?\\? or ?\\? or p/b or f/v or k/g/jÉ) without notice?",
          "Does he have difficulties with concepts related to time and/or money?",
          "Is he having difficulties in calculating? {Facing problems in performing arithmetic operations such as addition and subtraction ...}",
          "Does he reflect numbers? {Ex 81 -> 18}",
          "Does your child avoid activities that require reading to complete?",
          "Does he have a problem copying?",
          "Is he having trouble writing on the line and inside the margins?",
          "Does he face difficulty understanding what he read?",
          "Does he have trouble writing numbers clearly and distinctly from letters?",
          "Does he have trouble comparing the relative size of integers and/or fractions?",
          "Does he have health probems ?",
          "Is there a variation between his real qualifications and its results?",
          "Does he have any difficulties?",
          "Does he have social family problems?"
         ],
         "xaxis": "x",
         "y": [
          0.1169,
          0.0808,
          0.0654,
          0.0631,
          0.0615,
          0.0608,
          0.0592,
          0.0538,
          0.0515,
          0.0469,
          0.0454,
          0.0438,
          0.0431,
          0.0431,
          0.0392,
          0.0377,
          0.0362,
          0.0354,
          0.0062,
          0.0054,
          0.0046,
          0
         ],
         "yaxis": "y"
        }
       ],
       "layout": {
        "barmode": "relative",
        "coloraxis": {
         "colorbar": {
          "title": {
           "text": "color"
          }
         },
         "colorscale": [
          [
           0,
           "#0d0887"
          ],
          [
           0.1111111111111111,
           "#46039f"
          ],
          [
           0.2222222222222222,
           "#7201a8"
          ],
          [
           0.3333333333333333,
           "#9c179e"
          ],
          [
           0.4444444444444444,
           "#bd3786"
          ],
          [
           0.5555555555555556,
           "#d8576b"
          ],
          [
           0.6666666666666666,
           "#ed7953"
          ],
          [
           0.7777777777777778,
           "#fb9f3a"
          ],
          [
           0.8888888888888888,
           "#fdca26"
          ],
          [
           1,
           "#f0f921"
          ]
         ]
        },
        "height": 1200,
        "legend": {
         "tracegroupgap": 0
        },
        "template": {
         "data": {
          "bar": [
           {
            "error_x": {
             "color": "#2a3f5f"
            },
            "error_y": {
             "color": "#2a3f5f"
            },
            "marker": {
             "line": {
              "color": "#E5ECF6",
              "width": 0.5
             },
             "pattern": {
              "fillmode": "overlay",
              "size": 10,
              "solidity": 0.2
             }
            },
            "type": "bar"
           }
          ],
          "barpolar": [
           {
            "marker": {
             "line": {
              "color": "#E5ECF6",
              "width": 0.5
             },
             "pattern": {
              "fillmode": "overlay",
              "size": 10,
              "solidity": 0.2
             }
            },
            "type": "barpolar"
           }
          ],
          "carpet": [
           {
            "aaxis": {
             "endlinecolor": "#2a3f5f",
             "gridcolor": "white",
             "linecolor": "white",
             "minorgridcolor": "white",
             "startlinecolor": "#2a3f5f"
            },
            "baxis": {
             "endlinecolor": "#2a3f5f",
             "gridcolor": "white",
             "linecolor": "white",
             "minorgridcolor": "white",
             "startlinecolor": "#2a3f5f"
            },
            "type": "carpet"
           }
          ],
          "choropleth": [
           {
            "colorbar": {
             "outlinewidth": 0,
             "ticks": ""
            },
            "type": "choropleth"
           }
          ],
          "contour": [
           {
            "colorbar": {
             "outlinewidth": 0,
             "ticks": ""
            },
            "colorscale": [
             [
              0,
              "#0d0887"
             ],
             [
              0.1111111111111111,
              "#46039f"
             ],
             [
              0.2222222222222222,
              "#7201a8"
             ],
             [
              0.3333333333333333,
              "#9c179e"
             ],
             [
              0.4444444444444444,
              "#bd3786"
             ],
             [
              0.5555555555555556,
              "#d8576b"
             ],
             [
              0.6666666666666666,
              "#ed7953"
             ],
             [
              0.7777777777777778,
              "#fb9f3a"
             ],
             [
              0.8888888888888888,
              "#fdca26"
             ],
             [
              1,
              "#f0f921"
             ]
            ],
            "type": "contour"
           }
          ],
          "contourcarpet": [
           {
            "colorbar": {
             "outlinewidth": 0,
             "ticks": ""
            },
            "type": "contourcarpet"
           }
          ],
          "heatmap": [
           {
            "colorbar": {
             "outlinewidth": 0,
             "ticks": ""
            },
            "colorscale": [
             [
              0,
              "#0d0887"
             ],
             [
              0.1111111111111111,
              "#46039f"
             ],
             [
              0.2222222222222222,
              "#7201a8"
             ],
             [
              0.3333333333333333,
              "#9c179e"
             ],
             [
              0.4444444444444444,
              "#bd3786"
             ],
             [
              0.5555555555555556,
              "#d8576b"
             ],
             [
              0.6666666666666666,
              "#ed7953"
             ],
             [
              0.7777777777777778,
              "#fb9f3a"
             ],
             [
              0.8888888888888888,
              "#fdca26"
             ],
             [
              1,
              "#f0f921"
             ]
            ],
            "type": "heatmap"
           }
          ],
          "heatmapgl": [
           {
            "colorbar": {
             "outlinewidth": 0,
             "ticks": ""
            },
            "colorscale": [
             [
              0,
              "#0d0887"
             ],
             [
              0.1111111111111111,
              "#46039f"
             ],
             [
              0.2222222222222222,
              "#7201a8"
             ],
             [
              0.3333333333333333,
              "#9c179e"
             ],
             [
              0.4444444444444444,
              "#bd3786"
             ],
             [
              0.5555555555555556,
              "#d8576b"
             ],
             [
              0.6666666666666666,
              "#ed7953"
             ],
             [
              0.7777777777777778,
              "#fb9f3a"
             ],
             [
              0.8888888888888888,
              "#fdca26"
             ],
             [
              1,
              "#f0f921"
             ]
            ],
            "type": "heatmapgl"
           }
          ],
          "histogram": [
           {
            "marker": {
             "pattern": {
              "fillmode": "overlay",
              "size": 10,
              "solidity": 0.2
             }
            },
            "type": "histogram"
           }
          ],
          "histogram2d": [
           {
            "colorbar": {
             "outlinewidth": 0,
             "ticks": ""
            },
            "colorscale": [
             [
              0,
              "#0d0887"
             ],
             [
              0.1111111111111111,
              "#46039f"
             ],
             [
              0.2222222222222222,
              "#7201a8"
             ],
             [
              0.3333333333333333,
              "#9c179e"
             ],
             [
              0.4444444444444444,
              "#bd3786"
             ],
             [
              0.5555555555555556,
              "#d8576b"
             ],
             [
              0.6666666666666666,
              "#ed7953"
             ],
             [
              0.7777777777777778,
              "#fb9f3a"
             ],
             [
              0.8888888888888888,
              "#fdca26"
             ],
             [
              1,
              "#f0f921"
             ]
            ],
            "type": "histogram2d"
           }
          ],
          "histogram2dcontour": [
           {
            "colorbar": {
             "outlinewidth": 0,
             "ticks": ""
            },
            "colorscale": [
             [
              0,
              "#0d0887"
             ],
             [
              0.1111111111111111,
              "#46039f"
             ],
             [
              0.2222222222222222,
              "#7201a8"
             ],
             [
              0.3333333333333333,
              "#9c179e"
             ],
             [
              0.4444444444444444,
              "#bd3786"
             ],
             [
              0.5555555555555556,
              "#d8576b"
             ],
             [
              0.6666666666666666,
              "#ed7953"
             ],
             [
              0.7777777777777778,
              "#fb9f3a"
             ],
             [
              0.8888888888888888,
              "#fdca26"
             ],
             [
              1,
              "#f0f921"
             ]
            ],
            "type": "histogram2dcontour"
           }
          ],
          "mesh3d": [
           {
            "colorbar": {
             "outlinewidth": 0,
             "ticks": ""
            },
            "type": "mesh3d"
           }
          ],
          "parcoords": [
           {
            "line": {
             "colorbar": {
              "outlinewidth": 0,
              "ticks": ""
             }
            },
            "type": "parcoords"
           }
          ],
          "pie": [
           {
            "automargin": true,
            "type": "pie"
           }
          ],
          "scatter": [
           {
            "marker": {
             "colorbar": {
              "outlinewidth": 0,
              "ticks": ""
             }
            },
            "type": "scatter"
           }
          ],
          "scatter3d": [
           {
            "line": {
             "colorbar": {
              "outlinewidth": 0,
              "ticks": ""
             }
            },
            "marker": {
             "colorbar": {
              "outlinewidth": 0,
              "ticks": ""
             }
            },
            "type": "scatter3d"
           }
          ],
          "scattercarpet": [
           {
            "marker": {
             "colorbar": {
              "outlinewidth": 0,
              "ticks": ""
             }
            },
            "type": "scattercarpet"
           }
          ],
          "scattergeo": [
           {
            "marker": {
             "colorbar": {
              "outlinewidth": 0,
              "ticks": ""
             }
            },
            "type": "scattergeo"
           }
          ],
          "scattergl": [
           {
            "marker": {
             "colorbar": {
              "outlinewidth": 0,
              "ticks": ""
             }
            },
            "type": "scattergl"
           }
          ],
          "scattermapbox": [
           {
            "marker": {
             "colorbar": {
              "outlinewidth": 0,
              "ticks": ""
             }
            },
            "type": "scattermapbox"
           }
          ],
          "scatterpolar": [
           {
            "marker": {
             "colorbar": {
              "outlinewidth": 0,
              "ticks": ""
             }
            },
            "type": "scatterpolar"
           }
          ],
          "scatterpolargl": [
           {
            "marker": {
             "colorbar": {
              "outlinewidth": 0,
              "ticks": ""
             }
            },
            "type": "scatterpolargl"
           }
          ],
          "scatterternary": [
           {
            "marker": {
             "colorbar": {
              "outlinewidth": 0,
              "ticks": ""
             }
            },
            "type": "scatterternary"
           }
          ],
          "surface": [
           {
            "colorbar": {
             "outlinewidth": 0,
             "ticks": ""
            },
            "colorscale": [
             [
              0,
              "#0d0887"
             ],
             [
              0.1111111111111111,
              "#46039f"
             ],
             [
              0.2222222222222222,
              "#7201a8"
             ],
             [
              0.3333333333333333,
              "#9c179e"
             ],
             [
              0.4444444444444444,
              "#bd3786"
             ],
             [
              0.5555555555555556,
              "#d8576b"
             ],
             [
              0.6666666666666666,
              "#ed7953"
             ],
             [
              0.7777777777777778,
              "#fb9f3a"
             ],
             [
              0.8888888888888888,
              "#fdca26"
             ],
             [
              1,
              "#f0f921"
             ]
            ],
            "type": "surface"
           }
          ],
          "table": [
           {
            "cells": {
             "fill": {
              "color": "#EBF0F8"
             },
             "line": {
              "color": "white"
             }
            },
            "header": {
             "fill": {
              "color": "#C8D4E3"
             },
             "line": {
              "color": "white"
             }
            },
            "type": "table"
           }
          ]
         },
         "layout": {
          "annotationdefaults": {
           "arrowcolor": "#2a3f5f",
           "arrowhead": 0,
           "arrowwidth": 1
          },
          "autotypenumbers": "strict",
          "coloraxis": {
           "colorbar": {
            "outlinewidth": 0,
            "ticks": ""
           }
          },
          "colorscale": {
           "diverging": [
            [
             0,
             "#8e0152"
            ],
            [
             0.1,
             "#c51b7d"
            ],
            [
             0.2,
             "#de77ae"
            ],
            [
             0.3,
             "#f1b6da"
            ],
            [
             0.4,
             "#fde0ef"
            ],
            [
             0.5,
             "#f7f7f7"
            ],
            [
             0.6,
             "#e6f5d0"
            ],
            [
             0.7,
             "#b8e186"
            ],
            [
             0.8,
             "#7fbc41"
            ],
            [
             0.9,
             "#4d9221"
            ],
            [
             1,
             "#276419"
            ]
           ],
           "sequential": [
            [
             0,
             "#0d0887"
            ],
            [
             0.1111111111111111,
             "#46039f"
            ],
            [
             0.2222222222222222,
             "#7201a8"
            ],
            [
             0.3333333333333333,
             "#9c179e"
            ],
            [
             0.4444444444444444,
             "#bd3786"
            ],
            [
             0.5555555555555556,
             "#d8576b"
            ],
            [
             0.6666666666666666,
             "#ed7953"
            ],
            [
             0.7777777777777778,
             "#fb9f3a"
            ],
            [
             0.8888888888888888,
             "#fdca26"
            ],
            [
             1,
             "#f0f921"
            ]
           ],
           "sequentialminus": [
            [
             0,
             "#0d0887"
            ],
            [
             0.1111111111111111,
             "#46039f"
            ],
            [
             0.2222222222222222,
             "#7201a8"
            ],
            [
             0.3333333333333333,
             "#9c179e"
            ],
            [
             0.4444444444444444,
             "#bd3786"
            ],
            [
             0.5555555555555556,
             "#d8576b"
            ],
            [
             0.6666666666666666,
             "#ed7953"
            ],
            [
             0.7777777777777778,
             "#fb9f3a"
            ],
            [
             0.8888888888888888,
             "#fdca26"
            ],
            [
             1,
             "#f0f921"
            ]
           ]
          },
          "colorway": [
           "#636efa",
           "#EF553B",
           "#00cc96",
           "#ab63fa",
           "#FFA15A",
           "#19d3f3",
           "#FF6692",
           "#B6E880",
           "#FF97FF",
           "#FECB52"
          ],
          "font": {
           "color": "#2a3f5f"
          },
          "geo": {
           "bgcolor": "white",
           "lakecolor": "white",
           "landcolor": "#E5ECF6",
           "showlakes": true,
           "showland": true,
           "subunitcolor": "white"
          },
          "hoverlabel": {
           "align": "left"
          },
          "hovermode": "closest",
          "mapbox": {
           "style": "light"
          },
          "paper_bgcolor": "white",
          "plot_bgcolor": "#E5ECF6",
          "polar": {
           "angularaxis": {
            "gridcolor": "white",
            "linecolor": "white",
            "ticks": ""
           },
           "bgcolor": "#E5ECF6",
           "radialaxis": {
            "gridcolor": "white",
            "linecolor": "white",
            "ticks": ""
           }
          },
          "scene": {
           "xaxis": {
            "backgroundcolor": "#E5ECF6",
            "gridcolor": "white",
            "gridwidth": 2,
            "linecolor": "white",
            "showbackground": true,
            "ticks": "",
            "zerolinecolor": "white"
           },
           "yaxis": {
            "backgroundcolor": "#E5ECF6",
            "gridcolor": "white",
            "gridwidth": 2,
            "linecolor": "white",
            "showbackground": true,
            "ticks": "",
            "zerolinecolor": "white"
           },
           "zaxis": {
            "backgroundcolor": "#E5ECF6",
            "gridcolor": "white",
            "gridwidth": 2,
            "linecolor": "white",
            "showbackground": true,
            "ticks": "",
            "zerolinecolor": "white"
           }
          },
          "shapedefaults": {
           "line": {
            "color": "#2a3f5f"
           }
          },
          "ternary": {
           "aaxis": {
            "gridcolor": "white",
            "linecolor": "white",
            "ticks": ""
           },
           "baxis": {
            "gridcolor": "white",
            "linecolor": "white",
            "ticks": ""
           },
           "bgcolor": "#E5ECF6",
           "caxis": {
            "gridcolor": "white",
            "linecolor": "white",
            "ticks": ""
           }
          },
          "title": {
           "x": 0.05
          },
          "xaxis": {
           "automargin": true,
           "gridcolor": "white",
           "linecolor": "white",
           "ticks": "",
           "title": {
            "standoff": 15
           },
           "zerolinecolor": "white",
           "zerolinewidth": 2
          },
          "yaxis": {
           "automargin": true,
           "gridcolor": "white",
           "linecolor": "white",
           "ticks": "",
           "title": {
            "standoff": 15
           },
           "zerolinecolor": "white",
           "zerolinewidth": 2
          }
         }
        },
        "title": {
         "text": "Model Trouble : The most effective features sorted"
        },
        "xaxis": {
         "anchor": "y",
         "domain": [
          0,
          1
         ],
         "tickangle": 50,
         "title": {
          "text": "Features"
         }
        },
        "yaxis": {
         "anchor": "x",
         "domain": [
          0,
          1
         ],
         "title": {
          "text": "Imporatnce scores"
         }
        }
       }
      },
      "text/html": [
       "<div>                            <div id=\"4aa40e9d-61b4-4fe8-8038-b1c84d894233\" class=\"plotly-graph-div\" style=\"height:1200px; width:100%;\"></div>            <script type=\"text/javascript\">                require([\"plotly\"], function(Plotly) {                    window.PLOTLYENV=window.PLOTLYENV || {};                                    if (document.getElementById(\"4aa40e9d-61b4-4fe8-8038-b1c84d894233\")) {                    Plotly.newPlot(                        \"4aa40e9d-61b4-4fe8-8038-b1c84d894233\",                        [{\"alignmentgroup\":\"True\",\"hovertemplate\":\"x=%{x}<br>y=%{y}<br>text=%{text}<br>color=%{marker.color}<extra></extra>\",\"legendgroup\":\"\",\"marker\":{\"color\":[0.1169,0.0808,0.0654,0.0631,0.0615,0.0608,0.0592,0.0538,0.0515,0.0469,0.0454,0.0438,0.0431,0.0431,0.0392,0.0377,0.0362,0.0354,0.0062,0.0054,0.0046,0.0],\"coloraxis\":\"coloraxis\",\"pattern\":{\"shape\":\"\"}},\"name\":\"\",\"offsetgroup\":\"\",\"orientation\":\"v\",\"showlegend\":false,\"text\":[\"0.1169\",\"0.0808\",\"0.0654\",\"0.0631\",\"0.0615\",\"0.0608\",\"0.0592\",\"0.0538\",\"0.0515\",\"0.0469\",\"0.0454\",\"0.0438\",\"0.0431\",\"0.0431\",\"0.0392\",\"0.0377\",\"0.0362\",\"0.0354\",\"0.0062\",\"0.0054\",\"0.0046\",\"0.0\"],\"textposition\":\"auto\",\"type\":\"bar\",\"x\":[\"Does he have a hard time bearing boredom or strenuous tasks?\",\"It takes a long time to complete simple tasks?\",\"Does he make misspellings in his homework?\",\"Is he having trouble maintaining attention for more than 15 minutes?\",\"he ?it fast/slow while reading ?\",\"Is it difficult to understand the statement of calculations and solve it?\",\"Does it confuse symbols and/or mathematical operations?\",\"Does he have trouble reading unknown words?\",\"When reading aloud, does your child repeat words, change their order, or mix up similar letters (?\\\\ or ?\\\\? or ?\\\\? or p/b or f/v or k/g/jÉ) without notice?\",\"Does he have difficulties with concepts related to time and/or money?\",\"Is he having difficulties in calculating? {Facing problems in performing arithmetic operations such as addition and subtraction ...}\",\"Does he reflect numbers? {Ex 81 -> 18}\",\"Does your child avoid activities that require reading to complete?\",\"Does he have a problem copying?\",\"Is he having trouble writing on the line and inside the margins?\",\"Does he face difficulty understanding what he read?\",\"Does he have trouble writing numbers clearly and distinctly from letters?\",\"Does he have trouble comparing the relative size of integers and/or fractions?\",\"Does he have health probems ?\",\"Is there a variation between his real qualifications and its results?\",\"Does he have any difficulties?\",\"Does he have social family problems?\"],\"xaxis\":\"x\",\"y\":[0.1169,0.0808,0.0654,0.0631,0.0615,0.0608,0.0592,0.0538,0.0515,0.0469,0.0454,0.0438,0.0431,0.0431,0.0392,0.0377,0.0362,0.0354,0.0062,0.0054,0.0046,0.0],\"yaxis\":\"y\"}],                        {\"barmode\":\"relative\",\"coloraxis\":{\"colorbar\":{\"title\":{\"text\":\"color\"}},\"colorscale\":[[0.0,\"#0d0887\"],[0.1111111111111111,\"#46039f\"],[0.2222222222222222,\"#7201a8\"],[0.3333333333333333,\"#9c179e\"],[0.4444444444444444,\"#bd3786\"],[0.5555555555555556,\"#d8576b\"],[0.6666666666666666,\"#ed7953\"],[0.7777777777777778,\"#fb9f3a\"],[0.8888888888888888,\"#fdca26\"],[1.0,\"#f0f921\"]]},\"height\":1200,\"legend\":{\"tracegroupgap\":0},\"template\":{\"data\":{\"bar\":[{\"error_x\":{\"color\":\"#2a3f5f\"},\"error_y\":{\"color\":\"#2a3f5f\"},\"marker\":{\"line\":{\"color\":\"#E5ECF6\",\"width\":0.5},\"pattern\":{\"fillmode\":\"overlay\",\"size\":10,\"solidity\":0.2}},\"type\":\"bar\"}],\"barpolar\":[{\"marker\":{\"line\":{\"color\":\"#E5ECF6\",\"width\":0.5},\"pattern\":{\"fillmode\":\"overlay\",\"size\":10,\"solidity\":0.2}},\"type\":\"barpolar\"}],\"carpet\":[{\"aaxis\":{\"endlinecolor\":\"#2a3f5f\",\"gridcolor\":\"white\",\"linecolor\":\"white\",\"minorgridcolor\":\"white\",\"startlinecolor\":\"#2a3f5f\"},\"baxis\":{\"endlinecolor\":\"#2a3f5f\",\"gridcolor\":\"white\",\"linecolor\":\"white\",\"minorgridcolor\":\"white\",\"startlinecolor\":\"#2a3f5f\"},\"type\":\"carpet\"}],\"choropleth\":[{\"colorbar\":{\"outlinewidth\":0,\"ticks\":\"\"},\"type\":\"choropleth\"}],\"contour\":[{\"colorbar\":{\"outlinewidth\":0,\"ticks\":\"\"},\"colorscale\":[[0.0,\"#0d0887\"],[0.1111111111111111,\"#46039f\"],[0.2222222222222222,\"#7201a8\"],[0.3333333333333333,\"#9c179e\"],[0.4444444444444444,\"#bd3786\"],[0.5555555555555556,\"#d8576b\"],[0.6666666666666666,\"#ed7953\"],[0.7777777777777778,\"#fb9f3a\"],[0.8888888888888888,\"#fdca26\"],[1.0,\"#f0f921\"]],\"type\":\"contour\"}],\"contourcarpet\":[{\"colorbar\":{\"outlinewidth\":0,\"ticks\":\"\"},\"type\":\"contourcarpet\"}],\"heatmap\":[{\"colorbar\":{\"outlinewidth\":0,\"ticks\":\"\"},\"colorscale\":[[0.0,\"#0d0887\"],[0.1111111111111111,\"#46039f\"],[0.2222222222222222,\"#7201a8\"],[0.3333333333333333,\"#9c179e\"],[0.4444444444444444,\"#bd3786\"],[0.5555555555555556,\"#d8576b\"],[0.6666666666666666,\"#ed7953\"],[0.7777777777777778,\"#fb9f3a\"],[0.8888888888888888,\"#fdca26\"],[1.0,\"#f0f921\"]],\"type\":\"heatmap\"}],\"heatmapgl\":[{\"colorbar\":{\"outlinewidth\":0,\"ticks\":\"\"},\"colorscale\":[[0.0,\"#0d0887\"],[0.1111111111111111,\"#46039f\"],[0.2222222222222222,\"#7201a8\"],[0.3333333333333333,\"#9c179e\"],[0.4444444444444444,\"#bd3786\"],[0.5555555555555556,\"#d8576b\"],[0.6666666666666666,\"#ed7953\"],[0.7777777777777778,\"#fb9f3a\"],[0.8888888888888888,\"#fdca26\"],[1.0,\"#f0f921\"]],\"type\":\"heatmapgl\"}],\"histogram\":[{\"marker\":{\"pattern\":{\"fillmode\":\"overlay\",\"size\":10,\"solidity\":0.2}},\"type\":\"histogram\"}],\"histogram2d\":[{\"colorbar\":{\"outlinewidth\":0,\"ticks\":\"\"},\"colorscale\":[[0.0,\"#0d0887\"],[0.1111111111111111,\"#46039f\"],[0.2222222222222222,\"#7201a8\"],[0.3333333333333333,\"#9c179e\"],[0.4444444444444444,\"#bd3786\"],[0.5555555555555556,\"#d8576b\"],[0.6666666666666666,\"#ed7953\"],[0.7777777777777778,\"#fb9f3a\"],[0.8888888888888888,\"#fdca26\"],[1.0,\"#f0f921\"]],\"type\":\"histogram2d\"}],\"histogram2dcontour\":[{\"colorbar\":{\"outlinewidth\":0,\"ticks\":\"\"},\"colorscale\":[[0.0,\"#0d0887\"],[0.1111111111111111,\"#46039f\"],[0.2222222222222222,\"#7201a8\"],[0.3333333333333333,\"#9c179e\"],[0.4444444444444444,\"#bd3786\"],[0.5555555555555556,\"#d8576b\"],[0.6666666666666666,\"#ed7953\"],[0.7777777777777778,\"#fb9f3a\"],[0.8888888888888888,\"#fdca26\"],[1.0,\"#f0f921\"]],\"type\":\"histogram2dcontour\"}],\"mesh3d\":[{\"colorbar\":{\"outlinewidth\":0,\"ticks\":\"\"},\"type\":\"mesh3d\"}],\"parcoords\":[{\"line\":{\"colorbar\":{\"outlinewidth\":0,\"ticks\":\"\"}},\"type\":\"parcoords\"}],\"pie\":[{\"automargin\":true,\"type\":\"pie\"}],\"scatter\":[{\"marker\":{\"colorbar\":{\"outlinewidth\":0,\"ticks\":\"\"}},\"type\":\"scatter\"}],\"scatter3d\":[{\"line\":{\"colorbar\":{\"outlinewidth\":0,\"ticks\":\"\"}},\"marker\":{\"colorbar\":{\"outlinewidth\":0,\"ticks\":\"\"}},\"type\":\"scatter3d\"}],\"scattercarpet\":[{\"marker\":{\"colorbar\":{\"outlinewidth\":0,\"ticks\":\"\"}},\"type\":\"scattercarpet\"}],\"scattergeo\":[{\"marker\":{\"colorbar\":{\"outlinewidth\":0,\"ticks\":\"\"}},\"type\":\"scattergeo\"}],\"scattergl\":[{\"marker\":{\"colorbar\":{\"outlinewidth\":0,\"ticks\":\"\"}},\"type\":\"scattergl\"}],\"scattermapbox\":[{\"marker\":{\"colorbar\":{\"outlinewidth\":0,\"ticks\":\"\"}},\"type\":\"scattermapbox\"}],\"scatterpolar\":[{\"marker\":{\"colorbar\":{\"outlinewidth\":0,\"ticks\":\"\"}},\"type\":\"scatterpolar\"}],\"scatterpolargl\":[{\"marker\":{\"colorbar\":{\"outlinewidth\":0,\"ticks\":\"\"}},\"type\":\"scatterpolargl\"}],\"scatterternary\":[{\"marker\":{\"colorbar\":{\"outlinewidth\":0,\"ticks\":\"\"}},\"type\":\"scatterternary\"}],\"surface\":[{\"colorbar\":{\"outlinewidth\":0,\"ticks\":\"\"},\"colorscale\":[[0.0,\"#0d0887\"],[0.1111111111111111,\"#46039f\"],[0.2222222222222222,\"#7201a8\"],[0.3333333333333333,\"#9c179e\"],[0.4444444444444444,\"#bd3786\"],[0.5555555555555556,\"#d8576b\"],[0.6666666666666666,\"#ed7953\"],[0.7777777777777778,\"#fb9f3a\"],[0.8888888888888888,\"#fdca26\"],[1.0,\"#f0f921\"]],\"type\":\"surface\"}],\"table\":[{\"cells\":{\"fill\":{\"color\":\"#EBF0F8\"},\"line\":{\"color\":\"white\"}},\"header\":{\"fill\":{\"color\":\"#C8D4E3\"},\"line\":{\"color\":\"white\"}},\"type\":\"table\"}]},\"layout\":{\"annotationdefaults\":{\"arrowcolor\":\"#2a3f5f\",\"arrowhead\":0,\"arrowwidth\":1},\"autotypenumbers\":\"strict\",\"coloraxis\":{\"colorbar\":{\"outlinewidth\":0,\"ticks\":\"\"}},\"colorscale\":{\"diverging\":[[0,\"#8e0152\"],[0.1,\"#c51b7d\"],[0.2,\"#de77ae\"],[0.3,\"#f1b6da\"],[0.4,\"#fde0ef\"],[0.5,\"#f7f7f7\"],[0.6,\"#e6f5d0\"],[0.7,\"#b8e186\"],[0.8,\"#7fbc41\"],[0.9,\"#4d9221\"],[1,\"#276419\"]],\"sequential\":[[0.0,\"#0d0887\"],[0.1111111111111111,\"#46039f\"],[0.2222222222222222,\"#7201a8\"],[0.3333333333333333,\"#9c179e\"],[0.4444444444444444,\"#bd3786\"],[0.5555555555555556,\"#d8576b\"],[0.6666666666666666,\"#ed7953\"],[0.7777777777777778,\"#fb9f3a\"],[0.8888888888888888,\"#fdca26\"],[1.0,\"#f0f921\"]],\"sequentialminus\":[[0.0,\"#0d0887\"],[0.1111111111111111,\"#46039f\"],[0.2222222222222222,\"#7201a8\"],[0.3333333333333333,\"#9c179e\"],[0.4444444444444444,\"#bd3786\"],[0.5555555555555556,\"#d8576b\"],[0.6666666666666666,\"#ed7953\"],[0.7777777777777778,\"#fb9f3a\"],[0.8888888888888888,\"#fdca26\"],[1.0,\"#f0f921\"]]},\"colorway\":[\"#636efa\",\"#EF553B\",\"#00cc96\",\"#ab63fa\",\"#FFA15A\",\"#19d3f3\",\"#FF6692\",\"#B6E880\",\"#FF97FF\",\"#FECB52\"],\"font\":{\"color\":\"#2a3f5f\"},\"geo\":{\"bgcolor\":\"white\",\"lakecolor\":\"white\",\"landcolor\":\"#E5ECF6\",\"showlakes\":true,\"showland\":true,\"subunitcolor\":\"white\"},\"hoverlabel\":{\"align\":\"left\"},\"hovermode\":\"closest\",\"mapbox\":{\"style\":\"light\"},\"paper_bgcolor\":\"white\",\"plot_bgcolor\":\"#E5ECF6\",\"polar\":{\"angularaxis\":{\"gridcolor\":\"white\",\"linecolor\":\"white\",\"ticks\":\"\"},\"bgcolor\":\"#E5ECF6\",\"radialaxis\":{\"gridcolor\":\"white\",\"linecolor\":\"white\",\"ticks\":\"\"}},\"scene\":{\"xaxis\":{\"backgroundcolor\":\"#E5ECF6\",\"gridcolor\":\"white\",\"gridwidth\":2,\"linecolor\":\"white\",\"showbackground\":true,\"ticks\":\"\",\"zerolinecolor\":\"white\"},\"yaxis\":{\"backgroundcolor\":\"#E5ECF6\",\"gridcolor\":\"white\",\"gridwidth\":2,\"linecolor\":\"white\",\"showbackground\":true,\"ticks\":\"\",\"zerolinecolor\":\"white\"},\"zaxis\":{\"backgroundcolor\":\"#E5ECF6\",\"gridcolor\":\"white\",\"gridwidth\":2,\"linecolor\":\"white\",\"showbackground\":true,\"ticks\":\"\",\"zerolinecolor\":\"white\"}},\"shapedefaults\":{\"line\":{\"color\":\"#2a3f5f\"}},\"ternary\":{\"aaxis\":{\"gridcolor\":\"white\",\"linecolor\":\"white\",\"ticks\":\"\"},\"baxis\":{\"gridcolor\":\"white\",\"linecolor\":\"white\",\"ticks\":\"\"},\"bgcolor\":\"#E5ECF6\",\"caxis\":{\"gridcolor\":\"white\",\"linecolor\":\"white\",\"ticks\":\"\"}},\"title\":{\"x\":0.05},\"xaxis\":{\"automargin\":true,\"gridcolor\":\"white\",\"linecolor\":\"white\",\"ticks\":\"\",\"title\":{\"standoff\":15},\"zerolinecolor\":\"white\",\"zerolinewidth\":2},\"yaxis\":{\"automargin\":true,\"gridcolor\":\"white\",\"linecolor\":\"white\",\"ticks\":\"\",\"title\":{\"standoff\":15},\"zerolinecolor\":\"white\",\"zerolinewidth\":2}}},\"title\":{\"text\":\"Model Trouble : The most effective features sorted\"},\"xaxis\":{\"anchor\":\"y\",\"domain\":[0.0,1.0],\"tickangle\":50,\"title\":{\"text\":\"Features\"}},\"yaxis\":{\"anchor\":\"x\",\"domain\":[0.0,1.0],\"title\":{\"text\":\"Imporatnce scores\"}}},                        {\"responsive\": true}                    ).then(function(){\n",
       "                            \n",
       "var gd = document.getElementById('4aa40e9d-61b4-4fe8-8038-b1c84d894233');\n",
       "var x = new MutationObserver(function (mutations, observer) {{\n",
       "        var display = window.getComputedStyle(gd).display;\n",
       "        if (!display || display === 'none') {{\n",
       "            console.log([gd, 'removed!']);\n",
       "            Plotly.purge(gd);\n",
       "            observer.disconnect();\n",
       "        }}\n",
       "}});\n",
       "\n",
       "// Listen for the removal of the full notebook cells\n",
       "var notebookContainer = gd.closest('#notebook-container');\n",
       "if (notebookContainer) {{\n",
       "    x.observe(notebookContainer, {childList: true});\n",
       "}}\n",
       "\n",
       "// Listen for the clearing of the current output cell\n",
       "var outputEl = gd.closest('.output');\n",
       "if (outputEl) {{\n",
       "    x.observe(outputEl, {childList: true});\n",
       "}}\n",
       "\n",
       "                        })                };                });            </script>        </div>"
      ]
     },
     "metadata": {},
     "output_type": "display_data"
    }
   ],
   "source": [
    "#Extract the feature importances scores from the model\n",
    "importance_Trouble = Model_Trouble.feature_importances_\n",
    "\n",
    "#Combine the features with names\n",
    "list_features = sorted(zip(importance_Trouble, Trouble_features), reverse=True)\n",
    "all_features = {}\n",
    "for i in list_features : \n",
    "    all_features[i[1]]=round(i[0],4)\n",
    "\n",
    "x= list(all_features.keys())\n",
    "y= list(all_features.values())\n",
    "\n",
    "sorted_features['TroubleType'] = x\n",
    "\n",
    "#Plot feature importance\n",
    "fig = px.bar( y=y, x=x, text=y,color=y, title=\"Model Trouble : The most effective features sorted\", height=1200)\n",
    "fig.update_xaxes(tickangle=50)\n",
    "fig.update_xaxes(title_text='Features')\n",
    "fig.update_yaxes(title_text='Imporatnce scores')\n",
    "fig.show()"
   ]
  },
  {
   "cell_type": "markdown",
   "id": "53734ddb",
   "metadata": {},
   "source": [
    "## Part 2 : Feature analysis and selection\n",
    "So after creating a classifier for each dataset and get a lis of sorted features, as we notice that for each model we have for each type about 5 to 6 very effective features that have the most importance in class decision, so the idea comes to just choose the most important features for each type and merge them together into a new dataset that will make a correlation between the 3 Types "
   ]
  },
  {
   "cell_type": "code",
   "execution_count": 527,
   "id": "ec6a4aae",
   "metadata": {},
   "outputs": [],
   "source": [
    "#save a copy from the sorted features\n",
    "all_features = sorted_features"
   ]
  },
  {
   "cell_type": "code",
   "execution_count": 528,
   "id": "decd0cc9",
   "metadata": {},
   "outputs": [
    {
     "name": "stdout",
     "output_type": "stream",
     "text": [
      "IntelligenceType:\n",
      "['What activity do you do most frequently?', 'Organizes activities with his friends', 'FavoriteGame', 'What are your strengths among these', 'have difficulty understanding what you have read?', 'FavoriteSubject']\n",
      "\n",
      "PlayerType:\n",
      "['He likes to be part of a team and enjoy collective activities', \"It's fun to be with others more than to be alone\", 'It is important for him that is always his duties in full', 'He likes to defeat obstacles', 'He do not like to follow the rules', 'He likes to change things by himself']\n",
      "\n",
      "TroubleType:\n",
      "['Does he have a hard time bearing boredom or strenuous tasks?', 'It takes a long time to complete simple tasks?', 'Does he make misspellings in his homework?', 'Is he having trouble maintaining attention for more than 15 minutes?', 'he ?it fast/slow while reading ?', 'Is it difficult to understand the statement of calculations and solve it?']\n",
      "\n"
     ]
    }
   ],
   "source": [
    "#Feature selections (Reducing the features to 6 for each type)\n",
    "for i in sorted_features:\n",
    "    sorted_features[i] = sorted_features[i][:6]\n",
    "\n",
    "for i in sorted_features:\n",
    "    print(i + ':')\n",
    "    print(sorted_features[i])\n",
    "    print()\n"
   ]
  },
  {
   "cell_type": "code",
   "execution_count": 530,
   "id": "f68d96c7",
   "metadata": {},
   "outputs": [
    {
     "data": {
      "text/plain": [
       "['What activity do you do most frequently?',\n",
       " 'Organizes activities with his friends',\n",
       " 'FavoriteGame',\n",
       " 'What are your strengths among these',\n",
       " 'have difficulty understanding what you have read?',\n",
       " 'FavoriteSubject',\n",
       " 'He likes to be part of a team and enjoy collective activities',\n",
       " \"It's fun to be with others more than to be alone\",\n",
       " 'It is important for him that is always his duties in full',\n",
       " 'He likes to defeat obstacles',\n",
       " 'He do not like to follow the rules',\n",
       " 'He likes to change things by himself',\n",
       " 'Does he have a hard time bearing boredom or strenuous tasks?',\n",
       " 'It takes a long time to complete simple tasks?',\n",
       " 'Does he make misspellings in his homework?',\n",
       " 'Is he having trouble maintaining attention for more than 15 minutes?',\n",
       " 'he ?it fast/slow while reading ?',\n",
       " 'Is it difficult to understand the statement of calculations and solve it?']"
      ]
     },
     "execution_count": 530,
     "metadata": {},
     "output_type": "execute_result"
    }
   ],
   "source": [
    "#Combining the selected features\n",
    "final_features = []\n",
    "\n",
    "for i in sorted_features:\n",
    "    final_features.extend(sorted_features[i])\n",
    "\n",
    "final_features"
   ]
  },
  {
   "cell_type": "markdown",
   "id": "d4193d02",
   "metadata": {},
   "source": [
    "# Extra testing part\n",
    "In this part, we are going to combine the three datasets and use only the final important features in the building, and as an extra step we are going to build three models that will use only the new features to get each type"
   ]
  },
  {
   "cell_type": "code",
   "execution_count": 531,
   "id": "a2766bbe",
   "metadata": {},
   "outputs": [],
   "source": [
    "#Read all the three datasets and clean them from indices \n",
    "intel_df = pd.read_excel(\"Data\\intel_competition.xlsx\");del intel_df['Unnamed: 0']\n",
    "player_df = pd.read_excel(\"Data\\player_type_competition.xlsx\");del player_df['Unnamed: 0']\n",
    "Trouble_df = pd.read_csv(r\"Data\\trouble_train.csv\");del Trouble_df['Unnamed: 0']"
   ]
  },
  {
   "cell_type": "code",
   "execution_count": 532,
   "id": "a601b4c2",
   "metadata": {},
   "outputs": [],
   "source": [
    "combined = (Trouble_df.join(intel_df)).join(player_df)"
   ]
  },
  {
   "cell_type": "code",
   "execution_count": 533,
   "id": "8e3269b0",
   "metadata": {},
   "outputs": [
    {
     "data": {
      "text/html": [
       "<div>\n",
       "<style scoped>\n",
       "    .dataframe tbody tr th:only-of-type {\n",
       "        vertical-align: middle;\n",
       "    }\n",
       "\n",
       "    .dataframe tbody tr th {\n",
       "        vertical-align: top;\n",
       "    }\n",
       "\n",
       "    .dataframe thead th {\n",
       "        text-align: right;\n",
       "    }\n",
       "</style>\n",
       "<table border=\"1\" class=\"dataframe\">\n",
       "  <thead>\n",
       "    <tr style=\"text-align: right;\">\n",
       "      <th></th>\n",
       "      <th>Does he have health probems ?</th>\n",
       "      <th>Does he have social family problems?</th>\n",
       "      <th>Is there a variation between his real qualifications and its results?</th>\n",
       "      <th>Does he have any difficulties?</th>\n",
       "      <th>Does your child avoid activities that require reading to complete?</th>\n",
       "      <th>he ?it fast/slow while reading ?</th>\n",
       "      <th>When reading aloud, does your child repeat words, change their order, or mix up similar letters (?\\ or ?\\? or ?\\? or p/b or f/v or k/g/jÉ) without notice?</th>\n",
       "      <th>Does he have trouble reading unknown words?</th>\n",
       "      <th>Does he face difficulty understanding what he read?</th>\n",
       "      <th>Does he reflect numbers? {Ex 81 -&gt; 18}</th>\n",
       "      <th>...</th>\n",
       "      <th>Loves to share his knowledge</th>\n",
       "      <th>It is important for him to follow his own way</th>\n",
       "      <th>He likes to try new things</th>\n",
       "      <th>He do not like to follow the rules</th>\n",
       "      <th>He likes to change things by himself</th>\n",
       "      <th>It is important for him that is always his duties in full</th>\n",
       "      <th>He likes to defeat obstacles</th>\n",
       "      <th>He loves competitions where they can win a prize</th>\n",
       "      <th>If sufficient reward will strive</th>\n",
       "      <th>Playertype</th>\n",
       "    </tr>\n",
       "  </thead>\n",
       "  <tbody>\n",
       "    <tr>\n",
       "      <th>0</th>\n",
       "      <td>No</td>\n",
       "      <td>No</td>\n",
       "      <td>Yeah</td>\n",
       "      <td>In particular article</td>\n",
       "      <td>Repeatedly / always</td>\n",
       "      <td>Average</td>\n",
       "      <td>Rarely / never</td>\n",
       "      <td>Sometimes</td>\n",
       "      <td>Rarely / never</td>\n",
       "      <td>Rarely / never</td>\n",
       "      <td>...</td>\n",
       "      <td>neutral</td>\n",
       "      <td>Does not like</td>\n",
       "      <td>Does not like</td>\n",
       "      <td>Does not like</td>\n",
       "      <td>neutral</td>\n",
       "      <td>neutral</td>\n",
       "      <td>Does not like</td>\n",
       "      <td>neutral</td>\n",
       "      <td>Likes</td>\n",
       "      <td>type_player</td>\n",
       "    </tr>\n",
       "    <tr>\n",
       "      <th>1</th>\n",
       "      <td>No</td>\n",
       "      <td>No</td>\n",
       "      <td>No</td>\n",
       "      <td>In particular article</td>\n",
       "      <td>Sometimes</td>\n",
       "      <td>Average</td>\n",
       "      <td>Repeatedly / always</td>\n",
       "      <td>Rarely / never</td>\n",
       "      <td>Sometimes</td>\n",
       "      <td>Sometimes</td>\n",
       "      <td>...</td>\n",
       "      <td>neutral</td>\n",
       "      <td>Does not like</td>\n",
       "      <td>neutral</td>\n",
       "      <td>neutral</td>\n",
       "      <td>neutral</td>\n",
       "      <td>neutral</td>\n",
       "      <td>Likes</td>\n",
       "      <td>neutral</td>\n",
       "      <td>neutral</td>\n",
       "      <td>type_achiever</td>\n",
       "    </tr>\n",
       "    <tr>\n",
       "      <th>2</th>\n",
       "      <td>Yeah</td>\n",
       "      <td>Yeah</td>\n",
       "      <td>Yeah</td>\n",
       "      <td>In particular article</td>\n",
       "      <td>Rarely / never</td>\n",
       "      <td>Average</td>\n",
       "      <td>Sometimes</td>\n",
       "      <td>Repeatedly / always</td>\n",
       "      <td>Repeatedly / always</td>\n",
       "      <td>Rarely / never</td>\n",
       "      <td>...</td>\n",
       "      <td>neutral</td>\n",
       "      <td>Likes</td>\n",
       "      <td>neutral</td>\n",
       "      <td>Likes</td>\n",
       "      <td>Does not like</td>\n",
       "      <td>Likes</td>\n",
       "      <td>Likes</td>\n",
       "      <td>neutral</td>\n",
       "      <td>Likes</td>\n",
       "      <td>type_achiever</td>\n",
       "    </tr>\n",
       "    <tr>\n",
       "      <th>3</th>\n",
       "      <td>No</td>\n",
       "      <td>No</td>\n",
       "      <td>Yeah</td>\n",
       "      <td>In all materials</td>\n",
       "      <td>Sometimes</td>\n",
       "      <td>Slow</td>\n",
       "      <td>Repeatedly / always</td>\n",
       "      <td>Rarely / never</td>\n",
       "      <td>Sometimes</td>\n",
       "      <td>Sometimes</td>\n",
       "      <td>...</td>\n",
       "      <td>Likes</td>\n",
       "      <td>Does not like</td>\n",
       "      <td>Likes</td>\n",
       "      <td>Likes</td>\n",
       "      <td>Does not like</td>\n",
       "      <td>Does not like</td>\n",
       "      <td>Likes</td>\n",
       "      <td>Does not like</td>\n",
       "      <td>Does not like</td>\n",
       "      <td>type_achiever</td>\n",
       "    </tr>\n",
       "    <tr>\n",
       "      <th>4</th>\n",
       "      <td>Yeah</td>\n",
       "      <td>Yeah</td>\n",
       "      <td>No</td>\n",
       "      <td>In particular article</td>\n",
       "      <td>Repeatedly / always</td>\n",
       "      <td>Average</td>\n",
       "      <td>Repeatedly / always</td>\n",
       "      <td>Repeatedly / always</td>\n",
       "      <td>Rarely / never</td>\n",
       "      <td>Sometimes</td>\n",
       "      <td>...</td>\n",
       "      <td>Likes</td>\n",
       "      <td>Likes</td>\n",
       "      <td>Does not like</td>\n",
       "      <td>neutral</td>\n",
       "      <td>Likes</td>\n",
       "      <td>Likes</td>\n",
       "      <td>neutral</td>\n",
       "      <td>neutral</td>\n",
       "      <td>Does not like</td>\n",
       "      <td>type_achiever</td>\n",
       "    </tr>\n",
       "  </tbody>\n",
       "</table>\n",
       "<p>5 rows × 44 columns</p>\n",
       "</div>"
      ],
      "text/plain": [
       "  Does he have health probems ? Does he have social family problems?  \\\n",
       "0                            No                                   No   \n",
       "1                            No                                   No   \n",
       "2                          Yeah                                 Yeah   \n",
       "3                            No                                   No   \n",
       "4                          Yeah                                 Yeah   \n",
       "\n",
       "  Is there a variation between his real qualifications and its results?  \\\n",
       "0                                               Yeah                      \n",
       "1                                                 No                      \n",
       "2                                               Yeah                      \n",
       "3                                               Yeah                      \n",
       "4                                                 No                      \n",
       "\n",
       "  Does he have any difficulties?  \\\n",
       "0          In particular article   \n",
       "1          In particular article   \n",
       "2          In particular article   \n",
       "3               In all materials   \n",
       "4          In particular article   \n",
       "\n",
       "  Does your child avoid activities that require reading to complete?  \\\n",
       "0                                Repeatedly / always                   \n",
       "1                                          Sometimes                   \n",
       "2                                     Rarely / never                   \n",
       "3                                          Sometimes                   \n",
       "4                                Repeatedly / always                   \n",
       "\n",
       "  he ?it fast/slow while reading ?  \\\n",
       "0                          Average   \n",
       "1                          Average   \n",
       "2                          Average   \n",
       "3                             Slow   \n",
       "4                          Average   \n",
       "\n",
       "  When reading aloud, does your child repeat words, change their order, or mix up similar letters (?\\ or ?\\? or ?\\? or p/b or f/v or k/g/jÉ) without notice?  \\\n",
       "0                                     Rarely / never                                                                                                           \n",
       "1                                Repeatedly / always                                                                                                           \n",
       "2                                          Sometimes                                                                                                           \n",
       "3                                Repeatedly / always                                                                                                           \n",
       "4                                Repeatedly / always                                                                                                           \n",
       "\n",
       "  Does he have trouble reading unknown words?  \\\n",
       "0                                   Sometimes   \n",
       "1                              Rarely / never   \n",
       "2                         Repeatedly / always   \n",
       "3                              Rarely / never   \n",
       "4                         Repeatedly / always   \n",
       "\n",
       "  Does he face difficulty understanding what he read?  \\\n",
       "0                                     Rarely / never    \n",
       "1                                          Sometimes    \n",
       "2                                Repeatedly / always    \n",
       "3                                          Sometimes    \n",
       "4                                     Rarely / never    \n",
       "\n",
       "  Does he reflect numbers? {Ex 81 -> 18}  ... Loves to share his knowledge  \\\n",
       "0                         Rarely / never  ...                      neutral   \n",
       "1                              Sometimes  ...                      neutral   \n",
       "2                         Rarely / never  ...                      neutral   \n",
       "3                              Sometimes  ...                        Likes   \n",
       "4                              Sometimes  ...                        Likes   \n",
       "\n",
       "  It is important for him to follow his own way He likes to try new things  \\\n",
       "0                                 Does not like              Does not like   \n",
       "1                                 Does not like                    neutral   \n",
       "2                                         Likes                    neutral   \n",
       "3                                 Does not like                      Likes   \n",
       "4                                         Likes              Does not like   \n",
       "\n",
       "  He do not like to follow the rules He likes to change things by himself  \\\n",
       "0                      Does not like                              neutral   \n",
       "1                            neutral                              neutral   \n",
       "2                              Likes                        Does not like   \n",
       "3                              Likes                        Does not like   \n",
       "4                            neutral                                Likes   \n",
       "\n",
       "  It is important for him that is always his duties in full  \\\n",
       "0                                            neutral          \n",
       "1                                            neutral          \n",
       "2                                              Likes          \n",
       "3                                      Does not like          \n",
       "4                                              Likes          \n",
       "\n",
       "  He likes to defeat obstacles  \\\n",
       "0                Does not like   \n",
       "1                        Likes   \n",
       "2                        Likes   \n",
       "3                        Likes   \n",
       "4                      neutral   \n",
       "\n",
       "  He loves competitions where they can win a prize  \\\n",
       "0                                          neutral   \n",
       "1                                          neutral   \n",
       "2                                          neutral   \n",
       "3                                    Does not like   \n",
       "4                                          neutral   \n",
       "\n",
       "  If sufficient reward will strive     Playertype  \n",
       "0                            Likes    type_player  \n",
       "1                          neutral  type_achiever  \n",
       "2                            Likes  type_achiever  \n",
       "3                    Does not like  type_achiever  \n",
       "4                    Does not like  type_achiever  \n",
       "\n",
       "[5 rows x 44 columns]"
      ]
     },
     "execution_count": 533,
     "metadata": {},
     "output_type": "execute_result"
    }
   ],
   "source": [
    "combined.head(5)"
   ]
  },
  {
   "cell_type": "code",
   "execution_count": 534,
   "id": "018950b2",
   "metadata": {},
   "outputs": [
    {
     "data": {
      "text/plain": [
       "['What activity do you do most frequently?',\n",
       " 'Organizes activities with his friends',\n",
       " 'FavoriteGame',\n",
       " 'What are your strengths among these',\n",
       " 'have difficulty understanding what you have read?',\n",
       " 'FavoriteSubject',\n",
       " 'He likes to be part of a team and enjoy collective activities',\n",
       " \"It's fun to be with others more than to be alone\",\n",
       " 'It is important for him that is always his duties in full',\n",
       " 'He likes to defeat obstacles',\n",
       " 'He do not like to follow the rules',\n",
       " 'He likes to change things by himself',\n",
       " 'Does he have a hard time bearing boredom or strenuous tasks?',\n",
       " 'It takes a long time to complete simple tasks?',\n",
       " 'Does he make misspellings in his homework?',\n",
       " 'Is he having trouble maintaining attention for more than 15 minutes?',\n",
       " 'he ?it fast/slow while reading ?',\n",
       " 'Is it difficult to understand the statement of calculations and solve it?']"
      ]
     },
     "execution_count": 534,
     "metadata": {},
     "output_type": "execute_result"
    }
   ],
   "source": [
    "final_features"
   ]
  },
  {
   "cell_type": "code",
   "execution_count": 535,
   "id": "93bb4258",
   "metadata": {},
   "outputs": [],
   "source": [
    "features =  final_features + [\"Playertype\",\"TypeTrouble\",\"IntelligenceType\"]\n",
    "to_rvm = []\n",
    "for i in combined.columns :\n",
    "    if i not in features :\n",
    "        to_rvm.append(i)\n",
    "for r in to_rvm :\n",
    "    del combined[r]"
   ]
  },
  {
   "cell_type": "code",
   "execution_count": 536,
   "id": "978a43ad",
   "metadata": {},
   "outputs": [
    {
     "data": {
      "text/html": [
       "<div>\n",
       "<style scoped>\n",
       "    .dataframe tbody tr th:only-of-type {\n",
       "        vertical-align: middle;\n",
       "    }\n",
       "\n",
       "    .dataframe tbody tr th {\n",
       "        vertical-align: top;\n",
       "    }\n",
       "\n",
       "    .dataframe thead th {\n",
       "        text-align: right;\n",
       "    }\n",
       "</style>\n",
       "<table border=\"1\" class=\"dataframe\">\n",
       "  <thead>\n",
       "    <tr style=\"text-align: right;\">\n",
       "      <th></th>\n",
       "      <th>he ?it fast/slow while reading ?</th>\n",
       "      <th>Does he make misspellings in his homework?</th>\n",
       "      <th>Is it difficult to understand the statement of calculations and solve it?</th>\n",
       "      <th>Is he having trouble maintaining attention for more than 15 minutes?</th>\n",
       "      <th>It takes a long time to complete simple tasks?</th>\n",
       "      <th>Does he have a hard time bearing boredom or strenuous tasks?</th>\n",
       "      <th>TypeTrouble</th>\n",
       "      <th>Organizes activities with his friends</th>\n",
       "      <th>What are your strengths among these</th>\n",
       "      <th>What activity do you do most frequently?</th>\n",
       "      <th>...</th>\n",
       "      <th>FavoriteSubject</th>\n",
       "      <th>FavoriteGame</th>\n",
       "      <th>IntelligenceType</th>\n",
       "      <th>He likes to be part of a team and enjoy collective activities</th>\n",
       "      <th>It's fun to be with others more than to be alone</th>\n",
       "      <th>He do not like to follow the rules</th>\n",
       "      <th>He likes to change things by himself</th>\n",
       "      <th>It is important for him that is always his duties in full</th>\n",
       "      <th>He likes to defeat obstacles</th>\n",
       "      <th>Playertype</th>\n",
       "    </tr>\n",
       "  </thead>\n",
       "  <tbody>\n",
       "    <tr>\n",
       "      <th>0</th>\n",
       "      <td>Average</td>\n",
       "      <td>Rarely / never</td>\n",
       "      <td>Sometimes</td>\n",
       "      <td>Repeatedly / always</td>\n",
       "      <td>Rarely / never</td>\n",
       "      <td>Repeatedly / always</td>\n",
       "      <td>Type_dyscalculie</td>\n",
       "      <td>Gather and disassemble things</td>\n",
       "      <td>Has a good sense of coordination and is skille...</td>\n",
       "      <td>do sport activities regularly and continuously</td>\n",
       "      <td>...</td>\n",
       "      <td>Arts</td>\n",
       "      <td>Building games or maze games or drawing guess ...</td>\n",
       "      <td>Spatial</td>\n",
       "      <td>neutral</td>\n",
       "      <td>Does not like</td>\n",
       "      <td>Does not like</td>\n",
       "      <td>neutral</td>\n",
       "      <td>neutral</td>\n",
       "      <td>Does not like</td>\n",
       "      <td>type_player</td>\n",
       "    </tr>\n",
       "    <tr>\n",
       "      <th>1</th>\n",
       "      <td>Average</td>\n",
       "      <td>Rarely / never</td>\n",
       "      <td>Rarely / never</td>\n",
       "      <td>Repeatedly / always</td>\n",
       "      <td>Rarely / never</td>\n",
       "      <td>Repeatedly / always</td>\n",
       "      <td>Concentration</td>\n",
       "      <td>Draws or scribbles drawings and looks at pictures</td>\n",
       "      <td>Easily remember the rhythm or music of commerc...</td>\n",
       "      <td>watches movies and views pictures a lot</td>\n",
       "      <td>...</td>\n",
       "      <td>Music</td>\n",
       "      <td>Pet simulator</td>\n",
       "      <td>Spatial</td>\n",
       "      <td>Does not like</td>\n",
       "      <td>Does not like</td>\n",
       "      <td>neutral</td>\n",
       "      <td>neutral</td>\n",
       "      <td>neutral</td>\n",
       "      <td>Likes</td>\n",
       "      <td>type_achiever</td>\n",
       "    </tr>\n",
       "    <tr>\n",
       "      <th>2</th>\n",
       "      <td>Average</td>\n",
       "      <td>Repeatedly / always</td>\n",
       "      <td>Repeatedly / always</td>\n",
       "      <td>Sometimes</td>\n",
       "      <td>Repeatedly / always</td>\n",
       "      <td>Rarely / never</td>\n",
       "      <td>Type_dyslexie</td>\n",
       "      <td>Listen to music or plays an instrument</td>\n",
       "      <td>Easily remember the rhythm or music of commerc...</td>\n",
       "      <td>listens to many styles of music often and repe...</td>\n",
       "      <td>...</td>\n",
       "      <td>foreign languages</td>\n",
       "      <td>Guess the song games</td>\n",
       "      <td>Musical</td>\n",
       "      <td>Does not like</td>\n",
       "      <td>neutral</td>\n",
       "      <td>Likes</td>\n",
       "      <td>Does not like</td>\n",
       "      <td>Likes</td>\n",
       "      <td>Likes</td>\n",
       "      <td>type_achiever</td>\n",
       "    </tr>\n",
       "    <tr>\n",
       "      <th>3</th>\n",
       "      <td>Slow</td>\n",
       "      <td>Repeatedly / always</td>\n",
       "      <td>Sometimes</td>\n",
       "      <td>Repeatedly / always</td>\n",
       "      <td>Repeatedly / always</td>\n",
       "      <td>Sometimes</td>\n",
       "      <td>Concentration</td>\n",
       "      <td>Draws or scribbles drawings and looks at pictures</td>\n",
       "      <td>decides for himself what he think to do and tr...</td>\n",
       "      <td>intereste in the environment in his daily acti...</td>\n",
       "      <td>...</td>\n",
       "      <td>Biology and Earth</td>\n",
       "      <td>Sports games</td>\n",
       "      <td>Naturalistic</td>\n",
       "      <td>neutral</td>\n",
       "      <td>Does not like</td>\n",
       "      <td>Likes</td>\n",
       "      <td>Does not like</td>\n",
       "      <td>Does not like</td>\n",
       "      <td>Likes</td>\n",
       "      <td>type_achiever</td>\n",
       "    </tr>\n",
       "    <tr>\n",
       "      <th>4</th>\n",
       "      <td>Average</td>\n",
       "      <td>Repeatedly / always</td>\n",
       "      <td>Rarely / never</td>\n",
       "      <td>Rarely / never</td>\n",
       "      <td>Rarely / never</td>\n",
       "      <td>Rarely / never</td>\n",
       "      <td>Type_dyslexie</td>\n",
       "      <td>Organizes activities with his friends</td>\n",
       "      <td>decides for himself what he think to do and tr...</td>\n",
       "      <td>asks a lot of questions about how things work ...</td>\n",
       "      <td>...</td>\n",
       "      <td>Maths</td>\n",
       "      <td>Sports games</td>\n",
       "      <td>Logico MathÃ©matique</td>\n",
       "      <td>Does not like</td>\n",
       "      <td>Does not like</td>\n",
       "      <td>neutral</td>\n",
       "      <td>Likes</td>\n",
       "      <td>Likes</td>\n",
       "      <td>neutral</td>\n",
       "      <td>type_achiever</td>\n",
       "    </tr>\n",
       "    <tr>\n",
       "      <th>...</th>\n",
       "      <td>...</td>\n",
       "      <td>...</td>\n",
       "      <td>...</td>\n",
       "      <td>...</td>\n",
       "      <td>...</td>\n",
       "      <td>...</td>\n",
       "      <td>...</td>\n",
       "      <td>...</td>\n",
       "      <td>...</td>\n",
       "      <td>...</td>\n",
       "      <td>...</td>\n",
       "      <td>...</td>\n",
       "      <td>...</td>\n",
       "      <td>...</td>\n",
       "      <td>...</td>\n",
       "      <td>...</td>\n",
       "      <td>...</td>\n",
       "      <td>...</td>\n",
       "      <td>...</td>\n",
       "      <td>...</td>\n",
       "      <td>...</td>\n",
       "    </tr>\n",
       "    <tr>\n",
       "      <th>995</th>\n",
       "      <td>Slow</td>\n",
       "      <td>Sometimes</td>\n",
       "      <td>Rarely / never</td>\n",
       "      <td>Repeatedly / always</td>\n",
       "      <td>Rarely / never</td>\n",
       "      <td>Rarely / never</td>\n",
       "      <td>Type_dyslexie</td>\n",
       "      <td>Gather and disassemble things</td>\n",
       "      <td>Easily remember the rhythm or music of commerc...</td>\n",
       "      <td>listens to many styles of music often and repe...</td>\n",
       "      <td>...</td>\n",
       "      <td>Maths</td>\n",
       "      <td>Building games or maze games or drawing guess ...</td>\n",
       "      <td>Spatial</td>\n",
       "      <td>Likes</td>\n",
       "      <td>Does not like</td>\n",
       "      <td>Does not like</td>\n",
       "      <td>Likes</td>\n",
       "      <td>neutral</td>\n",
       "      <td>Likes</td>\n",
       "      <td>type_philanthropist</td>\n",
       "    </tr>\n",
       "    <tr>\n",
       "      <th>996</th>\n",
       "      <td>Slow</td>\n",
       "      <td>Sometimes</td>\n",
       "      <td>Rarely / never</td>\n",
       "      <td>Sometimes</td>\n",
       "      <td>Repeatedly / always</td>\n",
       "      <td>Repeatedly / always</td>\n",
       "      <td>Concentration</td>\n",
       "      <td>Gather and disassemble things</td>\n",
       "      <td>Has a good sense of coordination and is skille...</td>\n",
       "      <td>do sport activities regularly and continuously</td>\n",
       "      <td>...</td>\n",
       "      <td>Maths</td>\n",
       "      <td>Sports games</td>\n",
       "      <td>Kinesthetic</td>\n",
       "      <td>Does not like</td>\n",
       "      <td>neutral</td>\n",
       "      <td>neutral</td>\n",
       "      <td>Does not like</td>\n",
       "      <td>Does not like</td>\n",
       "      <td>Likes</td>\n",
       "      <td>type_achiever</td>\n",
       "    </tr>\n",
       "    <tr>\n",
       "      <th>997</th>\n",
       "      <td>Fast</td>\n",
       "      <td>Sometimes</td>\n",
       "      <td>Sometimes</td>\n",
       "      <td>Rarely / never</td>\n",
       "      <td>Repeatedly / always</td>\n",
       "      <td>Repeatedly / always</td>\n",
       "      <td>Type_dyscalculie</td>\n",
       "      <td>Draws or scribbles drawings and looks at pictures</td>\n",
       "      <td>Has a good sense of coordination and is skille...</td>\n",
       "      <td>listens to many styles of music often and repe...</td>\n",
       "      <td>...</td>\n",
       "      <td>Physical education</td>\n",
       "      <td>Puzzle games or strategy games</td>\n",
       "      <td>Logico MathÃ©matique</td>\n",
       "      <td>Likes</td>\n",
       "      <td>Does not like</td>\n",
       "      <td>Does not like</td>\n",
       "      <td>Likes</td>\n",
       "      <td>Does not like</td>\n",
       "      <td>neutral</td>\n",
       "      <td>type_socializer</td>\n",
       "    </tr>\n",
       "    <tr>\n",
       "      <th>998</th>\n",
       "      <td>Fast</td>\n",
       "      <td>Repeatedly / always</td>\n",
       "      <td>Repeatedly / always</td>\n",
       "      <td>Sometimes</td>\n",
       "      <td>Sometimes</td>\n",
       "      <td>Repeatedly / always</td>\n",
       "      <td>Concentration</td>\n",
       "      <td>Gather and disassemble things</td>\n",
       "      <td>Has a good sense of coordination and is skille...</td>\n",
       "      <td>do sport activities regularly and continuously</td>\n",
       "      <td>...</td>\n",
       "      <td>Physical education</td>\n",
       "      <td>Sports games</td>\n",
       "      <td>Kinesthetic</td>\n",
       "      <td>Does not like</td>\n",
       "      <td>Does not like</td>\n",
       "      <td>Likes</td>\n",
       "      <td>neutral</td>\n",
       "      <td>neutral</td>\n",
       "      <td>Likes</td>\n",
       "      <td>type_achiever</td>\n",
       "    </tr>\n",
       "    <tr>\n",
       "      <th>999</th>\n",
       "      <td>Slow</td>\n",
       "      <td>Rarely / never</td>\n",
       "      <td>Sometimes</td>\n",
       "      <td>Rarely / never</td>\n",
       "      <td>Sometimes</td>\n",
       "      <td>Rarely / never</td>\n",
       "      <td>Type_dyscalculie</td>\n",
       "      <td>Gather and disassemble things</td>\n",
       "      <td>Has a good sense of coordination and is skille...</td>\n",
       "      <td>do sport activities regularly and continuously</td>\n",
       "      <td>...</td>\n",
       "      <td>Arts</td>\n",
       "      <td>Puzzle games or strategy games</td>\n",
       "      <td>Kinesthetic</td>\n",
       "      <td>Likes</td>\n",
       "      <td>Does not like</td>\n",
       "      <td>Does not like</td>\n",
       "      <td>Does not like</td>\n",
       "      <td>neutral</td>\n",
       "      <td>Does not like</td>\n",
       "      <td>type_freeSpirit</td>\n",
       "    </tr>\n",
       "  </tbody>\n",
       "</table>\n",
       "<p>1000 rows × 21 columns</p>\n",
       "</div>"
      ],
      "text/plain": [
       "    he ?it fast/slow while reading ?  \\\n",
       "0                            Average   \n",
       "1                            Average   \n",
       "2                            Average   \n",
       "3                               Slow   \n",
       "4                            Average   \n",
       "..                               ...   \n",
       "995                             Slow   \n",
       "996                             Slow   \n",
       "997                             Fast   \n",
       "998                             Fast   \n",
       "999                             Slow   \n",
       "\n",
       "    Does he make misspellings in his homework?  \\\n",
       "0                               Rarely / never   \n",
       "1                               Rarely / never   \n",
       "2                          Repeatedly / always   \n",
       "3                          Repeatedly / always   \n",
       "4                          Repeatedly / always   \n",
       "..                                         ...   \n",
       "995                                  Sometimes   \n",
       "996                                  Sometimes   \n",
       "997                                  Sometimes   \n",
       "998                        Repeatedly / always   \n",
       "999                             Rarely / never   \n",
       "\n",
       "    Is it difficult to understand the statement of calculations and solve it?  \\\n",
       "0                                            Sometimes                          \n",
       "1                                       Rarely / never                          \n",
       "2                                  Repeatedly / always                          \n",
       "3                                            Sometimes                          \n",
       "4                                       Rarely / never                          \n",
       "..                                                 ...                          \n",
       "995                                     Rarely / never                          \n",
       "996                                     Rarely / never                          \n",
       "997                                          Sometimes                          \n",
       "998                                Repeatedly / always                          \n",
       "999                                          Sometimes                          \n",
       "\n",
       "    Is he having trouble maintaining attention for more than 15 minutes?  \\\n",
       "0                                  Repeatedly / always                     \n",
       "1                                  Repeatedly / always                     \n",
       "2                                            Sometimes                     \n",
       "3                                  Repeatedly / always                     \n",
       "4                                       Rarely / never                     \n",
       "..                                                 ...                     \n",
       "995                                Repeatedly / always                     \n",
       "996                                          Sometimes                     \n",
       "997                                     Rarely / never                     \n",
       "998                                          Sometimes                     \n",
       "999                                     Rarely / never                     \n",
       "\n",
       "    It takes a long time to complete simple tasks?  \\\n",
       "0                                   Rarely / never   \n",
       "1                                   Rarely / never   \n",
       "2                              Repeatedly / always   \n",
       "3                              Repeatedly / always   \n",
       "4                                   Rarely / never   \n",
       "..                                             ...   \n",
       "995                                 Rarely / never   \n",
       "996                            Repeatedly / always   \n",
       "997                            Repeatedly / always   \n",
       "998                                      Sometimes   \n",
       "999                                      Sometimes   \n",
       "\n",
       "    Does he have a hard time bearing boredom or strenuous tasks?  \\\n",
       "0                                  Repeatedly / always             \n",
       "1                                  Repeatedly / always             \n",
       "2                                       Rarely / never             \n",
       "3                                            Sometimes             \n",
       "4                                       Rarely / never             \n",
       "..                                                 ...             \n",
       "995                                     Rarely / never             \n",
       "996                                Repeatedly / always             \n",
       "997                                Repeatedly / always             \n",
       "998                                Repeatedly / always             \n",
       "999                                     Rarely / never             \n",
       "\n",
       "          TypeTrouble              Organizes activities with his friends  \\\n",
       "0    Type_dyscalculie                      Gather and disassemble things   \n",
       "1       Concentration  Draws or scribbles drawings and looks at pictures   \n",
       "2       Type_dyslexie             Listen to music or plays an instrument   \n",
       "3       Concentration  Draws or scribbles drawings and looks at pictures   \n",
       "4       Type_dyslexie              Organizes activities with his friends   \n",
       "..                ...                                                ...   \n",
       "995     Type_dyslexie                      Gather and disassemble things   \n",
       "996     Concentration                      Gather and disassemble things   \n",
       "997  Type_dyscalculie  Draws or scribbles drawings and looks at pictures   \n",
       "998     Concentration                      Gather and disassemble things   \n",
       "999  Type_dyscalculie                      Gather and disassemble things   \n",
       "\n",
       "                   What are your strengths among these  \\\n",
       "0    Has a good sense of coordination and is skille...   \n",
       "1    Easily remember the rhythm or music of commerc...   \n",
       "2    Easily remember the rhythm or music of commerc...   \n",
       "3    decides for himself what he think to do and tr...   \n",
       "4    decides for himself what he think to do and tr...   \n",
       "..                                                 ...   \n",
       "995  Easily remember the rhythm or music of commerc...   \n",
       "996  Has a good sense of coordination and is skille...   \n",
       "997  Has a good sense of coordination and is skille...   \n",
       "998  Has a good sense of coordination and is skille...   \n",
       "999  Has a good sense of coordination and is skille...   \n",
       "\n",
       "              What activity do you do most frequently?  ...  \\\n",
       "0       do sport activities regularly and continuously  ...   \n",
       "1              watches movies and views pictures a lot  ...   \n",
       "2    listens to many styles of music often and repe...  ...   \n",
       "3    intereste in the environment in his daily acti...  ...   \n",
       "4    asks a lot of questions about how things work ...  ...   \n",
       "..                                                 ...  ...   \n",
       "995  listens to many styles of music often and repe...  ...   \n",
       "996     do sport activities regularly and continuously  ...   \n",
       "997  listens to many styles of music often and repe...  ...   \n",
       "998     do sport activities regularly and continuously  ...   \n",
       "999     do sport activities regularly and continuously  ...   \n",
       "\n",
       "        FavoriteSubject                                       FavoriteGame  \\\n",
       "0                  Arts  Building games or maze games or drawing guess ...   \n",
       "1                 Music                                      Pet simulator   \n",
       "2     foreign languages                               Guess the song games   \n",
       "3     Biology and Earth                                       Sports games   \n",
       "4                 Maths                                       Sports games   \n",
       "..                  ...                                                ...   \n",
       "995               Maths  Building games or maze games or drawing guess ...   \n",
       "996               Maths                                       Sports games   \n",
       "997  Physical education                     Puzzle games or strategy games   \n",
       "998  Physical education                                       Sports games   \n",
       "999                Arts                     Puzzle games or strategy games   \n",
       "\n",
       "         IntelligenceType  \\\n",
       "0                 Spatial   \n",
       "1                 Spatial   \n",
       "2                 Musical   \n",
       "3            Naturalistic   \n",
       "4    Logico MathÃ©matique   \n",
       "..                    ...   \n",
       "995               Spatial   \n",
       "996           Kinesthetic   \n",
       "997  Logico MathÃ©matique   \n",
       "998           Kinesthetic   \n",
       "999           Kinesthetic   \n",
       "\n",
       "    He likes to be part of a team and enjoy collective activities  \\\n",
       "0                                              neutral              \n",
       "1                                        Does not like              \n",
       "2                                        Does not like              \n",
       "3                                              neutral              \n",
       "4                                        Does not like              \n",
       "..                                                 ...              \n",
       "995                                              Likes              \n",
       "996                                      Does not like              \n",
       "997                                              Likes              \n",
       "998                                      Does not like              \n",
       "999                                              Likes              \n",
       "\n",
       "    It's fun to be with others more than to be alone  \\\n",
       "0                                      Does not like   \n",
       "1                                      Does not like   \n",
       "2                                            neutral   \n",
       "3                                      Does not like   \n",
       "4                                      Does not like   \n",
       "..                                               ...   \n",
       "995                                    Does not like   \n",
       "996                                          neutral   \n",
       "997                                    Does not like   \n",
       "998                                    Does not like   \n",
       "999                                    Does not like   \n",
       "\n",
       "    He do not like to follow the rules He likes to change things by himself  \\\n",
       "0                        Does not like                              neutral   \n",
       "1                              neutral                              neutral   \n",
       "2                                Likes                        Does not like   \n",
       "3                                Likes                        Does not like   \n",
       "4                              neutral                                Likes   \n",
       "..                                 ...                                  ...   \n",
       "995                      Does not like                                Likes   \n",
       "996                            neutral                        Does not like   \n",
       "997                      Does not like                                Likes   \n",
       "998                              Likes                              neutral   \n",
       "999                      Does not like                        Does not like   \n",
       "\n",
       "    It is important for him that is always his duties in full  \\\n",
       "0                                              neutral          \n",
       "1                                              neutral          \n",
       "2                                                Likes          \n",
       "3                                        Does not like          \n",
       "4                                                Likes          \n",
       "..                                                 ...          \n",
       "995                                            neutral          \n",
       "996                                      Does not like          \n",
       "997                                      Does not like          \n",
       "998                                            neutral          \n",
       "999                                            neutral          \n",
       "\n",
       "    He likes to defeat obstacles           Playertype  \n",
       "0                  Does not like          type_player  \n",
       "1                          Likes        type_achiever  \n",
       "2                          Likes        type_achiever  \n",
       "3                          Likes        type_achiever  \n",
       "4                        neutral        type_achiever  \n",
       "..                           ...                  ...  \n",
       "995                        Likes  type_philanthropist  \n",
       "996                        Likes        type_achiever  \n",
       "997                      neutral      type_socializer  \n",
       "998                        Likes        type_achiever  \n",
       "999                Does not like      type_freeSpirit  \n",
       "\n",
       "[1000 rows x 21 columns]"
      ]
     },
     "execution_count": 536,
     "metadata": {},
     "output_type": "execute_result"
    }
   ],
   "source": [
    "combined"
   ]
  },
  {
   "cell_type": "code",
   "execution_count": 537,
   "id": "e0ad1999",
   "metadata": {},
   "outputs": [],
   "source": [
    "#In this Case, we have our final dataset with only the wanted features and mosy effective ones. \n",
    "#Maybe, we try to build a model for one of the 3 types"
   ]
  },
  {
   "cell_type": "code",
   "execution_count": 548,
   "id": "2ace1d1d",
   "metadata": {},
   "outputs": [
    {
     "data": {
      "text/plain": [
       "0      Type_dyscalculie\n",
       "1         Concentration\n",
       "2         Type_dyslexie\n",
       "3         Concentration\n",
       "4         Type_dyslexie\n",
       "             ...       \n",
       "995       Type_dyslexie\n",
       "996       Concentration\n",
       "997    Type_dyscalculie\n",
       "998       Concentration\n",
       "999    Type_dyscalculie\n",
       "Name: TypeTrouble, Length: 1000, dtype: object"
      ]
     },
     "execution_count": 548,
     "metadata": {},
     "output_type": "execute_result"
    }
   ],
   "source": [
    "combined['TypeTrouble'] "
   ]
  },
  {
   "cell_type": "code",
   "execution_count": 538,
   "id": "60bf6e7b",
   "metadata": {},
   "outputs": [
    {
     "data": {
      "text/html": [
       "<div>\n",
       "<style scoped>\n",
       "    .dataframe tbody tr th:only-of-type {\n",
       "        vertical-align: middle;\n",
       "    }\n",
       "\n",
       "    .dataframe tbody tr th {\n",
       "        vertical-align: top;\n",
       "    }\n",
       "\n",
       "    .dataframe thead th {\n",
       "        text-align: right;\n",
       "    }\n",
       "</style>\n",
       "<table border=\"1\" class=\"dataframe\">\n",
       "  <thead>\n",
       "    <tr style=\"text-align: right;\">\n",
       "      <th></th>\n",
       "      <th>he ?it fast/slow while reading ?</th>\n",
       "      <th>Does he make misspellings in his homework?</th>\n",
       "      <th>Is it difficult to understand the statement of calculations and solve it?</th>\n",
       "      <th>Is he having trouble maintaining attention for more than 15 minutes?</th>\n",
       "      <th>It takes a long time to complete simple tasks?</th>\n",
       "      <th>Does he have a hard time bearing boredom or strenuous tasks?</th>\n",
       "      <th>TypeTrouble</th>\n",
       "      <th>Organizes activities with his friends</th>\n",
       "      <th>What are your strengths among these</th>\n",
       "      <th>What activity do you do most frequently?</th>\n",
       "      <th>...</th>\n",
       "      <th>FavoriteSubject</th>\n",
       "      <th>FavoriteGame</th>\n",
       "      <th>IntelligenceType</th>\n",
       "      <th>He likes to be part of a team and enjoy collective activities</th>\n",
       "      <th>It's fun to be with others more than to be alone</th>\n",
       "      <th>He do not like to follow the rules</th>\n",
       "      <th>He likes to change things by himself</th>\n",
       "      <th>It is important for him that is always his duties in full</th>\n",
       "      <th>He likes to defeat obstacles</th>\n",
       "      <th>Playertype</th>\n",
       "    </tr>\n",
       "  </thead>\n",
       "  <tbody>\n",
       "    <tr>\n",
       "      <th>0</th>\n",
       "      <td>0</td>\n",
       "      <td>0</td>\n",
       "      <td>0</td>\n",
       "      <td>0</td>\n",
       "      <td>0</td>\n",
       "      <td>0</td>\n",
       "      <td>0</td>\n",
       "      <td>0</td>\n",
       "      <td>0</td>\n",
       "      <td>0</td>\n",
       "      <td>...</td>\n",
       "      <td>0</td>\n",
       "      <td>0</td>\n",
       "      <td>0</td>\n",
       "      <td>0</td>\n",
       "      <td>0</td>\n",
       "      <td>0</td>\n",
       "      <td>0</td>\n",
       "      <td>0</td>\n",
       "      <td>0</td>\n",
       "      <td>0</td>\n",
       "    </tr>\n",
       "    <tr>\n",
       "      <th>1</th>\n",
       "      <td>0</td>\n",
       "      <td>0</td>\n",
       "      <td>1</td>\n",
       "      <td>0</td>\n",
       "      <td>0</td>\n",
       "      <td>0</td>\n",
       "      <td>1</td>\n",
       "      <td>1</td>\n",
       "      <td>1</td>\n",
       "      <td>1</td>\n",
       "      <td>...</td>\n",
       "      <td>1</td>\n",
       "      <td>1</td>\n",
       "      <td>0</td>\n",
       "      <td>1</td>\n",
       "      <td>0</td>\n",
       "      <td>1</td>\n",
       "      <td>0</td>\n",
       "      <td>0</td>\n",
       "      <td>1</td>\n",
       "      <td>1</td>\n",
       "    </tr>\n",
       "    <tr>\n",
       "      <th>2</th>\n",
       "      <td>0</td>\n",
       "      <td>1</td>\n",
       "      <td>2</td>\n",
       "      <td>1</td>\n",
       "      <td>1</td>\n",
       "      <td>1</td>\n",
       "      <td>2</td>\n",
       "      <td>2</td>\n",
       "      <td>1</td>\n",
       "      <td>2</td>\n",
       "      <td>...</td>\n",
       "      <td>2</td>\n",
       "      <td>2</td>\n",
       "      <td>1</td>\n",
       "      <td>1</td>\n",
       "      <td>1</td>\n",
       "      <td>2</td>\n",
       "      <td>1</td>\n",
       "      <td>1</td>\n",
       "      <td>1</td>\n",
       "      <td>1</td>\n",
       "    </tr>\n",
       "    <tr>\n",
       "      <th>3</th>\n",
       "      <td>1</td>\n",
       "      <td>1</td>\n",
       "      <td>0</td>\n",
       "      <td>0</td>\n",
       "      <td>1</td>\n",
       "      <td>2</td>\n",
       "      <td>1</td>\n",
       "      <td>1</td>\n",
       "      <td>2</td>\n",
       "      <td>3</td>\n",
       "      <td>...</td>\n",
       "      <td>3</td>\n",
       "      <td>3</td>\n",
       "      <td>2</td>\n",
       "      <td>0</td>\n",
       "      <td>0</td>\n",
       "      <td>2</td>\n",
       "      <td>1</td>\n",
       "      <td>2</td>\n",
       "      <td>1</td>\n",
       "      <td>1</td>\n",
       "    </tr>\n",
       "    <tr>\n",
       "      <th>4</th>\n",
       "      <td>0</td>\n",
       "      <td>1</td>\n",
       "      <td>1</td>\n",
       "      <td>2</td>\n",
       "      <td>0</td>\n",
       "      <td>1</td>\n",
       "      <td>2</td>\n",
       "      <td>3</td>\n",
       "      <td>2</td>\n",
       "      <td>4</td>\n",
       "      <td>...</td>\n",
       "      <td>4</td>\n",
       "      <td>3</td>\n",
       "      <td>3</td>\n",
       "      <td>1</td>\n",
       "      <td>0</td>\n",
       "      <td>1</td>\n",
       "      <td>2</td>\n",
       "      <td>1</td>\n",
       "      <td>2</td>\n",
       "      <td>1</td>\n",
       "    </tr>\n",
       "    <tr>\n",
       "      <th>...</th>\n",
       "      <td>...</td>\n",
       "      <td>...</td>\n",
       "      <td>...</td>\n",
       "      <td>...</td>\n",
       "      <td>...</td>\n",
       "      <td>...</td>\n",
       "      <td>...</td>\n",
       "      <td>...</td>\n",
       "      <td>...</td>\n",
       "      <td>...</td>\n",
       "      <td>...</td>\n",
       "      <td>...</td>\n",
       "      <td>...</td>\n",
       "      <td>...</td>\n",
       "      <td>...</td>\n",
       "      <td>...</td>\n",
       "      <td>...</td>\n",
       "      <td>...</td>\n",
       "      <td>...</td>\n",
       "      <td>...</td>\n",
       "      <td>...</td>\n",
       "    </tr>\n",
       "    <tr>\n",
       "      <th>995</th>\n",
       "      <td>1</td>\n",
       "      <td>2</td>\n",
       "      <td>1</td>\n",
       "      <td>0</td>\n",
       "      <td>0</td>\n",
       "      <td>1</td>\n",
       "      <td>2</td>\n",
       "      <td>0</td>\n",
       "      <td>1</td>\n",
       "      <td>2</td>\n",
       "      <td>...</td>\n",
       "      <td>4</td>\n",
       "      <td>0</td>\n",
       "      <td>0</td>\n",
       "      <td>2</td>\n",
       "      <td>0</td>\n",
       "      <td>0</td>\n",
       "      <td>2</td>\n",
       "      <td>0</td>\n",
       "      <td>1</td>\n",
       "      <td>3</td>\n",
       "    </tr>\n",
       "    <tr>\n",
       "      <th>996</th>\n",
       "      <td>1</td>\n",
       "      <td>2</td>\n",
       "      <td>1</td>\n",
       "      <td>1</td>\n",
       "      <td>1</td>\n",
       "      <td>0</td>\n",
       "      <td>1</td>\n",
       "      <td>0</td>\n",
       "      <td>0</td>\n",
       "      <td>0</td>\n",
       "      <td>...</td>\n",
       "      <td>4</td>\n",
       "      <td>3</td>\n",
       "      <td>4</td>\n",
       "      <td>1</td>\n",
       "      <td>1</td>\n",
       "      <td>1</td>\n",
       "      <td>1</td>\n",
       "      <td>2</td>\n",
       "      <td>1</td>\n",
       "      <td>1</td>\n",
       "    </tr>\n",
       "    <tr>\n",
       "      <th>997</th>\n",
       "      <td>2</td>\n",
       "      <td>2</td>\n",
       "      <td>0</td>\n",
       "      <td>2</td>\n",
       "      <td>1</td>\n",
       "      <td>0</td>\n",
       "      <td>0</td>\n",
       "      <td>1</td>\n",
       "      <td>0</td>\n",
       "      <td>2</td>\n",
       "      <td>...</td>\n",
       "      <td>5</td>\n",
       "      <td>6</td>\n",
       "      <td>3</td>\n",
       "      <td>2</td>\n",
       "      <td>0</td>\n",
       "      <td>0</td>\n",
       "      <td>2</td>\n",
       "      <td>2</td>\n",
       "      <td>2</td>\n",
       "      <td>4</td>\n",
       "    </tr>\n",
       "    <tr>\n",
       "      <th>998</th>\n",
       "      <td>2</td>\n",
       "      <td>1</td>\n",
       "      <td>2</td>\n",
       "      <td>1</td>\n",
       "      <td>2</td>\n",
       "      <td>0</td>\n",
       "      <td>1</td>\n",
       "      <td>0</td>\n",
       "      <td>0</td>\n",
       "      <td>0</td>\n",
       "      <td>...</td>\n",
       "      <td>5</td>\n",
       "      <td>3</td>\n",
       "      <td>4</td>\n",
       "      <td>1</td>\n",
       "      <td>0</td>\n",
       "      <td>2</td>\n",
       "      <td>0</td>\n",
       "      <td>0</td>\n",
       "      <td>1</td>\n",
       "      <td>1</td>\n",
       "    </tr>\n",
       "    <tr>\n",
       "      <th>999</th>\n",
       "      <td>1</td>\n",
       "      <td>0</td>\n",
       "      <td>0</td>\n",
       "      <td>2</td>\n",
       "      <td>2</td>\n",
       "      <td>1</td>\n",
       "      <td>0</td>\n",
       "      <td>0</td>\n",
       "      <td>0</td>\n",
       "      <td>0</td>\n",
       "      <td>...</td>\n",
       "      <td>0</td>\n",
       "      <td>6</td>\n",
       "      <td>4</td>\n",
       "      <td>2</td>\n",
       "      <td>0</td>\n",
       "      <td>0</td>\n",
       "      <td>1</td>\n",
       "      <td>0</td>\n",
       "      <td>0</td>\n",
       "      <td>5</td>\n",
       "    </tr>\n",
       "  </tbody>\n",
       "</table>\n",
       "<p>1000 rows × 21 columns</p>\n",
       "</div>"
      ],
      "text/plain": [
       "     he ?it fast/slow while reading ?  \\\n",
       "0                                   0   \n",
       "1                                   0   \n",
       "2                                   0   \n",
       "3                                   1   \n",
       "4                                   0   \n",
       "..                                ...   \n",
       "995                                 1   \n",
       "996                                 1   \n",
       "997                                 2   \n",
       "998                                 2   \n",
       "999                                 1   \n",
       "\n",
       "     Does he make misspellings in his homework?  \\\n",
       "0                                             0   \n",
       "1                                             0   \n",
       "2                                             1   \n",
       "3                                             1   \n",
       "4                                             1   \n",
       "..                                          ...   \n",
       "995                                           2   \n",
       "996                                           2   \n",
       "997                                           2   \n",
       "998                                           1   \n",
       "999                                           0   \n",
       "\n",
       "     Is it difficult to understand the statement of calculations and solve it?  \\\n",
       "0                                                    0                           \n",
       "1                                                    1                           \n",
       "2                                                    2                           \n",
       "3                                                    0                           \n",
       "4                                                    1                           \n",
       "..                                                 ...                           \n",
       "995                                                  1                           \n",
       "996                                                  1                           \n",
       "997                                                  0                           \n",
       "998                                                  2                           \n",
       "999                                                  0                           \n",
       "\n",
       "     Is he having trouble maintaining attention for more than 15 minutes?  \\\n",
       "0                                                    0                      \n",
       "1                                                    0                      \n",
       "2                                                    1                      \n",
       "3                                                    0                      \n",
       "4                                                    2                      \n",
       "..                                                 ...                      \n",
       "995                                                  0                      \n",
       "996                                                  1                      \n",
       "997                                                  2                      \n",
       "998                                                  1                      \n",
       "999                                                  2                      \n",
       "\n",
       "     It takes a long time to complete simple tasks?  \\\n",
       "0                                                 0   \n",
       "1                                                 0   \n",
       "2                                                 1   \n",
       "3                                                 1   \n",
       "4                                                 0   \n",
       "..                                              ...   \n",
       "995                                               0   \n",
       "996                                               1   \n",
       "997                                               1   \n",
       "998                                               2   \n",
       "999                                               2   \n",
       "\n",
       "     Does he have a hard time bearing boredom or strenuous tasks?  \\\n",
       "0                                                    0              \n",
       "1                                                    0              \n",
       "2                                                    1              \n",
       "3                                                    2              \n",
       "4                                                    1              \n",
       "..                                                 ...              \n",
       "995                                                  1              \n",
       "996                                                  0              \n",
       "997                                                  0              \n",
       "998                                                  0              \n",
       "999                                                  1              \n",
       "\n",
       "     TypeTrouble  Organizes activities with his friends  \\\n",
       "0              0                                      0   \n",
       "1              1                                      1   \n",
       "2              2                                      2   \n",
       "3              1                                      1   \n",
       "4              2                                      3   \n",
       "..           ...                                    ...   \n",
       "995            2                                      0   \n",
       "996            1                                      0   \n",
       "997            0                                      1   \n",
       "998            1                                      0   \n",
       "999            0                                      0   \n",
       "\n",
       "     What are your strengths among these  \\\n",
       "0                                      0   \n",
       "1                                      1   \n",
       "2                                      1   \n",
       "3                                      2   \n",
       "4                                      2   \n",
       "..                                   ...   \n",
       "995                                    1   \n",
       "996                                    0   \n",
       "997                                    0   \n",
       "998                                    0   \n",
       "999                                    0   \n",
       "\n",
       "     What activity do you do most frequently?  ...  FavoriteSubject  \\\n",
       "0                                           0  ...                0   \n",
       "1                                           1  ...                1   \n",
       "2                                           2  ...                2   \n",
       "3                                           3  ...                3   \n",
       "4                                           4  ...                4   \n",
       "..                                        ...  ...              ...   \n",
       "995                                         2  ...                4   \n",
       "996                                         0  ...                4   \n",
       "997                                         2  ...                5   \n",
       "998                                         0  ...                5   \n",
       "999                                         0  ...                0   \n",
       "\n",
       "     FavoriteGame  IntelligenceType  \\\n",
       "0               0                 0   \n",
       "1               1                 0   \n",
       "2               2                 1   \n",
       "3               3                 2   \n",
       "4               3                 3   \n",
       "..            ...               ...   \n",
       "995             0                 0   \n",
       "996             3                 4   \n",
       "997             6                 3   \n",
       "998             3                 4   \n",
       "999             6                 4   \n",
       "\n",
       "     He likes to be part of a team and enjoy collective activities  \\\n",
       "0                                                    0               \n",
       "1                                                    1               \n",
       "2                                                    1               \n",
       "3                                                    0               \n",
       "4                                                    1               \n",
       "..                                                 ...               \n",
       "995                                                  2               \n",
       "996                                                  1               \n",
       "997                                                  2               \n",
       "998                                                  1               \n",
       "999                                                  2               \n",
       "\n",
       "     It's fun to be with others more than to be alone  \\\n",
       "0                                                   0   \n",
       "1                                                   0   \n",
       "2                                                   1   \n",
       "3                                                   0   \n",
       "4                                                   0   \n",
       "..                                                ...   \n",
       "995                                                 0   \n",
       "996                                                 1   \n",
       "997                                                 0   \n",
       "998                                                 0   \n",
       "999                                                 0   \n",
       "\n",
       "     He do not like to follow the rules  He likes to change things by himself  \\\n",
       "0                                     0                                     0   \n",
       "1                                     1                                     0   \n",
       "2                                     2                                     1   \n",
       "3                                     2                                     1   \n",
       "4                                     1                                     2   \n",
       "..                                  ...                                   ...   \n",
       "995                                   0                                     2   \n",
       "996                                   1                                     1   \n",
       "997                                   0                                     2   \n",
       "998                                   2                                     0   \n",
       "999                                   0                                     1   \n",
       "\n",
       "     It is important for him that is always his duties in full  \\\n",
       "0                                                    0           \n",
       "1                                                    0           \n",
       "2                                                    1           \n",
       "3                                                    2           \n",
       "4                                                    1           \n",
       "..                                                 ...           \n",
       "995                                                  0           \n",
       "996                                                  2           \n",
       "997                                                  2           \n",
       "998                                                  0           \n",
       "999                                                  0           \n",
       "\n",
       "     He likes to defeat obstacles  Playertype  \n",
       "0                               0           0  \n",
       "1                               1           1  \n",
       "2                               1           1  \n",
       "3                               1           1  \n",
       "4                               2           1  \n",
       "..                            ...         ...  \n",
       "995                             1           3  \n",
       "996                             1           1  \n",
       "997                             2           4  \n",
       "998                             1           1  \n",
       "999                             0           5  \n",
       "\n",
       "[1000 rows x 21 columns]"
      ]
     },
     "execution_count": 538,
     "metadata": {},
     "output_type": "execute_result"
    }
   ],
   "source": [
    "#Factorize the combined dataset into new one\n",
    "df_new = combined.apply(lambda x: pd.factorize(x)[0])\n",
    "df_new"
   ]
  },
  {
   "cell_type": "code",
   "execution_count": 539,
   "id": "2b37aa64",
   "metadata": {},
   "outputs": [
    {
     "name": "stdout",
     "output_type": "stream",
     "text": [
      "(800, 6) (200, 6) (800,) (200,)\n"
     ]
    },
    {
     "data": {
      "text/html": [
       "<div>\n",
       "<style scoped>\n",
       "    .dataframe tbody tr th:only-of-type {\n",
       "        vertical-align: middle;\n",
       "    }\n",
       "\n",
       "    .dataframe tbody tr th {\n",
       "        vertical-align: top;\n",
       "    }\n",
       "\n",
       "    .dataframe thead th {\n",
       "        text-align: right;\n",
       "    }\n",
       "</style>\n",
       "<table border=\"1\" class=\"dataframe\">\n",
       "  <thead>\n",
       "    <tr style=\"text-align: right;\">\n",
       "      <th></th>\n",
       "      <th>Does he have a hard time bearing boredom or strenuous tasks?</th>\n",
       "      <th>It takes a long time to complete simple tasks?</th>\n",
       "      <th>Does he make misspellings in his homework?</th>\n",
       "      <th>Is he having trouble maintaining attention for more than 15 minutes?</th>\n",
       "      <th>he ?it fast/slow while reading ?</th>\n",
       "      <th>Is it difficult to understand the statement of calculations and solve it?</th>\n",
       "    </tr>\n",
       "  </thead>\n",
       "  <tbody>\n",
       "    <tr>\n",
       "      <th>0</th>\n",
       "      <td>0</td>\n",
       "      <td>0</td>\n",
       "      <td>0</td>\n",
       "      <td>0</td>\n",
       "      <td>0</td>\n",
       "      <td>0</td>\n",
       "    </tr>\n",
       "    <tr>\n",
       "      <th>1</th>\n",
       "      <td>0</td>\n",
       "      <td>0</td>\n",
       "      <td>0</td>\n",
       "      <td>0</td>\n",
       "      <td>0</td>\n",
       "      <td>1</td>\n",
       "    </tr>\n",
       "    <tr>\n",
       "      <th>2</th>\n",
       "      <td>1</td>\n",
       "      <td>1</td>\n",
       "      <td>1</td>\n",
       "      <td>1</td>\n",
       "      <td>0</td>\n",
       "      <td>2</td>\n",
       "    </tr>\n",
       "    <tr>\n",
       "      <th>3</th>\n",
       "      <td>2</td>\n",
       "      <td>1</td>\n",
       "      <td>1</td>\n",
       "      <td>0</td>\n",
       "      <td>1</td>\n",
       "      <td>0</td>\n",
       "    </tr>\n",
       "    <tr>\n",
       "      <th>4</th>\n",
       "      <td>1</td>\n",
       "      <td>0</td>\n",
       "      <td>1</td>\n",
       "      <td>2</td>\n",
       "      <td>0</td>\n",
       "      <td>1</td>\n",
       "    </tr>\n",
       "  </tbody>\n",
       "</table>\n",
       "</div>"
      ],
      "text/plain": [
       "   Does he have a hard time bearing boredom or strenuous tasks?  \\\n",
       "0                                                  0              \n",
       "1                                                  0              \n",
       "2                                                  1              \n",
       "3                                                  2              \n",
       "4                                                  1              \n",
       "\n",
       "   It takes a long time to complete simple tasks?  \\\n",
       "0                                               0   \n",
       "1                                               0   \n",
       "2                                               1   \n",
       "3                                               1   \n",
       "4                                               0   \n",
       "\n",
       "   Does he make misspellings in his homework?  \\\n",
       "0                                           0   \n",
       "1                                           0   \n",
       "2                                           1   \n",
       "3                                           1   \n",
       "4                                           1   \n",
       "\n",
       "   Is he having trouble maintaining attention for more than 15 minutes?  \\\n",
       "0                                                  0                      \n",
       "1                                                  0                      \n",
       "2                                                  1                      \n",
       "3                                                  0                      \n",
       "4                                                  2                      \n",
       "\n",
       "   he ?it fast/slow while reading ?  \\\n",
       "0                                 0   \n",
       "1                                 0   \n",
       "2                                 0   \n",
       "3                                 1   \n",
       "4                                 0   \n",
       "\n",
       "   Is it difficult to understand the statement of calculations and solve it?  \n",
       "0                                                  0                          \n",
       "1                                                  1                          \n",
       "2                                                  2                          \n",
       "3                                                  0                          \n",
       "4                                                  1                          "
      ]
     },
     "execution_count": 539,
     "metadata": {},
     "output_type": "execute_result"
    }
   ],
   "source": [
    "X = df_new[(sorted_features[\"TroubleType\"])]\n",
    "Y = df_new['TypeTrouble'] \n",
    "\n",
    "Trouble_features = list(X.columns)\n",
    "\n",
    "#Split the dataset\n",
    "X_train, X_test, y_train, y_test = train_test_split(X,Y,test_size = 0.2, random_state = 0)\n",
    "print(X_train.shape,X_test.shape,y_train.shape,y_test.shape)\n",
    "\n",
    "X.head(5)"
   ]
  },
  {
   "cell_type": "code",
   "execution_count": 549,
   "id": "55dd764f",
   "metadata": {},
   "outputs": [
    {
     "data": {
      "text/plain": [
       "{0, 1, 2, 3}"
      ]
     },
     "execution_count": 549,
     "metadata": {},
     "output_type": "execute_result"
    }
   ],
   "source": [
    "set(Y)"
   ]
  },
  {
   "cell_type": "code",
   "execution_count": 560,
   "id": "714839d1",
   "metadata": {},
   "outputs": [
    {
     "name": "stdout",
     "output_type": "stream",
     "text": [
      "Metric scores :\n",
      " Accuracy: 53.50 %\n",
      " Precision: 50.67 %\n",
      " Recall: 49.47 %\n",
      " F1: 49.41 %\n",
      "\n",
      "Confusion Matrix :\n",
      "[[ 8  1  6  9]\n",
      " [ 7 48  2  8]\n",
      " [11  3 18 10]\n",
      " [15  3 18 33]]\n",
      "\n",
      "Classification Report :\n",
      "              precision    recall  f1-score   support\n",
      "\n",
      "           0       0.20      0.33      0.25        24\n",
      "           1       0.87      0.74      0.80        65\n",
      "           2       0.41      0.43      0.42        42\n",
      "           3       0.55      0.48      0.51        69\n",
      "\n",
      "    accuracy                           0.54       200\n",
      "   macro avg       0.51      0.49      0.49       200\n",
      "weighted avg       0.58      0.54      0.55       200\n",
      "\n"
     ]
    }
   ],
   "source": [
    "#Model creation and training \n",
    "forest = AdaBoostClassifier( n_estimators = 8000)\n",
    "Model_Trouble = forest.fit(X_train,y_train)\n",
    "\n",
    "#Prediction and score calculations\n",
    "Trouble_predictions = Model_Trouble.predict(X_test)\n",
    "\n",
    "accuracy = accuracy_score(Trouble_predictions,y_test)\n",
    "precision = precision_score(Trouble_predictions,y_test,average='macro')\n",
    "recall = recall_score(Trouble_predictions,y_test,average='macro')\n",
    "f1 = f1_score(Trouble_predictions,y_test,average='macro')\n",
    "\n",
    "print(\"Metric scores :\")\n",
    "print(\" Accuracy: {:.2f} %\".format(accuracy*100))\n",
    "print(\" Precision: {:.2f} %\".format(precision*100))\n",
    "print(\" Recall: {:.2f} %\".format(recall*100))\n",
    "print(\" F1: {:.2f} %\".format(f1*100))\n",
    "\n",
    "\n",
    "print(\"\\nConfusion Matrix :\")\n",
    "cm = confusion_matrix(Trouble_predictions, y_test)\n",
    "print(cm)\n",
    "\n",
    "print(\"\\nClassification Report :\")\n",
    "clf_report = classification_report(Trouble_predictions,y_test)\n",
    "print(clf_report)"
   ]
  },
  {
   "cell_type": "code",
   "execution_count": null,
   "id": "c0a72a2d",
   "metadata": {},
   "outputs": [],
   "source": []
  }
 ],
 "metadata": {
  "kernelspec": {
   "display_name": "Python 3",
   "language": "python",
   "name": "python3"
  },
  "language_info": {
   "codemirror_mode": {
    "name": "ipython",
    "version": 3
   },
   "file_extension": ".py",
   "mimetype": "text/x-python",
   "name": "python",
   "nbconvert_exporter": "python",
   "pygments_lexer": "ipython3",
   "version": "3.8.8"
  }
 },
 "nbformat": 4,
 "nbformat_minor": 5
}
